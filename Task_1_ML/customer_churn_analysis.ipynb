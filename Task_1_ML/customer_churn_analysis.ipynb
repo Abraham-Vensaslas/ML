{
 "cells": [
  {
   "cell_type": "markdown",
   "id": "293eb921",
   "metadata": {},
   "source": [
    "## PHASE 1 - EDA"
   ]
  },
  {
   "cell_type": "code",
   "execution_count": 1,
   "id": "27bc551f",
   "metadata": {},
   "outputs": [],
   "source": [
    "import pandas as pd\n",
    "import seaborn as sns\n",
    "import matplotlib.pyplot as plt\n",
    "\n",
    "df = pd.read_csv(\"/home/ubuntu/ML/customer_churn_dataset.csv\")"
   ]
  },
  {
   "cell_type": "code",
   "execution_count": 2,
   "id": "8c8941e5",
   "metadata": {},
   "outputs": [
    {
     "data": {
      "text/plain": [
       "CustomerID                   0\n",
       "Gender                       0\n",
       "Age                          0\n",
       "SubscriptionType             0\n",
       "MonthlySpend                 0\n",
       "TotalWatchTime               0\n",
       "ComplaintCount               0\n",
       "DaysSinceLastLogin           0\n",
       "Churn                        0\n",
       "AvgSessionDuration           0\n",
       "NumDevicesUsed               0\n",
       "ContentPreferenceScore    1000\n",
       "ActiveDaysLastMonth          0\n",
       "BingeWatchRatio           1000\n",
       "SkippedContentCount          0\n",
       "DiscountReceived             0\n",
       "LoyaltyScore                 0\n",
       "PlatformType                 0\n",
       "AdInteractionCount        1000\n",
       "ReferredFriendsCount         0\n",
       "SocialMediaMentions          0\n",
       "dtype: int64"
      ]
     },
     "execution_count": 2,
     "metadata": {},
     "output_type": "execute_result"
    }
   ],
   "source": [
    "df.isna().sum()"
   ]
  },
  {
   "cell_type": "code",
   "execution_count": 3,
   "id": "e5e2fc91",
   "metadata": {},
   "outputs": [
    {
     "data": {
      "text/plain": [
       "0    8028\n",
       "1    1972\n",
       "Name: Churn, dtype: int64"
      ]
     },
     "execution_count": 3,
     "metadata": {},
     "output_type": "execute_result"
    }
   ],
   "source": [
    "df['Churn'].value_counts()"
   ]
  },
  {
   "cell_type": "code",
   "execution_count": 4,
   "id": "fee81388",
   "metadata": {},
   "outputs": [
    {
     "data": {
      "text/html": [
       "<div>\n",
       "<style scoped>\n",
       "    .dataframe tbody tr th:only-of-type {\n",
       "        vertical-align: middle;\n",
       "    }\n",
       "\n",
       "    .dataframe tbody tr th {\n",
       "        vertical-align: top;\n",
       "    }\n",
       "\n",
       "    .dataframe thead th {\n",
       "        text-align: right;\n",
       "    }\n",
       "</style>\n",
       "<table border=\"1\" class=\"dataframe\">\n",
       "  <thead>\n",
       "    <tr style=\"text-align: right;\">\n",
       "      <th></th>\n",
       "      <th>CustomerID</th>\n",
       "      <th>Gender</th>\n",
       "      <th>Age</th>\n",
       "      <th>SubscriptionType</th>\n",
       "      <th>MonthlySpend</th>\n",
       "      <th>TotalWatchTime</th>\n",
       "      <th>ComplaintCount</th>\n",
       "      <th>DaysSinceLastLogin</th>\n",
       "      <th>Churn</th>\n",
       "      <th>AvgSessionDuration</th>\n",
       "      <th>...</th>\n",
       "      <th>ContentPreferenceScore</th>\n",
       "      <th>ActiveDaysLastMonth</th>\n",
       "      <th>BingeWatchRatio</th>\n",
       "      <th>SkippedContentCount</th>\n",
       "      <th>DiscountReceived</th>\n",
       "      <th>LoyaltyScore</th>\n",
       "      <th>PlatformType</th>\n",
       "      <th>AdInteractionCount</th>\n",
       "      <th>ReferredFriendsCount</th>\n",
       "      <th>SocialMediaMentions</th>\n",
       "    </tr>\n",
       "  </thead>\n",
       "  <tbody>\n",
       "    <tr>\n",
       "      <th>0</th>\n",
       "      <td>1</td>\n",
       "      <td>Male</td>\n",
       "      <td>68</td>\n",
       "      <td>Basic</td>\n",
       "      <td>11.35</td>\n",
       "      <td>27</td>\n",
       "      <td>2</td>\n",
       "      <td>57</td>\n",
       "      <td>0</td>\n",
       "      <td>208.32</td>\n",
       "      <td>...</td>\n",
       "      <td>33.0</td>\n",
       "      <td>5</td>\n",
       "      <td>5.40</td>\n",
       "      <td>3</td>\n",
       "      <td>3.16</td>\n",
       "      <td>9.850000</td>\n",
       "      <td>Mobile</td>\n",
       "      <td>18.0</td>\n",
       "      <td>2</td>\n",
       "      <td>9</td>\n",
       "    </tr>\n",
       "    <tr>\n",
       "      <th>1</th>\n",
       "      <td>2</td>\n",
       "      <td>Female</td>\n",
       "      <td>57</td>\n",
       "      <td>Standard</td>\n",
       "      <td>30.87</td>\n",
       "      <td>15</td>\n",
       "      <td>0</td>\n",
       "      <td>48</td>\n",
       "      <td>1</td>\n",
       "      <td>289.54</td>\n",
       "      <td>...</td>\n",
       "      <td>62.0</td>\n",
       "      <td>26</td>\n",
       "      <td>0.58</td>\n",
       "      <td>9</td>\n",
       "      <td>5.73</td>\n",
       "      <td>8.290000</td>\n",
       "      <td>TV</td>\n",
       "      <td>5.0</td>\n",
       "      <td>0</td>\n",
       "      <td>18</td>\n",
       "    </tr>\n",
       "    <tr>\n",
       "      <th>2</th>\n",
       "      <td>3</td>\n",
       "      <td>Male</td>\n",
       "      <td>24</td>\n",
       "      <td>Basic</td>\n",
       "      <td>32.16</td>\n",
       "      <td>0</td>\n",
       "      <td>1</td>\n",
       "      <td>34</td>\n",
       "      <td>1</td>\n",
       "      <td>194.16</td>\n",
       "      <td>...</td>\n",
       "      <td>NaN</td>\n",
       "      <td>9</td>\n",
       "      <td>0.00</td>\n",
       "      <td>2</td>\n",
       "      <td>18.09</td>\n",
       "      <td>-1.772388</td>\n",
       "      <td>Mobile</td>\n",
       "      <td>33.0</td>\n",
       "      <td>1</td>\n",
       "      <td>16</td>\n",
       "    </tr>\n",
       "    <tr>\n",
       "      <th>3</th>\n",
       "      <td>4</td>\n",
       "      <td>Male</td>\n",
       "      <td>49</td>\n",
       "      <td>Standard</td>\n",
       "      <td>35.91</td>\n",
       "      <td>21</td>\n",
       "      <td>0</td>\n",
       "      <td>35</td>\n",
       "      <td>0</td>\n",
       "      <td>245.60</td>\n",
       "      <td>...</td>\n",
       "      <td>90.0</td>\n",
       "      <td>2</td>\n",
       "      <td>10.50</td>\n",
       "      <td>4</td>\n",
       "      <td>19.78</td>\n",
       "      <td>2.380000</td>\n",
       "      <td>Mobile</td>\n",
       "      <td>10.0</td>\n",
       "      <td>8</td>\n",
       "      <td>16</td>\n",
       "    </tr>\n",
       "    <tr>\n",
       "      <th>4</th>\n",
       "      <td>5</td>\n",
       "      <td>Male</td>\n",
       "      <td>65</td>\n",
       "      <td>Standard</td>\n",
       "      <td>22.71</td>\n",
       "      <td>0</td>\n",
       "      <td>2</td>\n",
       "      <td>4</td>\n",
       "      <td>0</td>\n",
       "      <td>271.02</td>\n",
       "      <td>...</td>\n",
       "      <td>42.0</td>\n",
       "      <td>15</td>\n",
       "      <td>NaN</td>\n",
       "      <td>12</td>\n",
       "      <td>15.41</td>\n",
       "      <td>4.370000</td>\n",
       "      <td>Mobile</td>\n",
       "      <td>2.0</td>\n",
       "      <td>4</td>\n",
       "      <td>8</td>\n",
       "    </tr>\n",
       "  </tbody>\n",
       "</table>\n",
       "<p>5 rows × 21 columns</p>\n",
       "</div>"
      ],
      "text/plain": [
       "   CustomerID  Gender  Age SubscriptionType  MonthlySpend  TotalWatchTime  \\\n",
       "0           1    Male   68            Basic         11.35              27   \n",
       "1           2  Female   57         Standard         30.87              15   \n",
       "2           3    Male   24            Basic         32.16               0   \n",
       "3           4    Male   49         Standard         35.91              21   \n",
       "4           5    Male   65         Standard         22.71               0   \n",
       "\n",
       "   ComplaintCount  DaysSinceLastLogin  Churn  AvgSessionDuration  ...  \\\n",
       "0               2                  57      0              208.32  ...   \n",
       "1               0                  48      1              289.54  ...   \n",
       "2               1                  34      1              194.16  ...   \n",
       "3               0                  35      0              245.60  ...   \n",
       "4               2                   4      0              271.02  ...   \n",
       "\n",
       "   ContentPreferenceScore  ActiveDaysLastMonth  BingeWatchRatio  \\\n",
       "0                    33.0                    5             5.40   \n",
       "1                    62.0                   26             0.58   \n",
       "2                     NaN                    9             0.00   \n",
       "3                    90.0                    2            10.50   \n",
       "4                    42.0                   15              NaN   \n",
       "\n",
       "   SkippedContentCount  DiscountReceived  LoyaltyScore  PlatformType  \\\n",
       "0                    3              3.16      9.850000        Mobile   \n",
       "1                    9              5.73      8.290000            TV   \n",
       "2                    2             18.09     -1.772388        Mobile   \n",
       "3                    4             19.78      2.380000        Mobile   \n",
       "4                   12             15.41      4.370000        Mobile   \n",
       "\n",
       "  AdInteractionCount  ReferredFriendsCount  SocialMediaMentions  \n",
       "0               18.0                     2                    9  \n",
       "1                5.0                     0                   18  \n",
       "2               33.0                     1                   16  \n",
       "3               10.0                     8                   16  \n",
       "4                2.0                     4                    8  \n",
       "\n",
       "[5 rows x 21 columns]"
      ]
     },
     "execution_count": 4,
     "metadata": {},
     "output_type": "execute_result"
    }
   ],
   "source": [
    "df.head()"
   ]
  },
  {
   "cell_type": "markdown",
   "id": "6b66405f",
   "metadata": {},
   "source": [
    "Looks like the data has 3 columns 1000 missing values each and the Dv is highly imbalanced. we can analyse the column and see how we can handle these."
   ]
  },
  {
   "cell_type": "code",
   "execution_count": 5,
   "id": "b495d3c5",
   "metadata": {},
   "outputs": [],
   "source": [
    "def churn_counts_by_feature(column):\n",
    "    churn_counts = df.groupby([column, 'Churn']).size().unstack(fill_value=0)\n",
    "    churn_counts.columns = ['Not Churned', 'Churned']\n",
    "    churn_counts['Total'] = churn_counts.sum(axis=1)\n",
    "    churn_counts['Churn Rate (%)'] = (churn_counts['Churned'] / churn_counts['Total']) * 100\n",
    "    churn_counts = churn_counts.sort_values(by='Churn Rate (%)', ascending=False)\n",
    "\n",
    "    return churn_counts"
   ]
  },
  {
   "cell_type": "code",
   "execution_count": 9,
   "id": "3b36a8fc",
   "metadata": {},
   "outputs": [],
   "source": [
    "def plot_distribution_by_churn(dataframe,feature, show=True):\n",
    "    fig, ax = plt.subplots(figsize=(12, 6))\n",
    "    sns.histplot(\n",
    "        data=dataframe,\n",
    "        x=feature,\n",
    "        bins=30,\n",
    "        kde=True,\n",
    "        hue='Churn',\n",
    "        multiple='stack',\n",
    "        ax=ax\n",
    "    )\n",
    "    ax.set_title(f'{feature} Distribution by Churn Status')\n",
    "    ax.set_xlabel(feature)\n",
    "    ax.set_ylabel('Count')\n",
    "    ax.legend(title='Churn')\n",
    "\n",
    "    if show:\n",
    "        plt.show()\n",
    "    \n",
    "    return fig, ax\n"
   ]
  },
  {
   "cell_type": "code",
   "execution_count": 10,
   "id": "bd6d536c",
   "metadata": {},
   "outputs": [],
   "source": [
    "def plot_boxplot_by_churn(dataframe,feature, show=True):\n",
    "    fig, ax = plt.subplots(figsize=(10, 6))\n",
    "    sns.boxplot(data=dataframe, x='Churn', y=feature, ax=ax)\n",
    "    ax.set_title(f'{feature} Distribution by Churn Status (Boxplot)')\n",
    "    ax.set_xlabel('Churn')\n",
    "    ax.set_ylabel(feature)\n",
    "\n",
    "    if show:\n",
    "        plt.show()\n",
    "    \n",
    "    return fig, ax\n"
   ]
  },
  {
   "cell_type": "markdown",
   "id": "b5fec445",
   "metadata": {},
   "source": [
    "### Gender"
   ]
  },
  {
   "cell_type": "code",
   "execution_count": 6,
   "id": "0cf42735",
   "metadata": {},
   "outputs": [
    {
     "data": {
      "text/plain": [
       "Male      5013\n",
       "Female    4987\n",
       "Name: Gender, dtype: int64"
      ]
     },
     "execution_count": 6,
     "metadata": {},
     "output_type": "execute_result"
    }
   ],
   "source": [
    "df['Gender'].value_counts()"
   ]
  },
  {
   "cell_type": "code",
   "execution_count": 7,
   "id": "08b75ac7",
   "metadata": {},
   "outputs": [
    {
     "name": "stdout",
     "output_type": "stream",
     "text": [
      "        Not Churned  Churned  Total  Churn Rate (%)\n",
      "Gender                                             \n",
      "Male           4014      999   5013       19.928187\n",
      "Female         4014      973   4987       19.510728\n"
     ]
    }
   ],
   "source": [
    "print(churn_counts_by_feature('Gender'))"
   ]
  },
  {
   "cell_type": "markdown",
   "id": "0b1c535b",
   "metadata": {},
   "source": [
    "#### Observations\n",
    "\n",
    "Gender is nearly perfectly balanced.<br>\n",
    "Churn rate is very similar between males (19.93%) and females (19.51%).<br>\n",
    "This suggests gender is likely not a strong predictor of churn."
   ]
  },
  {
   "cell_type": "markdown",
   "id": "bfc66399",
   "metadata": {},
   "source": [
    "### Age"
   ]
  },
  {
   "cell_type": "code",
   "execution_count": 9,
   "id": "3c940ca1",
   "metadata": {},
   "outputs": [
    {
     "data": {
      "text/plain": [
       "count    10000.000000\n",
       "mean        43.316500\n",
       "std         14.942043\n",
       "min         18.000000\n",
       "25%         30.000000\n",
       "50%         43.000000\n",
       "75%         56.000000\n",
       "max         69.000000\n",
       "Name: Age, dtype: float64"
      ]
     },
     "execution_count": 9,
     "metadata": {},
     "output_type": "execute_result"
    }
   ],
   "source": [
    "df['Age'].describe()"
   ]
  },
  {
   "cell_type": "code",
   "execution_count": 15,
   "id": "d00f70ba",
   "metadata": {},
   "outputs": [
    {
     "name": "stderr",
     "output_type": "stream",
     "text": [
      "No artists with labels found to put in legend.  Note that artists whose label start with an underscore are ignored when legend() is called with no argument.\n"
     ]
    },
    {
     "data": {
      "image/png": "[encoded data removed]",
      "text/plain": [
       "<Figure size 864x432 with 1 Axes>"
      ]
     },
     "metadata": {
      "needs_background": "light"
     },
     "output_type": "display_data"
    }
   ],
   "source": [
    "plot_distribution_by_churn(df,'Age')"
   ]
  },
  {
   "cell_type": "code",
   "execution_count": 21,
   "id": "4f4d4be7",
   "metadata": {},
   "outputs": [
    {
     "data": {
      "image/png": "[encoded data removed]",
      "text/plain": [
       "<Figure size 720x432 with 1 Axes>"
      ]
     },
     "metadata": {
      "needs_background": "light"
     },
     "output_type": "display_data"
    },
    {
     "data": {
      "text/plain": [
       "(<Figure size 720x432 with 1 Axes>,\n",
       " <Axes: title={'center': 'Age Distribution by Churn Status (Boxplot)'}, xlabel='Churn', ylabel='Age'>)"
      ]
     },
     "execution_count": 21,
     "metadata": {},
     "output_type": "execute_result"
    }
   ],
   "source": [
    "plot_boxplot_by_churn(df,'Age')"
   ]
  },
  {
   "cell_type": "code",
   "execution_count": 16,
   "id": "64deb660",
   "metadata": {},
   "outputs": [],
   "source": [
    "bins = [17, 29, 44, 59, 69]  # upper limit includes max age\n",
    "labels = ['young_adults', 'mid_age', 'older_adults', 'seniors']\n",
    "df['AgeGroup'] = pd.cut(df['Age'], bins=bins, labels=labels)"
   ]
  },
  {
   "cell_type": "code",
   "execution_count": 17,
   "id": "cae0e48d",
   "metadata": {},
   "outputs": [
    {
     "data": {
      "text/plain": [
       "mid_age         3023\n",
       "older_adults    2825\n",
       "young_adults    2272\n",
       "seniors         1880\n",
       "Name: AgeGroup, dtype: int64"
      ]
     },
     "execution_count": 17,
     "metadata": {},
     "output_type": "execute_result"
    }
   ],
   "source": [
    "df['AgeGroup'].value_counts()"
   ]
  },
  {
   "cell_type": "code",
   "execution_count": 18,
   "id": "bac2ee0c",
   "metadata": {},
   "outputs": [
    {
     "name": "stdout",
     "output_type": "stream",
     "text": [
      "              Not Churned  Churned  Total  Churn Rate (%)\n",
      "AgeGroup                                                 \n",
      "seniors              1498      382   1880       20.319149\n",
      "mid_age              2418      605   3023       20.013232\n",
      "older_adults         2272      553   2825       19.575221\n",
      "young_adults         1840      432   2272       19.014085\n"
     ]
    }
   ],
   "source": [
    "print(churn_counts_by_feature('AgeGroup'))"
   ]
  },
  {
   "cell_type": "markdown",
   "id": "79a73204",
   "metadata": {},
   "source": [
    "The data is well distributed across the adult age spectrum (18–69).\n",
    "\n",
    "Distribution is fairly symmetric around the median (43), which matches the mean.\n",
    "\n",
    "No nulls or obvious outliers, so it's clean and ready for modeling.\n",
    "\n",
    "Churn rate is quite consistent across age groups — roughly between 19% and 20.3%.\n",
    "\n",
    "Seniors (60–69) show the highest churn rate at 20.32%, while Young Adults (18–29) have the lowest at 19.01%.\n",
    "\n",
    "But differences are small, indicating age alone is not a strong differentiator in churn."
   ]
  },
  {
   "cell_type": "markdown",
   "id": "4a43ef95",
   "metadata": {},
   "source": [
    "### SubscriptionType"
   ]
  },
  {
   "cell_type": "code",
   "execution_count": 22,
   "id": "1d51dd4b",
   "metadata": {},
   "outputs": [
    {
     "data": {
      "text/plain": [
       "Standard    4024\n",
       "Basic       3934\n",
       "Premium     2042\n",
       "Name: SubscriptionType, dtype: int64"
      ]
     },
     "execution_count": 22,
     "metadata": {},
     "output_type": "execute_result"
    }
   ],
   "source": [
    "df['SubscriptionType'].value_counts()"
   ]
  },
  {
   "cell_type": "code",
   "execution_count": 23,
   "id": "c500f5bc",
   "metadata": {},
   "outputs": [
    {
     "name": "stdout",
     "output_type": "stream",
     "text": [
      "                  Not Churned  Churned  Total  Churn Rate (%)\n",
      "SubscriptionType                                             \n",
      "Premium                  1624      418   2042       20.470127\n",
      "Standard                 3229      795   4024       19.756461\n",
      "Basic                    3175      759   3934       19.293340\n"
     ]
    }
   ],
   "source": [
    "print(churn_counts_by_feature('SubscriptionType'))"
   ]
  },
  {
   "cell_type": "markdown",
   "id": "e03d3899",
   "metadata": {},
   "source": [
    "The IDV does not have a missing value. Premium has the highest churn rate (~20.5%), even though it's the highest-tier plan.\n",
    "\n",
    "This might seem counterintuitive — perhaps users don’t feel they’re getting value for the higher price.\n",
    "\n",
    "Suggests a need to investigate content satisfaction or tech issues with Premium users.\n",
    "\n",
    "Standard and Basic have similar churn rates (~19%), slightly better than Premium.\n",
    "\n",
    "This might indicate more stable satisfaction at these price levels.\n",
    "\n",
    "Premium users have the highest churn rate, implying a potential mismatch between pricing and perceived value. The company should investigate the Premium experience — are features delivering enough value? Consider personalized engagement or loyalty incentives for this tier."
   ]
  },
  {
   "cell_type": "markdown",
   "id": "f596a613",
   "metadata": {},
   "source": [
    "### MonthlySpend"
   ]
  },
  {
   "cell_type": "code",
   "execution_count": 24,
   "id": "396613e4",
   "metadata": {},
   "outputs": [
    {
     "data": {
      "text/plain": [
       "count    10000.000000\n",
       "mean        28.578830\n",
       "std         18.032781\n",
       "min          5.000000\n",
       "25%         16.487500\n",
       "50%         27.845000\n",
       "75%         38.890000\n",
       "max        247.300000\n",
       "Name: MonthlySpend, dtype: float64"
      ]
     },
     "execution_count": 24,
     "metadata": {},
     "output_type": "execute_result"
    }
   ],
   "source": [
    "df['MonthlySpend'].describe()"
   ]
  },
  {
   "cell_type": "code",
   "execution_count": 27,
   "id": "8f626ba1",
   "metadata": {},
   "outputs": [
    {
     "name": "stderr",
     "output_type": "stream",
     "text": [
      "No artists with labels found to put in legend.  Note that artists whose label start with an underscore are ignored when legend() is called with no argument.\n"
     ]
    },
    {
     "data": {
      "image/png": "[encoded data removed]",
      "text/plain": [
       "<Figure size 864x432 with 1 Axes>"
      ]
     },
     "metadata": {
      "needs_background": "light"
     },
     "output_type": "display_data"
    },
    {
     "data": {
      "text/plain": [
       "(<Figure size 864x432 with 1 Axes>,\n",
       " <Axes: title={'center': 'MonthlySpend Distribution by Churn Status'}, xlabel='MonthlySpend', ylabel='Count'>)"
      ]
     },
     "execution_count": 27,
     "metadata": {},
     "output_type": "execute_result"
    }
   ],
   "source": [
    "plot_distribution_by_churn(df,'MonthlySpend')"
   ]
  },
  {
   "cell_type": "code",
   "execution_count": 28,
   "id": "28704820",
   "metadata": {},
   "outputs": [
    {
     "data": {
      "image/png": "[encoded data removed]",
      "text/plain": [
       "<Figure size 720x432 with 1 Axes>"
      ]
     },
     "metadata": {
      "needs_background": "light"
     },
     "output_type": "display_data"
    },
    {
     "data": {
      "text/plain": [
       "(<Figure size 720x432 with 1 Axes>,\n",
       " <Axes: title={'center': 'MonthlySpend Distribution by Churn Status (Boxplot)'}, xlabel='Churn', ylabel='MonthlySpend'>)"
      ]
     },
     "execution_count": 28,
     "metadata": {},
     "output_type": "execute_result"
    }
   ],
   "source": [
    "plot_boxplot_by_churn(df,'MonthlySpend')"
   ]
  },
  {
   "cell_type": "markdown",
   "id": "35c80d76",
   "metadata": {},
   "source": [
    "Distribution is likely right-skewed, given that the max (247) is much higher than the mean and 75th percentile.\n",
    "\n",
    "Most users spend between 16.49 and 38.89, with some outliers in high spend.\n",
    "\n",
    "MonthlySpend is a continuous, numerical feature — useful in nearly all models."
   ]
  },
  {
   "cell_type": "code",
   "execution_count": 31,
   "id": "ae59e07e",
   "metadata": {},
   "outputs": [
    {
     "name": "stderr",
     "output_type": "stream",
     "text": [
      "No artists with labels found to put in legend.  Note that artists whose label start with an underscore are ignored when legend() is called with no argument.\n"
     ]
    },
    {
     "data": {
      "image/png": "[encoded data removed]",
      "text/plain": [
       "<Figure size 864x432 with 1 Axes>"
      ]
     },
     "metadata": {
      "needs_background": "light"
     },
     "output_type": "display_data"
    },
    {
     "data": {
      "text/plain": [
       "(<Figure size 864x432 with 1 Axes>,\n",
       " <Axes: title={'center': 'MonthlySpend_log Distribution by Churn Status'}, xlabel='MonthlySpend_log', ylabel='Count'>)"
      ]
     },
     "execution_count": 31,
     "metadata": {},
     "output_type": "execute_result"
    }
   ],
   "source": [
    "import numpy as np\n",
    "#lets apply log transformationand see if it handled the skewness\n",
    "df['MonthlySpend_log'] = np.log1p(df['MonthlySpend'])\n",
    "plot_distribution_by_churn(df,'MonthlySpend_log')"
   ]
  },
  {
   "cell_type": "code",
   "execution_count": 32,
   "id": "910a6ad4",
   "metadata": {},
   "outputs": [],
   "source": [
    "#Create spending segments (e.g., low, medium, high spenders).\n",
    "df['SpendBucket'] = pd.qcut(df['MonthlySpend_log'], q=3, labels=['Low', 'Medium', 'High'])"
   ]
  },
  {
   "cell_type": "code",
   "execution_count": 33,
   "id": "05e4873d",
   "metadata": {},
   "outputs": [
    {
     "name": "stdout",
     "output_type": "stream",
     "text": [
      "             Not Churned  Churned  Total  Churn Rate (%)\n",
      "SpendBucket                                             \n",
      "Low                 2668      668   3336       20.023981\n",
      "High                2676      657   3333       19.711971\n",
      "Medium              2684      647   3331       19.423597\n"
     ]
    }
   ],
   "source": [
    "print(churn_counts_by_feature('SpendBucket'))"
   ]
  },
  {
   "cell_type": "markdown",
   "id": "ac6595ea",
   "metadata": {},
   "source": [
    "There is no clear pattern, suggesting MonthlySpend still has limited value on its own.\n",
    "\n",
    "differences are minimal across spend bucket.\n",
    "\n",
    "This reinforces the idea that price alone isn't driving retention — it's likely more about experience, content value, or user engagement."
   ]
  },
  {
   "cell_type": "markdown",
   "id": "ccb6c30a",
   "metadata": {},
   "source": [
    "### TotalWatchTime"
   ]
  },
  {
   "cell_type": "code",
   "execution_count": 34,
   "id": "bebeda0f",
   "metadata": {},
   "outputs": [
    {
     "data": {
      "text/plain": [
       "count    10000.000000\n",
       "mean        24.501400\n",
       "std         14.427551\n",
       "min          0.000000\n",
       "25%         12.000000\n",
       "50%         25.000000\n",
       "75%         37.000000\n",
       "max         49.000000\n",
       "Name: TotalWatchTime, dtype: float64"
      ]
     },
     "execution_count": 34,
     "metadata": {},
     "output_type": "execute_result"
    }
   ],
   "source": [
    "df['TotalWatchTime'].describe()"
   ]
  },
  {
   "cell_type": "code",
   "execution_count": 35,
   "id": "ec1ed7af",
   "metadata": {},
   "outputs": [
    {
     "name": "stderr",
     "output_type": "stream",
     "text": [
      "No artists with labels found to put in legend.  Note that artists whose label start with an underscore are ignored when legend() is called with no argument.\n"
     ]
    },
    {
     "data": {
      "image/png": "[encoded data removed]",
      "text/plain": [
       "<Figure size 864x432 with 1 Axes>"
      ]
     },
     "metadata": {
      "needs_background": "light"
     },
     "output_type": "display_data"
    },
    {
     "data": {
      "text/plain": [
       "(<Figure size 864x432 with 1 Axes>,\n",
       " <Axes: title={'center': 'TotalWatchTime Distribution by Churn Status'}, xlabel='TotalWatchTime', ylabel='Count'>)"
      ]
     },
     "execution_count": 35,
     "metadata": {},
     "output_type": "execute_result"
    }
   ],
   "source": [
    "plot_distribution_by_churn(df,'TotalWatchTime')"
   ]
  },
  {
   "cell_type": "code",
   "execution_count": 36,
   "id": "8110ecca",
   "metadata": {},
   "outputs": [
    {
     "data": {
      "image/png": "[encoded data removed]",
      "text/plain": [
       "<Figure size 720x432 with 1 Axes>"
      ]
     },
     "metadata": {
      "needs_background": "light"
     },
     "output_type": "display_data"
    },
    {
     "data": {
      "text/plain": [
       "(<Figure size 720x432 with 1 Axes>,\n",
       " <Axes: title={'center': 'TotalWatchTime Distribution by Churn Status (Boxplot)'}, xlabel='Churn', ylabel='TotalWatchTime'>)"
      ]
     },
     "execution_count": 36,
     "metadata": {},
     "output_type": "execute_result"
    }
   ],
   "source": [
    "plot_boxplot_by_churn(df,'TotalWatchTime')"
   ]
  },
  {
   "cell_type": "markdown",
   "id": "6dbd89db",
   "metadata": {},
   "source": [
    "Watch time ranges from 0 to 49 hours, with a fairly wide spread.\n",
    "\n",
    "The distribution seems symmetric, with a median of 25 and max value 49.\n",
    "\n",
    "This feature likely correlates negatively with churn — low engagement users tend to churn more.\n",
    "\n",
    "Anyway lets see how it goes while splitting it into different buckets"
   ]
  },
  {
   "cell_type": "code",
   "execution_count": 37,
   "id": "cff5f2c9",
   "metadata": {},
   "outputs": [
    {
     "name": "stdout",
     "output_type": "stream",
     "text": [
      "             Not Churned  Churned  Total  Churn Rate (%)\n",
      "WatchBucket                                             \n",
      "Very Low            2075      535   2610       20.498084\n",
      "High                1928      476   2404       19.800333\n",
      "Medium              1964      474   2438       19.442166\n",
      "Low                 2061      487   2548       19.113030\n"
     ]
    }
   ],
   "source": [
    "df['WatchBucket'] = pd.qcut(df['TotalWatchTime'], q=4, labels=['Very Low', 'Low', 'Medium', 'High'])\n",
    "print(churn_counts_by_feature('WatchBucket'))"
   ]
  },
  {
   "cell_type": "markdown",
   "id": "95ebec97",
   "metadata": {},
   "source": [
    "Churn rates are fairly consistent across all watch time buckets, with a range of 19.1% to 20.5%.\n",
    "\n",
    "Watch time doesn't seem to be a strong differentiator for churn. Users who engage at any level still churn at almost the same rate.\n",
    "\n",
    "we can cross this with other features (e.g., SubscriptionType, AgeGroup) to see if watch time combined with other features can explain churn."
   ]
  },
  {
   "cell_type": "markdown",
   "id": "16ee49e0",
   "metadata": {},
   "source": [
    "### ComplaintCount"
   ]
  },
  {
   "cell_type": "code",
   "execution_count": 38,
   "id": "704a759c",
   "metadata": {},
   "outputs": [
    {
     "data": {
      "text/plain": [
       "count    10000.000000\n",
       "mean         1.000300\n",
       "std          1.001299\n",
       "min          0.000000\n",
       "25%          0.000000\n",
       "50%          1.000000\n",
       "75%          2.000000\n",
       "max          8.000000\n",
       "Name: ComplaintCount, dtype: float64"
      ]
     },
     "execution_count": 38,
     "metadata": {},
     "output_type": "execute_result"
    }
   ],
   "source": [
    "df['ComplaintCount'].describe()"
   ]
  },
  {
   "cell_type": "markdown",
   "id": "c42fffad",
   "metadata": {},
   "source": [
    "behavioral feature that might provide useful insights into churn. It reflects how many times a customer has complained, and it can be a strong predictor of dissatisfaction.\n",
    "\n",
    "25th percentile: 0 (25% have no complaints)\n",
    "\n",
    "Median: 1 (50% have 1 or fewer complaints)\n",
    "\n",
    "75th percentile: 2 (75% have 2 or fewer complaints)\n",
    "\n",
    "Max: 8 (some users have made up to 8 complaints)\n",
    "\n",
    "\n",
    "Majority of customers (75%) have made 2 or fewer complaints logically this means most users either don't complain or complain rarely.\n",
    "\n",
    "A small group of customers has made many complaints (up to 8), which could indicate high dissatisfaction and a strong indicator of potential churn."
   ]
  },
  {
   "cell_type": "code",
   "execution_count": 39,
   "id": "1579de55",
   "metadata": {},
   "outputs": [
    {
     "name": "stdout",
     "output_type": "stream",
     "text": [
      "                     Not Churned  Churned  Total  Churn Rate (%)\n",
      "ComplaintBucket                                                 \n",
      "Multiple Complaints          137       38    175       21.714286\n",
      "2 Complaints                1483      388   1871       20.737573\n",
      "1 Complaint                 2902      720   3622       19.878520\n",
      "No Complaints               2979      722   3701       19.508241\n",
      "3 Complaints                 527      104    631       16.481775\n"
     ]
    }
   ],
   "source": [
    "# Define complaint buckets\n",
    "df['ComplaintBucket'] = pd.cut(df['ComplaintCount'], bins=[-1, 0, 1, 2, 3, 8], labels=['No Complaints', '1 Complaint', '2 Complaints', '3 Complaints', 'Multiple Complaints'])\n",
    "print(churn_counts_by_feature('ComplaintBucket'))"
   ]
  },
  {
   "cell_type": "markdown",
   "id": "8104adfe",
   "metadata": {},
   "source": [
    "Churn rate increases as the number of complaints rises — users with multiple complaints (21.71%) churn the most, followed by those with 2 complaints (20.74%).\n",
    "\n",
    "The lowest churn rate occurs among users with 3 complaints (16.48%) — this is interesting and could suggest that users with moderate complaints (not too few, not too many) might be resolving their issues.\n",
    "\n",
    "The pattern isn't strictly linear, but there is a noticeable trend: more complaints correlate with a higher churn rate.\n",
    "\n",
    "Complaint count is a clear predictor of churn, especially when users have multiple complaints. These users might be dissatisfied or frustrated, and the company should focus on resolving their issues promptly to prevent churn."
   ]
  },
  {
   "cell_type": "markdown",
   "id": "b4695cef",
   "metadata": {},
   "source": [
    "### DaysSinceLastLogin"
   ]
  },
  {
   "cell_type": "code",
   "execution_count": 40,
   "id": "45091207",
   "metadata": {},
   "outputs": [
    {
     "data": {
      "text/plain": [
       "count    10000.000000\n",
       "mean        29.457000\n",
       "std         17.238488\n",
       "min          0.000000\n",
       "25%         14.000000\n",
       "50%         30.000000\n",
       "75%         44.000000\n",
       "max         59.000000\n",
       "Name: DaysSinceLastLogin, dtype: float64"
      ]
     },
     "execution_count": 40,
     "metadata": {},
     "output_type": "execute_result"
    }
   ],
   "source": [
    "df['DaysSinceLastLogin'].describe()"
   ]
  },
  {
   "cell_type": "markdown",
   "id": "f8ad7623",
   "metadata": {},
   "source": [
    "25th percentile: 14 days (25% of users logged in in the last 14 days)\n",
    "\n",
    "Median: 30 days (50% of users logged in in the last 30 days)\n",
    "\n",
    "75th percentile: 44 days (75% of users logged in in the last 44 days)\n",
    "\n",
    "Max: 59 days (some users haven't logged in for almost 2 months)\n",
    "\n",
    "Majority of users seem to log in at least once in the last 30-40 days.\n",
    "\n",
    "0 days (just logged in) and 59 days (last login almost two months ago) suggest significant differences in recent activity.\n",
    "\n",
    "Users who haven’t logged in for a long time are at high risk of churn (e.g., 59 days could indicate abandonment)."
   ]
  },
  {
   "cell_type": "code",
   "execution_count": 41,
   "id": "b225866c",
   "metadata": {},
   "outputs": [
    {
     "name": "stdout",
     "output_type": "stream",
     "text": [
      "             Not Churned  Churned  Total  Churn Rate (%)\n",
      "LoginBucket                                             \n",
      "2 Weeks              918      230   1148       20.034843\n",
      "1 Month             2137      530   2667       19.872516\n",
      "2+ Months           3878      953   4831       19.726765\n",
      "1 Week              1095      259   1354       19.128508\n"
     ]
    }
   ],
   "source": [
    "# Define buckets based on quartiles\n",
    "df['LoginBucket'] = pd.cut(df['DaysSinceLastLogin'], bins=[-1, 7, 14, 30, 60], labels=['1 Week', '2 Weeks', '1 Month', '2+ Months'])\n",
    "print(churn_counts_by_feature('LoginBucket'))"
   ]
  },
  {
   "cell_type": "markdown",
   "id": "990f5215",
   "metadata": {},
   "source": [
    "Churn rate is fairly consistent across the buckets (ranging from 19.12% to 20.03%).\n",
    "\n",
    "Users who haven’t logged in for more than a month (2+ months) still have a churn rate (19.73%) that is close to the others.\n",
    "\n",
    "2 weeks has less sample but still the churn rates higher and matching with other segments. So it has some correlation with the DV."
   ]
  },
  {
   "cell_type": "markdown",
   "id": "aea87d3f",
   "metadata": {},
   "source": [
    "### AvgSessionDuration"
   ]
  },
  {
   "cell_type": "code",
   "execution_count": 42,
   "id": "ff886c12",
   "metadata": {},
   "outputs": [
    {
     "data": {
      "text/plain": [
       "count    10000.000000\n",
       "mean       153.449057\n",
       "std         84.909956\n",
       "min          5.040000\n",
       "25%         79.205000\n",
       "50%        154.925000\n",
       "75%        227.545000\n",
       "max        299.960000\n",
       "Name: AvgSessionDuration, dtype: float64"
      ]
     },
     "execution_count": 42,
     "metadata": {},
     "output_type": "execute_result"
    }
   ],
   "source": [
    "df['AvgSessionDuration'].describe()"
   ]
  },
  {
   "cell_type": "code",
   "execution_count": 43,
   "id": "f04d4609",
   "metadata": {},
   "outputs": [
    {
     "name": "stderr",
     "output_type": "stream",
     "text": [
      "No artists with labels found to put in legend.  Note that artists whose label start with an underscore are ignored when legend() is called with no argument.\n"
     ]
    },
    {
     "data": {
      "image/png": "[encoded data removed]",
      "text/plain": [
       "<Figure size 864x432 with 1 Axes>"
      ]
     },
     "metadata": {
      "needs_background": "light"
     },
     "output_type": "display_data"
    },
    {
     "data": {
      "image/png": "[encoded data removed]",
      "text/plain": [
       "<Figure size 720x432 with 1 Axes>"
      ]
     },
     "metadata": {
      "needs_background": "light"
     },
     "output_type": "display_data"
    },
    {
     "data": {
      "text/plain": [
       "(<Figure size 720x432 with 1 Axes>,\n",
       " <Axes: title={'center': 'AvgSessionDuration Distribution by Churn Status (Boxplot)'}, xlabel='Churn', ylabel='AvgSessionDuration'>)"
      ]
     },
     "execution_count": 43,
     "metadata": {},
     "output_type": "execute_result"
    }
   ],
   "source": [
    "plot_distribution_by_churn(df,'AvgSessionDuration')\n",
    "plot_boxplot_by_churn(df,'AvgSessionDuration')"
   ]
  },
  {
   "cell_type": "markdown",
   "id": "30f37814",
   "metadata": {},
   "source": [
    "The average session duration is relatively long (mean = 153 minutes), but there's high variability (std = 85 minutes).\n",
    "\n",
    "A few users spend much longer per session, with the maximum session duration being just under 5 hours.\n",
    "\n",
    "Short sessions (e.g., < 10 minutes) might indicate poor engagement, while long sessions likely reflect higher satisfaction or engagement.\n",
    "\n"
   ]
  },
  {
   "cell_type": "code",
   "execution_count": 44,
   "id": "0fa0670d",
   "metadata": {},
   "outputs": [
    {
     "name": "stdout",
     "output_type": "stream",
     "text": [
      "               Not Churned  Churned  Total  Churn Rate (%)\n",
      "SessionBucket                                             \n",
      "30-90 min             1608      450   2058       21.865889\n",
      "< 30 min               656      170    826       20.581114\n",
      "> 150 min             4172      984   5156       19.084562\n",
      "90-150 min            1592      368   1960       18.775510\n"
     ]
    }
   ],
   "source": [
    "# Define session buckets\n",
    "df['SessionBucket'] = pd.cut(df['AvgSessionDuration'], bins=[-1, 30, 90, 150, 300], labels=['< 30 min', '30-90 min', '90-150 min', '> 150 min'])\n",
    "print(churn_counts_by_feature('SessionBucket'))"
   ]
  },
  {
   "cell_type": "markdown",
   "id": "2be8396a",
   "metadata": {},
   "source": [
    "The highest churn rate occurs in the 30-90 minute bucket (21.87%), followed by the < 30 min bucket (20.58%).\n",
    "\n",
    "Users who spend 90-150 minutes per session have the lowest churn rate (18.78%), indicating they might be more engaged.\n",
    "\n",
    "Users who spend the longest time (>150 min) also have a relatively low churn rate (19.08%), but it's still higher than the 90-150 min bucket.\n",
    "\n",
    "30-90 minutes - While they spend a reasonable amount of time on the platform, they exhibit the highest churn rate, which could indicate that they are not fully satisfied or engaged.\n",
    "\n",
    "Users in the 90-150 min bucket have lower churn rates, so finding ways to increase engagement for users with shorter sessions could potentially reduce churn.\n"
   ]
  },
  {
   "cell_type": "markdown",
   "id": "8a6bc2a7",
   "metadata": {},
   "source": [
    "### NumDevicesUsed"
   ]
  },
  {
   "cell_type": "code",
   "execution_count": 45,
   "id": "781768d3",
   "metadata": {},
   "outputs": [
    {
     "data": {
      "text/plain": [
       "count    10000.000000\n",
       "mean         2.510900\n",
       "std          1.123747\n",
       "min          1.000000\n",
       "25%          1.000000\n",
       "50%          3.000000\n",
       "75%          4.000000\n",
       "max          4.000000\n",
       "Name: NumDevicesUsed, dtype: float64"
      ]
     },
     "execution_count": 45,
     "metadata": {},
     "output_type": "execute_result"
    }
   ],
   "source": [
    "df['NumDevicesUsed'].describe()"
   ]
  },
  {
   "cell_type": "code",
   "execution_count": 47,
   "id": "3662e88b",
   "metadata": {},
   "outputs": [],
   "source": [
    "df['DevicesBucket'] = pd.cut(df['NumDevicesUsed'], bins=[0, 1, 2, 3, 4], labels=['1 Device', '2 Devices', '3 Devices', '4 Devices'])"
   ]
  },
  {
   "cell_type": "code",
   "execution_count": 48,
   "id": "7a945193",
   "metadata": {},
   "outputs": [
    {
     "name": "stdout",
     "output_type": "stream",
     "text": [
      "               Not Churned  Churned  Total  Churn Rate (%)\n",
      "DevicesBucket                                             \n",
      "1 Device              2000      515   2515       20.477137\n",
      "3 Devices             2015      511   2526       20.229612\n",
      "2 Devices             1926      484   2410       20.082988\n",
      "4 Devices             2087      462   2549       18.124755\n"
     ]
    }
   ],
   "source": [
    "print(churn_counts_by_feature('DevicesBucket'))"
   ]
  },
  {
   "cell_type": "markdown",
   "id": "86c16635",
   "metadata": {},
   "source": [
    "The number of devices used doesn't show a dramatic effect on churn, though users with 4 devices appear to churn slightly less, which could indicate greater engagement or multiple touchpoints for content consumption.\n",
    "\n",
    "However, the difference is not large enough to confidently conclude that more devices directly reduce churn. It could be that other factors (e.g., content preferences, usage behavior, subscription plans) have a stronger influence."
   ]
  },
  {
   "cell_type": "markdown",
   "id": "e553148b",
   "metadata": {},
   "source": [
    "### ContentPreferenceScore"
   ]
  },
  {
   "cell_type": "code",
   "execution_count": 49,
   "id": "760cb0bf",
   "metadata": {},
   "outputs": [
    {
     "data": {
      "text/plain": [
       "count    9000.000000\n",
       "mean       50.146835\n",
       "std        29.144203\n",
       "min       -18.674969\n",
       "25%        25.000000\n",
       "50%        50.000000\n",
       "75%        76.000000\n",
       "max       113.442819\n",
       "Name: ContentPreferenceScore, dtype: float64"
      ]
     },
     "execution_count": 49,
     "metadata": {},
     "output_type": "execute_result"
    }
   ],
   "source": [
    "df['ContentPreferenceScore'].describe()"
   ]
  },
  {
   "cell_type": "markdown",
   "id": "ad0f6f84",
   "metadata": {},
   "source": [
    "Min = -18.67 likely data error or incorrect imputation\n",
    "\n",
    "Max = 113.44 possibly outlier or scaling error\n",
    "\n",
    "This feature is crucial as it directly indicates how well the platform's content aligns with a customer's preferences. A higher content preference score typically means the customer is more satisfied with the content, which could correlate with lower churn."
   ]
  },
  {
   "cell_type": "code",
   "execution_count": 50,
   "id": "6454a460",
   "metadata": {},
   "outputs": [
    {
     "name": "stdout",
     "output_type": "stream",
     "text": [
      "                  Not Churned  Churned  Total  Churn Rate (%)\n",
      "PreferenceBucket                                             \n",
      "Low                      2159      572   2731       20.944709\n",
      "Medium                   2162      523   2685       19.478585\n",
      "High                     2151      518   2669       19.408018\n",
      "Very High                 734      152    886       17.155756\n"
     ]
    }
   ],
   "source": [
    "df['PreferenceBucket'] = pd.cut(df['ContentPreferenceScore'], bins=[-1, 30, 60, 90, 100], \n",
    "                                 labels=['Low', 'Medium', 'High', 'Very High'])\n",
    "print(churn_counts_by_feature('PreferenceBucket'))"
   ]
  },
  {
   "cell_type": "code",
   "execution_count": 55,
   "id": "4f14b371",
   "metadata": {},
   "outputs": [
    {
     "data": {
      "image/png": "[encoded data removed]",
      "text/plain": [
       "<Figure size 720x432 with 1 Axes>"
      ]
     },
     "metadata": {
      "needs_background": "light"
     },
     "output_type": "display_data"
    },
    {
     "data": {
      "text/plain": [
       "(<Figure size 720x432 with 1 Axes>,\n",
       " <Axes: title={'center': 'ContentPreferenceScore Distribution by Churn Status (Boxplot)'}, xlabel='Churn', ylabel='ContentPreferenceScore'>)"
      ]
     },
     "execution_count": 55,
     "metadata": {},
     "output_type": "execute_result"
    }
   ],
   "source": [
    "plot_boxplot_by_churn(df,'ContentPreferenceScore')"
   ]
  },
  {
   "cell_type": "code",
   "execution_count": 59,
   "id": "fdc9c66f",
   "metadata": {},
   "outputs": [
    {
     "data": {
      "text/html": [
       "<div>\n",
       "<style scoped>\n",
       "    .dataframe tbody tr th:only-of-type {\n",
       "        vertical-align: middle;\n",
       "    }\n",
       "\n",
       "    .dataframe tbody tr th {\n",
       "        vertical-align: top;\n",
       "    }\n",
       "\n",
       "    .dataframe thead th {\n",
       "        text-align: right;\n",
       "    }\n",
       "</style>\n",
       "<table border=\"1\" class=\"dataframe\">\n",
       "  <thead>\n",
       "    <tr style=\"text-align: right;\">\n",
       "      <th></th>\n",
       "      <th>CustomerID</th>\n",
       "      <th>Gender</th>\n",
       "      <th>Age</th>\n",
       "      <th>SubscriptionType</th>\n",
       "      <th>MonthlySpend</th>\n",
       "      <th>TotalWatchTime</th>\n",
       "      <th>ComplaintCount</th>\n",
       "      <th>DaysSinceLastLogin</th>\n",
       "      <th>Churn</th>\n",
       "      <th>AvgSessionDuration</th>\n",
       "      <th>...</th>\n",
       "      <th>SocialMediaMentions</th>\n",
       "      <th>AgeGroup</th>\n",
       "      <th>MonthlySpend_log</th>\n",
       "      <th>SpendBucket</th>\n",
       "      <th>WatchBucket</th>\n",
       "      <th>ComplaintBucket</th>\n",
       "      <th>LoginBucket</th>\n",
       "      <th>SessionBucket</th>\n",
       "      <th>DevicesBucket</th>\n",
       "      <th>PreferenceBucket</th>\n",
       "    </tr>\n",
       "  </thead>\n",
       "  <tbody>\n",
       "    <tr>\n",
       "      <th>534</th>\n",
       "      <td>535</td>\n",
       "      <td>Male</td>\n",
       "      <td>61</td>\n",
       "      <td>Basic</td>\n",
       "      <td>8.66</td>\n",
       "      <td>9</td>\n",
       "      <td>1</td>\n",
       "      <td>17</td>\n",
       "      <td>0</td>\n",
       "      <td>68.57</td>\n",
       "      <td>...</td>\n",
       "      <td>15</td>\n",
       "      <td>seniors</td>\n",
       "      <td>2.267994</td>\n",
       "      <td>Low</td>\n",
       "      <td>Very Low</td>\n",
       "      <td>1 Complaint</td>\n",
       "      <td>1 Month</td>\n",
       "      <td>30-90 min</td>\n",
       "      <td>2 Devices</td>\n",
       "      <td>NaN</td>\n",
       "    </tr>\n",
       "    <tr>\n",
       "      <th>830</th>\n",
       "      <td>831</td>\n",
       "      <td>Male</td>\n",
       "      <td>28</td>\n",
       "      <td>Basic</td>\n",
       "      <td>48.65</td>\n",
       "      <td>21</td>\n",
       "      <td>1</td>\n",
       "      <td>43</td>\n",
       "      <td>0</td>\n",
       "      <td>37.64</td>\n",
       "      <td>...</td>\n",
       "      <td>8</td>\n",
       "      <td>young_adults</td>\n",
       "      <td>3.904998</td>\n",
       "      <td>High</td>\n",
       "      <td>Low</td>\n",
       "      <td>1 Complaint</td>\n",
       "      <td>2+ Months</td>\n",
       "      <td>30-90 min</td>\n",
       "      <td>3 Devices</td>\n",
       "      <td>Low</td>\n",
       "    </tr>\n",
       "    <tr>\n",
       "      <th>1356</th>\n",
       "      <td>1357</td>\n",
       "      <td>Female</td>\n",
       "      <td>51</td>\n",
       "      <td>Standard</td>\n",
       "      <td>239.30</td>\n",
       "      <td>18</td>\n",
       "      <td>0</td>\n",
       "      <td>20</td>\n",
       "      <td>0</td>\n",
       "      <td>282.55</td>\n",
       "      <td>...</td>\n",
       "      <td>7</td>\n",
       "      <td>older_adults</td>\n",
       "      <td>5.481888</td>\n",
       "      <td>High</td>\n",
       "      <td>Low</td>\n",
       "      <td>No Complaints</td>\n",
       "      <td>1 Month</td>\n",
       "      <td>&gt; 150 min</td>\n",
       "      <td>2 Devices</td>\n",
       "      <td>NaN</td>\n",
       "    </tr>\n",
       "    <tr>\n",
       "      <th>2361</th>\n",
       "      <td>2362</td>\n",
       "      <td>Female</td>\n",
       "      <td>50</td>\n",
       "      <td>Basic</td>\n",
       "      <td>39.92</td>\n",
       "      <td>19</td>\n",
       "      <td>2</td>\n",
       "      <td>16</td>\n",
       "      <td>1</td>\n",
       "      <td>253.79</td>\n",
       "      <td>...</td>\n",
       "      <td>3</td>\n",
       "      <td>older_adults</td>\n",
       "      <td>3.711619</td>\n",
       "      <td>High</td>\n",
       "      <td>Low</td>\n",
       "      <td>2 Complaints</td>\n",
       "      <td>1 Month</td>\n",
       "      <td>&gt; 150 min</td>\n",
       "      <td>3 Devices</td>\n",
       "      <td>NaN</td>\n",
       "    </tr>\n",
       "    <tr>\n",
       "      <th>2589</th>\n",
       "      <td>2590</td>\n",
       "      <td>Male</td>\n",
       "      <td>30</td>\n",
       "      <td>Basic</td>\n",
       "      <td>19.60</td>\n",
       "      <td>22</td>\n",
       "      <td>1</td>\n",
       "      <td>48</td>\n",
       "      <td>0</td>\n",
       "      <td>178.81</td>\n",
       "      <td>...</td>\n",
       "      <td>12</td>\n",
       "      <td>mid_age</td>\n",
       "      <td>3.025291</td>\n",
       "      <td>Low</td>\n",
       "      <td>Low</td>\n",
       "      <td>1 Complaint</td>\n",
       "      <td>2+ Months</td>\n",
       "      <td>&gt; 150 min</td>\n",
       "      <td>2 Devices</td>\n",
       "      <td>NaN</td>\n",
       "    </tr>\n",
       "    <tr>\n",
       "      <th>5366</th>\n",
       "      <td>5367</td>\n",
       "      <td>Male</td>\n",
       "      <td>55</td>\n",
       "      <td>Basic</td>\n",
       "      <td>20.29</td>\n",
       "      <td>46</td>\n",
       "      <td>0</td>\n",
       "      <td>54</td>\n",
       "      <td>0</td>\n",
       "      <td>144.77</td>\n",
       "      <td>...</td>\n",
       "      <td>19</td>\n",
       "      <td>older_adults</td>\n",
       "      <td>3.058237</td>\n",
       "      <td>Medium</td>\n",
       "      <td>High</td>\n",
       "      <td>No Complaints</td>\n",
       "      <td>2+ Months</td>\n",
       "      <td>90-150 min</td>\n",
       "      <td>2 Devices</td>\n",
       "      <td>Low</td>\n",
       "    </tr>\n",
       "    <tr>\n",
       "      <th>5969</th>\n",
       "      <td>5970</td>\n",
       "      <td>Male</td>\n",
       "      <td>45</td>\n",
       "      <td>Standard</td>\n",
       "      <td>48.96</td>\n",
       "      <td>39</td>\n",
       "      <td>2</td>\n",
       "      <td>49</td>\n",
       "      <td>1</td>\n",
       "      <td>210.55</td>\n",
       "      <td>...</td>\n",
       "      <td>4</td>\n",
       "      <td>older_adults</td>\n",
       "      <td>3.911223</td>\n",
       "      <td>High</td>\n",
       "      <td>High</td>\n",
       "      <td>2 Complaints</td>\n",
       "      <td>2+ Months</td>\n",
       "      <td>&gt; 150 min</td>\n",
       "      <td>2 Devices</td>\n",
       "      <td>NaN</td>\n",
       "    </tr>\n",
       "    <tr>\n",
       "      <th>6318</th>\n",
       "      <td>6319</td>\n",
       "      <td>Female</td>\n",
       "      <td>47</td>\n",
       "      <td>Basic</td>\n",
       "      <td>19.32</td>\n",
       "      <td>34</td>\n",
       "      <td>2</td>\n",
       "      <td>45</td>\n",
       "      <td>0</td>\n",
       "      <td>144.33</td>\n",
       "      <td>...</td>\n",
       "      <td>6</td>\n",
       "      <td>older_adults</td>\n",
       "      <td>3.011606</td>\n",
       "      <td>Low</td>\n",
       "      <td>Medium</td>\n",
       "      <td>2 Complaints</td>\n",
       "      <td>2+ Months</td>\n",
       "      <td>90-150 min</td>\n",
       "      <td>4 Devices</td>\n",
       "      <td>NaN</td>\n",
       "    </tr>\n",
       "    <tr>\n",
       "      <th>8153</th>\n",
       "      <td>8154</td>\n",
       "      <td>Female</td>\n",
       "      <td>38</td>\n",
       "      <td>Basic</td>\n",
       "      <td>34.70</td>\n",
       "      <td>39</td>\n",
       "      <td>1</td>\n",
       "      <td>42</td>\n",
       "      <td>0</td>\n",
       "      <td>73.18</td>\n",
       "      <td>...</td>\n",
       "      <td>13</td>\n",
       "      <td>mid_age</td>\n",
       "      <td>3.575151</td>\n",
       "      <td>Medium</td>\n",
       "      <td>High</td>\n",
       "      <td>1 Complaint</td>\n",
       "      <td>2+ Months</td>\n",
       "      <td>30-90 min</td>\n",
       "      <td>4 Devices</td>\n",
       "      <td>NaN</td>\n",
       "    </tr>\n",
       "    <tr>\n",
       "      <th>8473</th>\n",
       "      <td>8474</td>\n",
       "      <td>Male</td>\n",
       "      <td>25</td>\n",
       "      <td>Basic</td>\n",
       "      <td>19.87</td>\n",
       "      <td>47</td>\n",
       "      <td>1</td>\n",
       "      <td>39</td>\n",
       "      <td>0</td>\n",
       "      <td>137.01</td>\n",
       "      <td>...</td>\n",
       "      <td>4</td>\n",
       "      <td>young_adults</td>\n",
       "      <td>3.038313</td>\n",
       "      <td>Low</td>\n",
       "      <td>High</td>\n",
       "      <td>1 Complaint</td>\n",
       "      <td>2+ Months</td>\n",
       "      <td>90-150 min</td>\n",
       "      <td>3 Devices</td>\n",
       "      <td>NaN</td>\n",
       "    </tr>\n",
       "    <tr>\n",
       "      <th>8484</th>\n",
       "      <td>8485</td>\n",
       "      <td>Male</td>\n",
       "      <td>46</td>\n",
       "      <td>Basic</td>\n",
       "      <td>23.95</td>\n",
       "      <td>45</td>\n",
       "      <td>0</td>\n",
       "      <td>20</td>\n",
       "      <td>0</td>\n",
       "      <td>113.86</td>\n",
       "      <td>...</td>\n",
       "      <td>1</td>\n",
       "      <td>older_adults</td>\n",
       "      <td>3.216874</td>\n",
       "      <td>Medium</td>\n",
       "      <td>High</td>\n",
       "      <td>No Complaints</td>\n",
       "      <td>1 Month</td>\n",
       "      <td>90-150 min</td>\n",
       "      <td>1 Device</td>\n",
       "      <td>NaN</td>\n",
       "    </tr>\n",
       "    <tr>\n",
       "      <th>8580</th>\n",
       "      <td>8581</td>\n",
       "      <td>Female</td>\n",
       "      <td>43</td>\n",
       "      <td>Standard</td>\n",
       "      <td>30.38</td>\n",
       "      <td>28</td>\n",
       "      <td>2</td>\n",
       "      <td>37</td>\n",
       "      <td>0</td>\n",
       "      <td>285.82</td>\n",
       "      <td>...</td>\n",
       "      <td>7</td>\n",
       "      <td>mid_age</td>\n",
       "      <td>3.446171</td>\n",
       "      <td>Medium</td>\n",
       "      <td>Medium</td>\n",
       "      <td>2 Complaints</td>\n",
       "      <td>2+ Months</td>\n",
       "      <td>&gt; 150 min</td>\n",
       "      <td>1 Device</td>\n",
       "      <td>NaN</td>\n",
       "    </tr>\n",
       "    <tr>\n",
       "      <th>8613</th>\n",
       "      <td>8614</td>\n",
       "      <td>Female</td>\n",
       "      <td>53</td>\n",
       "      <td>Standard</td>\n",
       "      <td>22.93</td>\n",
       "      <td>8</td>\n",
       "      <td>1</td>\n",
       "      <td>17</td>\n",
       "      <td>0</td>\n",
       "      <td>103.51</td>\n",
       "      <td>...</td>\n",
       "      <td>13</td>\n",
       "      <td>older_adults</td>\n",
       "      <td>3.175133</td>\n",
       "      <td>Medium</td>\n",
       "      <td>Very Low</td>\n",
       "      <td>1 Complaint</td>\n",
       "      <td>1 Month</td>\n",
       "      <td>90-150 min</td>\n",
       "      <td>2 Devices</td>\n",
       "      <td>NaN</td>\n",
       "    </tr>\n",
       "    <tr>\n",
       "      <th>9290</th>\n",
       "      <td>9291</td>\n",
       "      <td>Male</td>\n",
       "      <td>44</td>\n",
       "      <td>Standard</td>\n",
       "      <td>13.92</td>\n",
       "      <td>27</td>\n",
       "      <td>0</td>\n",
       "      <td>30</td>\n",
       "      <td>0</td>\n",
       "      <td>31.12</td>\n",
       "      <td>...</td>\n",
       "      <td>10</td>\n",
       "      <td>mid_age</td>\n",
       "      <td>2.702703</td>\n",
       "      <td>Low</td>\n",
       "      <td>Medium</td>\n",
       "      <td>No Complaints</td>\n",
       "      <td>1 Month</td>\n",
       "      <td>30-90 min</td>\n",
       "      <td>3 Devices</td>\n",
       "      <td>NaN</td>\n",
       "    </tr>\n",
       "  </tbody>\n",
       "</table>\n",
       "<p>14 rows × 30 columns</p>\n",
       "</div>"
      ],
      "text/plain": [
       "      CustomerID  Gender  Age SubscriptionType  MonthlySpend  TotalWatchTime  \\\n",
       "534          535    Male   61            Basic          8.66               9   \n",
       "830          831    Male   28            Basic         48.65              21   \n",
       "1356        1357  Female   51         Standard        239.30              18   \n",
       "2361        2362  Female   50            Basic         39.92              19   \n",
       "2589        2590    Male   30            Basic         19.60              22   \n",
       "5366        5367    Male   55            Basic         20.29              46   \n",
       "5969        5970    Male   45         Standard         48.96              39   \n",
       "6318        6319  Female   47            Basic         19.32              34   \n",
       "8153        8154  Female   38            Basic         34.70              39   \n",
       "8473        8474    Male   25            Basic         19.87              47   \n",
       "8484        8485    Male   46            Basic         23.95              45   \n",
       "8580        8581  Female   43         Standard         30.38              28   \n",
       "8613        8614  Female   53         Standard         22.93               8   \n",
       "9290        9291    Male   44         Standard         13.92              27   \n",
       "\n",
       "      ComplaintCount  DaysSinceLastLogin  Churn  AvgSessionDuration  ...  \\\n",
       "534                1                  17      0               68.57  ...   \n",
       "830                1                  43      0               37.64  ...   \n",
       "1356               0                  20      0              282.55  ...   \n",
       "2361               2                  16      1              253.79  ...   \n",
       "2589               1                  48      0              178.81  ...   \n",
       "5366               0                  54      0              144.77  ...   \n",
       "5969               2                  49      1              210.55  ...   \n",
       "6318               2                  45      0              144.33  ...   \n",
       "8153               1                  42      0               73.18  ...   \n",
       "8473               1                  39      0              137.01  ...   \n",
       "8484               0                  20      0              113.86  ...   \n",
       "8580               2                  37      0              285.82  ...   \n",
       "8613               1                  17      0              103.51  ...   \n",
       "9290               0                  30      0               31.12  ...   \n",
       "\n",
       "      SocialMediaMentions      AgeGroup  MonthlySpend_log  SpendBucket  \\\n",
       "534                    15       seniors          2.267994          Low   \n",
       "830                     8  young_adults          3.904998         High   \n",
       "1356                    7  older_adults          5.481888         High   \n",
       "2361                    3  older_adults          3.711619         High   \n",
       "2589                   12       mid_age          3.025291          Low   \n",
       "5366                   19  older_adults          3.058237       Medium   \n",
       "5969                    4  older_adults          3.911223         High   \n",
       "6318                    6  older_adults          3.011606          Low   \n",
       "8153                   13       mid_age          3.575151       Medium   \n",
       "8473                    4  young_adults          3.038313          Low   \n",
       "8484                    1  older_adults          3.216874       Medium   \n",
       "8580                    7       mid_age          3.446171       Medium   \n",
       "8613                   13  older_adults          3.175133       Medium   \n",
       "9290                   10       mid_age          2.702703          Low   \n",
       "\n",
       "      WatchBucket  ComplaintBucket  LoginBucket SessionBucket  DevicesBucket  \\\n",
       "534      Very Low      1 Complaint      1 Month     30-90 min      2 Devices   \n",
       "830           Low      1 Complaint    2+ Months     30-90 min      3 Devices   \n",
       "1356          Low    No Complaints      1 Month     > 150 min      2 Devices   \n",
       "2361          Low     2 Complaints      1 Month     > 150 min      3 Devices   \n",
       "2589          Low      1 Complaint    2+ Months     > 150 min      2 Devices   \n",
       "5366         High    No Complaints    2+ Months    90-150 min      2 Devices   \n",
       "5969         High     2 Complaints    2+ Months     > 150 min      2 Devices   \n",
       "6318       Medium     2 Complaints    2+ Months    90-150 min      4 Devices   \n",
       "8153         High      1 Complaint    2+ Months     30-90 min      4 Devices   \n",
       "8473         High      1 Complaint    2+ Months    90-150 min      3 Devices   \n",
       "8484         High    No Complaints      1 Month    90-150 min       1 Device   \n",
       "8580       Medium     2 Complaints    2+ Months     > 150 min       1 Device   \n",
       "8613     Very Low      1 Complaint      1 Month    90-150 min      2 Devices   \n",
       "9290       Medium    No Complaints      1 Month     30-90 min      3 Devices   \n",
       "\n",
       "      PreferenceBucket  \n",
       "534                NaN  \n",
       "830                Low  \n",
       "1356               NaN  \n",
       "2361               NaN  \n",
       "2589               NaN  \n",
       "5366               Low  \n",
       "5969               NaN  \n",
       "6318               NaN  \n",
       "8153               NaN  \n",
       "8473               NaN  \n",
       "8484               NaN  \n",
       "8580               NaN  \n",
       "8613               NaN  \n",
       "9290               NaN  \n",
       "\n",
       "[14 rows x 30 columns]"
      ]
     },
     "execution_count": 59,
     "metadata": {},
     "output_type": "execute_result"
    }
   ],
   "source": [
    "df[df['ContentPreferenceScore']<0]"
   ]
  },
  {
   "cell_type": "markdown",
   "id": "b75c5bfe",
   "metadata": {},
   "source": [
    "preference score should logically be > 0 and <=100, negative values are likely errors or data collection error. So, we can convert that also as nan. which is only 0.16% of 9000 rows.\n",
    "\n",
    "This Feature showing a clear relationship with churn, median imputation grouped by DV (Churn) strikes a great balance between simplicity and preserving signal."
   ]
  },
  {
   "cell_type": "code",
   "execution_count": 61,
   "id": "8762654d",
   "metadata": {},
   "outputs": [],
   "source": [
    "df.loc[df['ContentPreferenceScore'] < 0, 'ContentPreferenceScore'] = np.nan"
   ]
  },
  {
   "cell_type": "code",
   "execution_count": 62,
   "id": "33b98d71",
   "metadata": {},
   "outputs": [],
   "source": [
    "df['ContentPreferenceScore'] = df.groupby('Churn')['ContentPreferenceScore'].transform(\n",
    "    lambda x: x.fillna(x.median())\n",
    ")\n"
   ]
  },
  {
   "cell_type": "markdown",
   "id": "566428aa",
   "metadata": {},
   "source": [
    "### ActiveDaysLastMonth"
   ]
  },
  {
   "cell_type": "code",
   "execution_count": 63,
   "id": "3c1e385e",
   "metadata": {},
   "outputs": [
    {
     "data": {
      "text/plain": [
       "count    10000.000000\n",
       "mean        15.003500\n",
       "std          8.933838\n",
       "min          0.000000\n",
       "25%          7.000000\n",
       "50%         15.000000\n",
       "75%         23.000000\n",
       "max         30.000000\n",
       "Name: ActiveDaysLastMonth, dtype: float64"
      ]
     },
     "execution_count": 63,
     "metadata": {},
     "output_type": "execute_result"
    }
   ],
   "source": [
    "df['ActiveDaysLastMonth'].describe()"
   ]
  },
  {
   "cell_type": "code",
   "execution_count": 65,
   "id": "831800e8",
   "metadata": {},
   "outputs": [
    {
     "name": "stderr",
     "output_type": "stream",
     "text": [
      "No artists with labels found to put in legend.  Note that artists whose label start with an underscore are ignored when legend() is called with no argument.\n"
     ]
    },
    {
     "data": {
      "image/png": "[encoded data removed]",
      "text/plain": [
       "<Figure size 864x432 with 1 Axes>"
      ]
     },
     "metadata": {
      "needs_background": "light"
     },
     "output_type": "display_data"
    },
    {
     "data": {
      "image/png": "[encoded data removed]",
      "text/plain": [
       "<Figure size 720x432 with 1 Axes>"
      ]
     },
     "metadata": {
      "needs_background": "light"
     },
     "output_type": "display_data"
    },
    {
     "data": {
      "text/plain": [
       "(<Figure size 720x432 with 1 Axes>,\n",
       " <Axes: title={'center': 'ActiveDaysLastMonth Distribution by Churn Status (Boxplot)'}, xlabel='Churn', ylabel='ActiveDaysLastMonth'>)"
      ]
     },
     "execution_count": 65,
     "metadata": {},
     "output_type": "execute_result"
    }
   ],
   "source": [
    "plot_distribution_by_churn(df,'ActiveDaysLastMonth')\n",
    "plot_boxplot_by_churn(df,'ActiveDaysLastMonth')"
   ]
  },
  {
   "cell_type": "code",
   "execution_count": 67,
   "id": "6333ec71",
   "metadata": {},
   "outputs": [
    {
     "name": "stdout",
     "output_type": "stream",
     "text": [
      "                 Not Churned  Churned  Total  Churn Rate (%)\n",
      "ActiveDaysGroup                                             \n",
      "26-30                   1290      332   1622       20.468557\n",
      "16-20                   1268      322   1590       20.251572\n",
      "11-15                   1338      334   1672       19.976077\n",
      "21-25                   1280      314   1594       19.698871\n",
      "0-5                     1269      300   1569       19.120459\n",
      "6-10                    1318      297   1615       18.390093\n"
     ]
    }
   ],
   "source": [
    "# Create a new column for the binned ActiveDaysLastMonth\n",
    "bins = [0, 5, 10, 15, 20, 25, 30]\n",
    "labels = ['0-5', '6-10', '11-15', '16-20', '21-25', '26-30']\n",
    "df['ActiveDaysGroup'] = pd.cut(df['ActiveDaysLastMonth'], bins=bins, labels=labels, right=True)\n",
    "print(churn_counts_by_feature('ActiveDaysGroup'))"
   ]
  },
  {
   "cell_type": "markdown",
   "id": "adfa840c",
   "metadata": {},
   "source": [
    "Mean: 15.00 (on average, customers are active for 15 days in the last month).\n",
    "\n",
    "Min: 0 (some customers were not active at all during the last month).\n",
    "\n",
    "Max: 30 (some customers were active every day in the last month).\n",
    "\n",
    "Churn rates are fairly flat across activity groups — ranging from ~18.4% to ~20.5%.\n",
    "\n",
    "Surprisingly, there's no strong pattern where more active users churn less.\n",
    "\n",
    "Still 6-10 has a less churn rate which could be useful for the model."
   ]
  },
  {
   "cell_type": "markdown",
   "id": "f267e114",
   "metadata": {},
   "source": [
    "### BingeWatchRatio"
   ]
  },
  {
   "cell_type": "code",
   "execution_count": 68,
   "id": "e73ca4c2",
   "metadata": {},
   "outputs": [
    {
     "data": {
      "text/plain": [
       "count    9000.000000\n",
       "mean        3.965676\n",
       "std         7.355427\n",
       "min         0.000000\n",
       "25%         0.800000\n",
       "50%         1.610000\n",
       "75%         3.330000\n",
       "max        49.000000\n",
       "Name: BingeWatchRatio, dtype: float64"
      ]
     },
     "execution_count": 68,
     "metadata": {},
     "output_type": "execute_result"
    }
   ],
   "source": [
    "df['BingeWatchRatio'].describe()"
   ]
  },
  {
   "cell_type": "markdown",
   "id": "8c96019a",
   "metadata": {},
   "source": [
    "There’s significant skew (median = 1.61 vs. mean = 3.97), indicating some users binge far more than others.\n",
    "\n",
    "Max value of 49 is a potential outlier.\n",
    "\n",
    "Missing values: 1,000 users are missing data in this column."
   ]
  },
  {
   "cell_type": "code",
   "execution_count": 70,
   "id": "25803ef6",
   "metadata": {},
   "outputs": [
    {
     "name": "stderr",
     "output_type": "stream",
     "text": [
      "No artists with labels found to put in legend.  Note that artists whose label start with an underscore are ignored when legend() is called with no argument.\n"
     ]
    },
    {
     "data": {
      "image/png": "[encoded data removed]",
      "text/plain": [
       "<Figure size 864x432 with 1 Axes>"
      ]
     },
     "metadata": {
      "needs_background": "light"
     },
     "output_type": "display_data"
    },
    {
     "data": {
      "image/png": "[encoded data removed]",
      "text/plain": [
       "<Figure size 720x432 with 1 Axes>"
      ]
     },
     "metadata": {
      "needs_background": "light"
     },
     "output_type": "display_data"
    },
    {
     "data": {
      "text/plain": [
       "(<Figure size 720x432 with 1 Axes>,\n",
       " <Axes: title={'center': 'BingeWatchRatio Distribution by Churn Status (Boxplot)'}, xlabel='Churn', ylabel='BingeWatchRatio'>)"
      ]
     },
     "execution_count": 70,
     "metadata": {},
     "output_type": "execute_result"
    }
   ],
   "source": [
    "plot_distribution_by_churn(df,'BingeWatchRatio')\n",
    "plot_boxplot_by_churn(df,'BingeWatchRatio')"
   ]
  },
  {
   "cell_type": "code",
   "execution_count": 71,
   "id": "6d4f579e",
   "metadata": {},
   "outputs": [
    {
     "name": "stderr",
     "output_type": "stream",
     "text": [
      "No artists with labels found to put in legend.  Note that artists whose label start with an underscore are ignored when legend() is called with no argument.\n"
     ]
    },
    {
     "data": {
      "image/png": "[encoded data removed]",
      "text/plain": [
       "<Figure size 864x432 with 1 Axes>"
      ]
     },
     "metadata": {
      "needs_background": "light"
     },
     "output_type": "display_data"
    },
    {
     "data": {
      "text/plain": [
       "(<Figure size 864x432 with 1 Axes>,\n",
       " <Axes: title={'center': 'BingeWatchRatio_log Distribution by Churn Status'}, xlabel='BingeWatchRatio_log', ylabel='Count'>)"
      ]
     },
     "execution_count": 71,
     "metadata": {},
     "output_type": "execute_result"
    }
   ],
   "source": [
    "df['BingeWatchRatio_log'] = np.log1p(df['BingeWatchRatio'])\n",
    "plot_distribution_by_churn(df,'BingeWatchRatio_log')"
   ]
  },
  {
   "cell_type": "code",
   "execution_count": 72,
   "id": "fb8f5000",
   "metadata": {},
   "outputs": [
    {
     "data": {
      "text/plain": [
       "count    9000.000000\n",
       "mean        1.136450\n",
       "std         0.820118\n",
       "min         0.000000\n",
       "25%         0.587787\n",
       "50%         0.959350\n",
       "75%         1.465568\n",
       "max         3.912023\n",
       "Name: BingeWatchRatio_log, dtype: float64"
      ]
     },
     "execution_count": 72,
     "metadata": {},
     "output_type": "execute_result"
    }
   ],
   "source": [
    "df['BingeWatchRatio_log'].describe()"
   ]
  },
  {
   "cell_type": "code",
   "execution_count": 86,
   "id": "d0042ae1",
   "metadata": {},
   "outputs": [],
   "source": [
    "df['BingeWatchBucket'] = pd.qcut(df['BingeWatchRatio_log'], q=6, labels=['1', '2', '3', '4','5','6'])"
   ]
  },
  {
   "cell_type": "code",
   "execution_count": 87,
   "id": "3528b123",
   "metadata": {},
   "outputs": [
    {
     "name": "stdout",
     "output_type": "stream",
     "text": [
      "                  Not Churned  Churned  Total  Churn Rate (%)\n",
      "BingeWatchBucket                                             \n",
      "1                        1199      316   1515       20.858086\n",
      "4                        1187      296   1483       19.959541\n",
      "6                        1183      291   1474       19.742198\n",
      "2                        1203      295   1498       19.692924\n",
      "3                        1217      289   1506       19.189907\n",
      "5                        1255      269   1524       17.650919\n"
     ]
    }
   ],
   "source": [
    "print(churn_counts_by_feature('BingeWatchBucket'))"
   ]
  },
  {
   "cell_type": "markdown",
   "id": "2d31c6b7",
   "metadata": {},
   "source": [
    "5th bucket - 17.65 - Lowest churn — users with highest binge-watching ratio. So this will be a useful feature."
   ]
  },
  {
   "cell_type": "code",
   "execution_count": 88,
   "id": "e9fc7962",
   "metadata": {},
   "outputs": [],
   "source": [
    "df['BingeWatchRatio_log'] = df.groupby('Churn')['BingeWatchRatio_log'].transform(\n",
    "    lambda x: x.fillna(x.median())\n",
    ")"
   ]
  },
  {
   "cell_type": "markdown",
   "id": "9b839a76",
   "metadata": {},
   "source": [
    "### SkippedContentCount"
   ]
  },
  {
   "cell_type": "code",
   "execution_count": 89,
   "id": "f44a0d9f",
   "metadata": {},
   "outputs": [
    {
     "data": {
      "text/plain": [
       "count    10000.000000\n",
       "mean         9.636500\n",
       "std          5.960866\n",
       "min          0.000000\n",
       "25%          5.000000\n",
       "50%         10.000000\n",
       "75%         15.000000\n",
       "max         38.000000\n",
       "Name: SkippedContentCount, dtype: float64"
      ]
     },
     "execution_count": 89,
     "metadata": {},
     "output_type": "execute_result"
    }
   ],
   "source": [
    "df['SkippedContentCount'].describe()"
   ]
  },
  {
   "cell_type": "code",
   "execution_count": 91,
   "id": "db66595e",
   "metadata": {},
   "outputs": [
    {
     "name": "stderr",
     "output_type": "stream",
     "text": [
      "No artists with labels found to put in legend.  Note that artists whose label start with an underscore are ignored when legend() is called with no argument.\n"
     ]
    },
    {
     "data": {
      "image/png": "[encoded data removed]",
      "text/plain": [
       "<Figure size 864x432 with 1 Axes>"
      ]
     },
     "metadata": {
      "needs_background": "light"
     },
     "output_type": "display_data"
    },
    {
     "data": {
      "image/png": "[encoded data removed]",
      "text/plain": [
       "<Figure size 720x432 with 1 Axes>"
      ]
     },
     "metadata": {
      "needs_background": "light"
     },
     "output_type": "display_data"
    },
    {
     "data": {
      "text/plain": [
       "(<Figure size 720x432 with 1 Axes>,\n",
       " <Axes: title={'center': 'SkippedContentCount Distribution by Churn Status (Boxplot)'}, xlabel='Churn', ylabel='SkippedContentCount'>)"
      ]
     },
     "execution_count": 91,
     "metadata": {},
     "output_type": "execute_result"
    }
   ],
   "source": [
    "plot_distribution_by_churn(df,'SkippedContentCount')\n",
    "plot_boxplot_by_churn(df,'SkippedContentCount')"
   ]
  },
  {
   "cell_type": "code",
   "execution_count": 93,
   "id": "1eb1d264",
   "metadata": {},
   "outputs": [
    {
     "data": {
      "text/plain": [
       "0.1671372295388769"
      ]
     },
     "execution_count": 93,
     "metadata": {},
     "output_type": "execute_result"
    }
   ],
   "source": [
    "df['SkippedContentCount'].skew()"
   ]
  },
  {
   "cell_type": "markdown",
   "id": "95bd0c08",
   "metadata": {},
   "source": [
    "Skew ≈ 0 → symmetric (normal-like)\n",
    "\n",
    "Skew > 0 → positively skewed (right tail longer)\n",
    "\n",
    "Skew < 0 → negatively skewed (left tail longer)\n",
    "\n",
    "though it look like skewed its not that much skewed it has very minimal value which creates that observation."
   ]
  },
  {
   "cell_type": "code",
   "execution_count": 5,
   "id": "0a790960",
   "metadata": {},
   "outputs": [
    {
     "name": "stdout",
     "output_type": "stream",
     "text": [
      "              Not Churned  Churned  Total  Churn Rate (%)\n",
      "SkippedGroup                                             \n",
      ">20                    37       14     51       27.450980\n",
      "13–20                2810      697   3507       19.874537\n",
      "0–4                  1991      489   2480       19.717742\n",
      "9–12                 1622      394   2016       19.543651\n",
      "5–8                  1568      378   1946       19.424460\n"
     ]
    }
   ],
   "source": [
    "bins = [0, 4, 8, 12, 20, df['SkippedContentCount'].max()]\n",
    "labels = ['0–4', '5–8', '9–12', '13–20', '>20']\n",
    "\n",
    "df['SkippedGroup'] = pd.cut(df['SkippedContentCount'], bins=bins, labels=labels, include_lowest=True)\n",
    "print(churn_counts_by_feature('SkippedGroup'))"
   ]
  },
  {
   "cell_type": "markdown",
   "id": "288e211c",
   "metadata": {},
   "source": [
    "For users skipping 0–20 items, churn rate is consistently ~19.5–19.9%.\n",
    "\n",
    "Suggests mild or moderate skipping is not strongly associated with churn.\n",
    "\n",
    "Very high skipping (>20) stands out:\n",
    "\n",
    "Small group (only 51 users), but with significantly higher churn (27.45%).\n",
    "\n",
    "Indicates extreme skipping may be a red flag — these users might be unhappy with available content or not finding anything they like.\n",
    "\n",
    "It's not linearly related to churn. So we can either bucket it, or create a binary feature like is_high_skipper = SkippedContentCount > 20.\n",
    "\n",
    "If used raw, consider log-transforming due to the long tail."
   ]
  },
  {
   "cell_type": "markdown",
   "id": "79c84726",
   "metadata": {},
   "source": [
    "### DiscountReceived"
   ]
  },
  {
   "cell_type": "code",
   "execution_count": 6,
   "id": "7aaf750d",
   "metadata": {},
   "outputs": [
    {
     "data": {
      "text/plain": [
       "count    10000.000000\n",
       "mean        10.008391\n",
       "std          5.773516\n",
       "min          0.010000\n",
       "25%          4.990000\n",
       "50%         10.000000\n",
       "75%         14.962500\n",
       "max         20.000000\n",
       "Name: DiscountReceived, dtype: float64"
      ]
     },
     "execution_count": 6,
     "metadata": {},
     "output_type": "execute_result"
    }
   ],
   "source": [
    "df['DiscountReceived'].describe()"
   ]
  },
  {
   "cell_type": "code",
   "execution_count": 7,
   "id": "69419e31",
   "metadata": {},
   "outputs": [
    {
     "name": "stderr",
     "output_type": "stream",
     "text": [
      "No artists with labels found to put in legend.  Note that artists whose label start with an underscore are ignored when legend() is called with no argument.\n"
     ]
    },
    {
     "data": {
      "image/png": "[encoded data removed]",
      "text/plain": [
       "<Figure size 864x432 with 1 Axes>"
      ]
     },
     "metadata": {
      "needs_background": "light"
     },
     "output_type": "display_data"
    },
    {
     "data": {
      "image/png": "[encoded data removed]",
      "text/plain": [
       "<Figure size 720x432 with 1 Axes>"
      ]
     },
     "metadata": {
      "needs_background": "light"
     },
     "output_type": "display_data"
    },
    {
     "data": {
      "text/plain": [
       "(<Figure size 720x432 with 1 Axes>,\n",
       " <Axes: title={'center': 'DiscountReceived Distribution by Churn Status (Boxplot)'}, xlabel='Churn', ylabel='DiscountReceived'>)"
      ]
     },
     "execution_count": 7,
     "metadata": {},
     "output_type": "execute_result"
    }
   ],
   "source": [
    "plot_distribution_by_churn(df,'DiscountReceived')\n",
    "plot_boxplot_by_churn(df,'DiscountReceived')"
   ]
  },
  {
   "cell_type": "code",
   "execution_count": 8,
   "id": "d5e2e36b",
   "metadata": {},
   "outputs": [
    {
     "name": "stdout",
     "output_type": "stream",
     "text": [
      "                Not Churned  Churned  Total  Churn Rate (%)\n",
      "DiscountBucket                                             \n",
      "16–20                  1967      515   2482       20.749396\n",
      "6–10                   1998      498   2496       19.951923\n",
      "11–15                  2031      482   2513       19.180263\n",
      "0–5                    2032      477   2509       19.011558\n"
     ]
    }
   ],
   "source": [
    "bins = [0, 5, 10, 15, 20]\n",
    "labels = ['0–5', '6–10', '11–15', '16–20']\n",
    "\n",
    "df['DiscountBucket'] = pd.cut(df['DiscountReceived'], bins=bins, labels=labels, include_lowest=True)\n",
    "print(churn_counts_by_feature('DiscountBucket'))"
   ]
  },
  {
   "cell_type": "markdown",
   "id": "9c72417c",
   "metadata": {},
   "source": [
    "No missing values.\n",
    "\n",
    "Values appear to be uniformly distributed (min close to 0, max at 20, and mean 10).\n",
    "\n",
    "Likely tied to some fixed promotional strategy (e.g., 0–20% or $0–$20).\n",
    "\n",
    "Churn is fairly stable across groups — all around ~19–20%.\n",
    "\n",
    "Unexpectedly, users receiving higher discounts (16–20) have slightly higher churn.\n",
    "\n",
    "More discount ≠ more loyalty:\n",
    "\n",
    "The assumption that higher discounts would reduce churn doesn't hold here.\n",
    "\n",
    "It's possible that discounts are either:\n",
    "\n",
    "Poorly targeted, or\n",
    "\n",
    "Attracting users who aren't loyal in the first place (discount seekers)."
   ]
  },
  {
   "cell_type": "markdown",
   "id": "c8da4024",
   "metadata": {},
   "source": [
    "### LoyaltyScore"
   ]
  },
  {
   "cell_type": "code",
   "execution_count": 9,
   "id": "c48ad2cf",
   "metadata": {},
   "outputs": [
    {
     "data": {
      "text/plain": [
       "count    10000.000000\n",
       "mean         4.965827\n",
       "std          2.939968\n",
       "min         -5.379779\n",
       "25%          2.430000\n",
       "50%          4.951940\n",
       "75%          7.501691\n",
       "max         13.495991\n",
       "Name: LoyaltyScore, dtype: float64"
      ]
     },
     "execution_count": 9,
     "metadata": {},
     "output_type": "execute_result"
    }
   ],
   "source": [
    "df['LoyaltyScore'].describe()"
   ]
  },
  {
   "cell_type": "code",
   "execution_count": 10,
   "id": "44f5b0a7",
   "metadata": {},
   "outputs": [
    {
     "name": "stdout",
     "output_type": "stream",
     "text": [
      "Negative loyalty scores: 49\n"
     ]
    }
   ],
   "source": [
    "negative_loyalty = df[df['LoyaltyScore'] < 0]\n",
    "print(f\"Negative loyalty scores: {len(negative_loyalty)}\")"
   ]
  },
  {
   "cell_type": "code",
   "execution_count": 11,
   "id": "4921f041",
   "metadata": {},
   "outputs": [
    {
     "name": "stdout",
     "output_type": "stream",
     "text": [
      "               Not Churned  Churned  Total  Churn Rate (%)\n",
      "LoyaltyBucket                                             \n",
      "Low                   1590      428   2018       21.209118\n",
      "High                  1553      410   1963       20.886398\n",
      "Very Low              1643      404   2047       19.736199\n",
      "Moderate              1590      379   1969       19.248349\n",
      "Very High             1652      351   2003       17.523714\n"
     ]
    }
   ],
   "source": [
    "bins = [-6, 2, 4, 6, 8, df['LoyaltyScore'].max()]\n",
    "labels = ['Very Low', 'Low', 'Moderate', 'High', 'Very High']\n",
    "\n",
    "df['LoyaltyBucket'] = pd.cut(df['LoyaltyScore'], bins=bins, labels=labels, include_lowest=True)\n",
    "print(churn_counts_by_feature('LoyaltyBucket'))"
   ]
  },
  {
   "cell_type": "code",
   "execution_count": 12,
   "id": "f45ddd7a",
   "metadata": {},
   "outputs": [
    {
     "name": "stdout",
     "output_type": "stream",
     "text": [
      "Correlation between Loyalty Score and Churn: -0.011189807673519164\n"
     ]
    }
   ],
   "source": [
    "correlation = df['LoyaltyScore'].corr(df['Churn'])\n",
    "print(f\"Correlation between Loyalty Score and Churn: {correlation}\")"
   ]
  },
  {
   "cell_type": "markdown",
   "id": "72b9de07",
   "metadata": {},
   "source": [
    "The correlation with churn is extremely low (around -0.01), which means it does not have a meaningful linear relationship with the target variable (churn).\n",
    "\n",
    "No Clear Pattern in Buckets:\n",
    "\n",
    "The churn rate across the bucketed loyalty scores doesn't show a clear, consistent trend.\n",
    "\n",
    "There’s some unexpected behavior (e.g., high churn in the low and high loyalty buckets).\n",
    "\n",
    "Possible Data Quality Issues:\n",
    "\n",
    "Negative values suggest there may be issues with how the score is calculated or scaled.\n",
    "\n",
    "If these negative values are invalid, they could distort the analysis and lead to misleading insights.\n",
    "\n",
    "Potential Noise:\n",
    "\n",
    "If LoyaltyScore is not well-calibrated, it might just be adding noise to the model rather than helping. So better we can drop"
   ]
  },
  {
   "cell_type": "markdown",
   "id": "114182a0",
   "metadata": {},
   "source": [
    "### PlatformType"
   ]
  },
  {
   "cell_type": "code",
   "execution_count": 13,
   "id": "74656d69",
   "metadata": {},
   "outputs": [
    {
     "data": {
      "text/plain": [
       "Mobile    5066\n",
       "Web       2956\n",
       "TV        1978\n",
       "Name: PlatformType, dtype: int64"
      ]
     },
     "execution_count": 13,
     "metadata": {},
     "output_type": "execute_result"
    }
   ],
   "source": [
    "df['PlatformType'].value_counts()"
   ]
  },
  {
   "cell_type": "code",
   "execution_count": 17,
   "id": "9301c1db",
   "metadata": {},
   "outputs": [
    {
     "name": "stdout",
     "output_type": "stream",
     "text": [
      "              Not Churned  Churned  Total  Churn Rate (%)\n",
      "PlatformType                                             \n",
      "Mobile               4040     1026   5066       20.252665\n",
      "Web                  2379      577   2956       19.519621\n",
      "TV                   1609      369   1978       18.655207\n"
     ]
    }
   ],
   "source": [
    "print(churn_counts_by_feature('PlatformType'))"
   ]
  },
  {
   "cell_type": "markdown",
   "id": "14300b9a",
   "metadata": {},
   "source": [
    "The Mobile platform has the highest number of users, followed by Web and TV.\n",
    "\n",
    "Given that Mobile is the most common platform, it's crucial to analyze how each platform behaves in terms of churn rates, user engagement, and other metrics.\n",
    "\n",
    "Mobile users have the highest churn rate (20.25%), which could be a concern, especially since it is the largest group.\n",
    "\n",
    "TV users show the lowest churn rate (18.66%), which might indicate more engagement or satisfaction with the platform.\n",
    "\n",
    "Web users have a moderate churn rate (19.52%), slightly higher than TV but lower than Mobile.\n",
    "\n",
    "Potential Platform-Specific Issues:\n",
    "\n",
    "Mobile users: The higher churn rate on mobile could indicate issues like usability, app performance, or engagement. Exploring features like AvgSessionDuration, TotalWatchTime, and ActiveDaysLastMonth for mobile users may uncover reasons for the higher churn.\n",
    "\n",
    "TV and Web: These platforms have lower churn rates, suggesting better retention or different user behavior. Investigating platform-specific usage metrics might reveal why these users stay longer."
   ]
  },
  {
   "cell_type": "markdown",
   "id": "580b44ce",
   "metadata": {},
   "source": [
    "### AdInteractionCount"
   ]
  },
  {
   "cell_type": "code",
   "execution_count": 15,
   "id": "127f5c07",
   "metadata": {},
   "outputs": [
    {
     "data": {
      "text/plain": [
       "count    9000.000000\n",
       "mean       24.631111\n",
       "std        14.397047\n",
       "min         0.000000\n",
       "25%        12.000000\n",
       "50%        25.000000\n",
       "75%        37.000000\n",
       "max        49.000000\n",
       "Name: AdInteractionCount, dtype: float64"
      ]
     },
     "execution_count": 15,
     "metadata": {},
     "output_type": "execute_result"
    }
   ],
   "source": [
    "df['AdInteractionCount'].describe()"
   ]
  },
  {
   "cell_type": "code",
   "execution_count": 16,
   "id": "8a17305e",
   "metadata": {},
   "outputs": [
    {
     "name": "stderr",
     "output_type": "stream",
     "text": [
      "No artists with labels found to put in legend.  Note that artists whose label start with an underscore are ignored when legend() is called with no argument.\n"
     ]
    },
    {
     "data": {
      "image/png": "[encoded data removed]",
      "text/plain": [
       "<Figure size 864x432 with 1 Axes>"
      ]
     },
     "metadata": {
      "needs_background": "light"
     },
     "output_type": "display_data"
    },
    {
     "data": {
      "image/png": "[encoded data removed]",
      "text/plain": [
       "<Figure size 720x432 with 1 Axes>"
      ]
     },
     "metadata": {
      "needs_background": "light"
     },
     "output_type": "display_data"
    },
    {
     "data": {
      "text/plain": [
       "(<Figure size 720x432 with 1 Axes>,\n",
       " <Axes: title={'center': 'AdInteractionCount Distribution by Churn Status (Boxplot)'}, xlabel='Churn', ylabel='AdInteractionCount'>)"
      ]
     },
     "execution_count": 16,
     "metadata": {},
     "output_type": "execute_result"
    }
   ],
   "source": [
    "plot_distribution_by_churn(df,'AdInteractionCount')\n",
    "plot_boxplot_by_churn(df,'AdInteractionCount')"
   ]
  },
  {
   "cell_type": "code",
   "execution_count": 18,
   "id": "3b65d036",
   "metadata": {},
   "outputs": [
    {
     "name": "stdout",
     "output_type": "stream",
     "text": [
      "                    Not Churned  Churned  Total  Churn Rate (%)\n",
      "AdInteractionGroup                                             \n",
      "41-50                      1302      336   1638       20.512821\n",
      "11-20                      1452      372   1824       20.394737\n",
      "0-10                       1436      347   1783       19.461582\n",
      "21-30                      1434      344   1778       19.347582\n",
      "31-40                      1470      349   1819       19.186366\n"
     ]
    }
   ],
   "source": [
    "bins = [0, 10, 20, 30, 40, 50]\n",
    "labels = ['0-10', '11-20', '21-30', '31-40', '41-50']\n",
    "df['AdInteractionGroup'] = pd.cut(df['AdInteractionCount'], bins=bins, labels=labels)\n",
    "print(churn_counts_by_feature('AdInteractionGroup'))"
   ]
  },
  {
   "cell_type": "markdown",
   "id": "27c81191",
   "metadata": {},
   "source": [
    "Moderate Interaction with Ads: The average number of ad interactions is around 24.63, with the majority of users having interactions between 12 and 37.\n",
    "\n",
    "Skewed Distribution: There may be a few users with high interaction counts, but overall the distribution seems relatively spread out.\n",
    "\n",
    "In this also we can do Dv based median imputataion"
   ]
  },
  {
   "cell_type": "markdown",
   "id": "041fcf68",
   "metadata": {},
   "source": [
    "### ReferredFriendsCount"
   ]
  },
  {
   "cell_type": "code",
   "execution_count": 19,
   "id": "20c7fce7",
   "metadata": {},
   "outputs": [
    {
     "data": {
      "text/plain": [
       "count    10000.000000\n",
       "mean         4.450700\n",
       "std          2.889361\n",
       "min          0.000000\n",
       "25%          2.000000\n",
       "50%          4.000000\n",
       "75%          7.000000\n",
       "max          9.000000\n",
       "Name: ReferredFriendsCount, dtype: float64"
      ]
     },
     "execution_count": 19,
     "metadata": {},
     "output_type": "execute_result"
    }
   ],
   "source": [
    "df['ReferredFriendsCount'].describe()"
   ]
  },
  {
   "cell_type": "code",
   "execution_count": 20,
   "id": "dda64bc3",
   "metadata": {},
   "outputs": [
    {
     "name": "stderr",
     "output_type": "stream",
     "text": [
      "No artists with labels found to put in legend.  Note that artists whose label start with an underscore are ignored when legend() is called with no argument.\n"
     ]
    },
    {
     "data": {
      "image/png": "[encoded data removed]",
      "text/plain": [
       "<Figure size 864x432 with 1 Axes>"
      ]
     },
     "metadata": {
      "needs_background": "light"
     },
     "output_type": "display_data"
    },
    {
     "data": {
      "image/png": "[encoded data removed]",
      "text/plain": [
       "<Figure size 720x432 with 1 Axes>"
      ]
     },
     "metadata": {
      "needs_background": "light"
     },
     "output_type": "display_data"
    },
    {
     "data": {
      "text/plain": [
       "(<Figure size 720x432 with 1 Axes>,\n",
       " <Axes: title={'center': 'ReferredFriendsCount Distribution by Churn Status (Boxplot)'}, xlabel='Churn', ylabel='ReferredFriendsCount'>)"
      ]
     },
     "execution_count": 20,
     "metadata": {},
     "output_type": "execute_result"
    }
   ],
   "source": [
    "plot_distribution_by_churn(df,'ReferredFriendsCount')\n",
    "plot_boxplot_by_churn(df,'ReferredFriendsCount')"
   ]
  },
  {
   "cell_type": "code",
   "execution_count": 21,
   "id": "de33a8a7",
   "metadata": {},
   "outputs": [
    {
     "name": "stdout",
     "output_type": "stream",
     "text": [
      "                      Not Churned  Churned  Total  Churn Rate (%)\n",
      "ReferredFriendsGroup                                             \n",
      "6+                           2332      602   2934       20.518064\n",
      "1-2                          1595      391   1986       19.687815\n",
      "0                             845      204   1049       19.447092\n",
      "3-5                          2431      564   2995       18.831386\n"
     ]
    }
   ],
   "source": [
    "bins = [0, 1, 3, 6, 9]\n",
    "labels = ['0', '1-2', '3-5', '6+']\n",
    "df['ReferredFriendsGroup'] = pd.cut(df['ReferredFriendsCount'], bins=bins, labels=labels)\n",
    "print(churn_counts_by_feature('ReferredFriendsGroup'))"
   ]
  },
  {
   "cell_type": "markdown",
   "id": "bbb21de9",
   "metadata": {},
   "source": [
    "Premium users with 6+ referrals have the highest churn rate in their respective group (22.39%), suggesting that high referral activity may not necessarily indicate a loyal user base in the Premium tier.\n",
    "\n",
    "Standard and Basic users have relatively stable churn rates across referral groups, but 1-2 referrals show spikes in churn, particularly for Standard users.\n",
    "\n",
    "\n",
    "The Premium group shows some interesting patterns. The lower churn rate for the 1-2 referral group and the higher churn rate for the 6+ referral group could indicate that highly engaged Premium users (those referring many people) are not as satisfied and may be more likely to churn. Investigate why Premium users who refer a lot leave.\n",
    "\n",
    "Standard Subscription:\n",
    "\n",
    "The high churn rate in the 1-2 referrals group suggests that these users might be marginally engaged or dissatisfied with their subscription. You could explore their usage patterns (e.g., content engagement, watch time, etc.) to uncover whether the Standard subscription's features are mismatched with their needs.\n",
    "\n",
    "Retention Strategies:\n",
    "\n",
    "Basic users with 1-2 referrals could benefit from additional incentives to reduce churn. For instance, offering rewards for continued engagement could encourage them to stay.\n",
    "\n",
    "Consider targeted campaigns or loyalty programs for Premium users with high referral numbers to enhance their experience and reduce churn."
   ]
  },
  {
   "cell_type": "markdown",
   "id": "b47918d9",
   "metadata": {},
   "source": [
    "### SocialMediaMentions"
   ]
  },
  {
   "cell_type": "code",
   "execution_count": 11,
   "id": "05811ef9",
   "metadata": {},
   "outputs": [
    {
     "data": {
      "text/plain": [
       "count    10000.000000\n",
       "mean         9.492000\n",
       "std          5.707608\n",
       "min          0.000000\n",
       "25%          5.000000\n",
       "50%          9.000000\n",
       "75%         14.000000\n",
       "max         19.000000\n",
       "Name: SocialMediaMentions, dtype: float64"
      ]
     },
     "execution_count": 11,
     "metadata": {},
     "output_type": "execute_result"
    }
   ],
   "source": [
    "df['SocialMediaMentions'].describe()"
   ]
  },
  {
   "cell_type": "markdown",
   "id": "01b0b902",
   "metadata": {},
   "source": [
    "Skewness: The distribution is right-skewed: There's a small group of users with a high number of mentions, but most users have a lower number. This suggests a long-tail distribution, where a majority of users are not highly active on social media.\n",
    "\n",
    "Engagement Level: The average number of mentions (9.49) implies moderate social media activity. However, the standard deviation (5.71) suggests there is considerable variation, with some users engaging a lot more than others."
   ]
  },
  {
   "cell_type": "code",
   "execution_count": 12,
   "id": "0e52dd26",
   "metadata": {},
   "outputs": [
    {
     "name": "stderr",
     "output_type": "stream",
     "text": [
      "No artists with labels found to put in legend.  Note that artists whose label start with an underscore are ignored when legend() is called with no argument.\n"
     ]
    },
    {
     "data": {
      "image/png": "[encoded data removed]",
      "text/plain": [
       "<Figure size 864x432 with 1 Axes>"
      ]
     },
     "metadata": {
      "needs_background": "light"
     },
     "output_type": "display_data"
    },
    {
     "data": {
      "image/png": "[encoded data removed]",
      "text/plain": [
       "<Figure size 720x432 with 1 Axes>"
      ]
     },
     "metadata": {
      "needs_background": "light"
     },
     "output_type": "display_data"
    },
    {
     "data": {
      "text/plain": [
       "(<Figure size 720x432 with 1 Axes>,\n",
       " <Axes: title={'center': 'ReferredFriendsCount Distribution by Churn Status (Boxplot)'}, xlabel='Churn', ylabel='ReferredFriendsCount'>)"
      ]
     },
     "execution_count": 12,
     "metadata": {},
     "output_type": "execute_result"
    }
   ],
   "source": [
    "plot_distribution_by_churn(df,'ReferredFriendsCount')\n",
    "plot_boxplot_by_churn(df,'ReferredFriendsCount')"
   ]
  },
  {
   "cell_type": "code",
   "execution_count": 16,
   "id": "503a4b1f",
   "metadata": {},
   "outputs": [
    {
     "name": "stdout",
     "output_type": "stream",
     "text": [
      "CustomerID               -0.003772\n",
      "Age                       0.002992\n",
      "MonthlySpend             -0.000212\n",
      "TotalWatchTime           -0.004351\n",
      "ComplaintCount           -0.001153\n",
      "DaysSinceLastLogin       -0.005106\n",
      "AvgSessionDuration       -0.014813\n",
      "NumDevicesUsed           -0.019569\n",
      "ContentPreferenceScore   -0.021735\n",
      "ActiveDaysLastMonth       0.009709\n",
      "BingeWatchRatio          -0.001816\n",
      "SkippedContentCount       0.005811\n",
      "DiscountReceived          0.012745\n",
      "LoyaltyScore             -0.011190\n",
      "AdInteractionCount       -0.000291\n",
      "ReferredFriendsCount      0.004456\n",
      "SocialMediaMentions      -0.009522\n",
      "Name: Churn, dtype: float64\n"
     ]
    }
   ],
   "source": [
    "# Correlation\n",
    "\n",
    "def get_positive_correlations(df, target_col='Churn'):\n",
    "    # Select numeric columns only\n",
    "    numeric_df = df.select_dtypes(include='number')\n",
    "    \n",
    "    # Drop rows with missing values for correlation (optional: can use fillna if desired)\n",
    "    corr_matrix = numeric_df.corr()\n",
    "    \n",
    "    # Get correlations with the target column\n",
    "    corr_with_target = corr_matrix[target_col].drop(target_col)\n",
    "    \n",
    "    # Filter correlations > 0\n",
    "    #positive_corr = corr_with_target[corr_with_target < 0].sort_values(ascending=False)\n",
    "    \n",
    "    return corr_with_target\n",
    "\n",
    "# Usage\n",
    "positive_correlations = get_positive_correlations(df, target_col='Churn')\n",
    "print(positive_correlations)\n"
   ]
  },
  {
   "cell_type": "markdown",
   "id": "8a032c04",
   "metadata": {},
   "source": [
    "All correlation values are very close to zero, meaning no strong linear relationship exists between these features and churn.\n",
    "\n",
    "Still, these could interact in non-linear ways with churn, which tree-based models (like XGBoost or Random Forest) can capture better than logistic regression."
   ]
  },
  {
   "cell_type": "markdown",
   "id": "8ccded4a",
   "metadata": {},
   "source": [
    "### Final Take away\n",
    "\n",
    "##### Weak Predictors of Churn:\n",
    "\n",
    "Churn Rate: Around 20% of users churn, highlighting the need for improved retention strategies.\n",
    "\n",
    "Gender and Age: Very stable churn rates; not strong differentiators.\n",
    "\n",
    "TotalWatchTime, DaysSinceLastLogin, ActiveDaysLastMonth, NumDevicesUsed: Weak or flat correlation with churn.\n",
    "\n",
    "LoyaltyScore: No meaningful pattern; potential data quality issues — consider dropping.\n",
    "\n",
    "##### Promising Predictors:\n",
    "\n",
    "ComplaintCount: Clear positive relationship with churn. Strong behavioral signal of dissatisfaction.\n",
    "\n",
    "PlatformType: Mobile users churn more; potential UX or content delivery issues.\n",
    "\n",
    "AvgSessionDuration: Sweet spot at 90–150 min; too short or medium sessions signal disengagement.\n",
    "\n",
    "ContentPreferenceScore: Strong feature if cleaned; median imputation by DV makes sense.\n",
    "\n",
    "BingeWatchRatio: Skewed but informative; heavy bingers have lowest churn.\n",
    "\n",
    "SkippedContentCount: High skippers show elevated churn — flag extreme values or bin.\n",
    "\n",
    "SubscriptionType: Premium users show highest churn — investigate perception vs. value.\n",
    "\n",
    "ReferredFriendsCount: High referrers in Premium churn more — counterintuitive, requires deeper analysis.\n",
    "\n",
    "##### Features to Clean or Transform\n",
    "\n",
    "Negative values: Fix in ContentPreferenceScore, LoyaltyScore, SocialMediaMentions if any. We can simply make it as NaN and do median imputation because scores should not be negative. \n",
    "\n",
    "Highly skewed distributions: BingeWatchRatio, AdInteractionCount, SkippedContentCount — log-transform can work fairly well."
   ]
  },
  {
   "cell_type": "markdown",
   "id": "44afcd0d",
   "metadata": {},
   "source": [
    "----"
   ]
  },
  {
   "cell_type": "markdown",
   "id": "d1644957",
   "metadata": {},
   "source": [
    "## Phase 2: Data Cleaning and Preprocessing"
   ]
  },
  {
   "cell_type": "code",
   "execution_count": 2,
   "id": "40331f6b",
   "metadata": {},
   "outputs": [],
   "source": [
    "import pandas as pd\n",
    "import numpy as np\n",
    "df = pd.read_csv(\"customer_churn_dataset.csv\")"
   ]
  },
  {
   "cell_type": "code",
   "execution_count": 3,
   "id": "c757f605",
   "metadata": {},
   "outputs": [
    {
     "data": {
      "text/html": [
       "<div>\n",
       "<style scoped>\n",
       "    .dataframe tbody tr th:only-of-type {\n",
       "        vertical-align: middle;\n",
       "    }\n",
       "\n",
       "    .dataframe tbody tr th {\n",
       "        vertical-align: top;\n",
       "    }\n",
       "\n",
       "    .dataframe thead th {\n",
       "        text-align: right;\n",
       "    }\n",
       "</style>\n",
       "<table border=\"1\" class=\"dataframe\">\n",
       "  <thead>\n",
       "    <tr style=\"text-align: right;\">\n",
       "      <th></th>\n",
       "      <th>CustomerID</th>\n",
       "      <th>Gender</th>\n",
       "      <th>Age</th>\n",
       "      <th>SubscriptionType</th>\n",
       "      <th>MonthlySpend</th>\n",
       "      <th>TotalWatchTime</th>\n",
       "      <th>ComplaintCount</th>\n",
       "      <th>DaysSinceLastLogin</th>\n",
       "      <th>Churn</th>\n",
       "      <th>AvgSessionDuration</th>\n",
       "      <th>...</th>\n",
       "      <th>ContentPreferenceScore</th>\n",
       "      <th>ActiveDaysLastMonth</th>\n",
       "      <th>BingeWatchRatio</th>\n",
       "      <th>SkippedContentCount</th>\n",
       "      <th>DiscountReceived</th>\n",
       "      <th>LoyaltyScore</th>\n",
       "      <th>PlatformType</th>\n",
       "      <th>AdInteractionCount</th>\n",
       "      <th>ReferredFriendsCount</th>\n",
       "      <th>SocialMediaMentions</th>\n",
       "    </tr>\n",
       "  </thead>\n",
       "  <tbody>\n",
       "    <tr>\n",
       "      <th>0</th>\n",
       "      <td>1</td>\n",
       "      <td>Male</td>\n",
       "      <td>68</td>\n",
       "      <td>Basic</td>\n",
       "      <td>11.35</td>\n",
       "      <td>27</td>\n",
       "      <td>2</td>\n",
       "      <td>57</td>\n",
       "      <td>0</td>\n",
       "      <td>208.32</td>\n",
       "      <td>...</td>\n",
       "      <td>33.0</td>\n",
       "      <td>5</td>\n",
       "      <td>5.40</td>\n",
       "      <td>3</td>\n",
       "      <td>3.16</td>\n",
       "      <td>9.850000</td>\n",
       "      <td>Mobile</td>\n",
       "      <td>18.0</td>\n",
       "      <td>2</td>\n",
       "      <td>9</td>\n",
       "    </tr>\n",
       "    <tr>\n",
       "      <th>1</th>\n",
       "      <td>2</td>\n",
       "      <td>Female</td>\n",
       "      <td>57</td>\n",
       "      <td>Standard</td>\n",
       "      <td>30.87</td>\n",
       "      <td>15</td>\n",
       "      <td>0</td>\n",
       "      <td>48</td>\n",
       "      <td>1</td>\n",
       "      <td>289.54</td>\n",
       "      <td>...</td>\n",
       "      <td>62.0</td>\n",
       "      <td>26</td>\n",
       "      <td>0.58</td>\n",
       "      <td>9</td>\n",
       "      <td>5.73</td>\n",
       "      <td>8.290000</td>\n",
       "      <td>TV</td>\n",
       "      <td>5.0</td>\n",
       "      <td>0</td>\n",
       "      <td>18</td>\n",
       "    </tr>\n",
       "    <tr>\n",
       "      <th>2</th>\n",
       "      <td>3</td>\n",
       "      <td>Male</td>\n",
       "      <td>24</td>\n",
       "      <td>Basic</td>\n",
       "      <td>32.16</td>\n",
       "      <td>0</td>\n",
       "      <td>1</td>\n",
       "      <td>34</td>\n",
       "      <td>1</td>\n",
       "      <td>194.16</td>\n",
       "      <td>...</td>\n",
       "      <td>NaN</td>\n",
       "      <td>9</td>\n",
       "      <td>0.00</td>\n",
       "      <td>2</td>\n",
       "      <td>18.09</td>\n",
       "      <td>-1.772388</td>\n",
       "      <td>Mobile</td>\n",
       "      <td>33.0</td>\n",
       "      <td>1</td>\n",
       "      <td>16</td>\n",
       "    </tr>\n",
       "    <tr>\n",
       "      <th>3</th>\n",
       "      <td>4</td>\n",
       "      <td>Male</td>\n",
       "      <td>49</td>\n",
       "      <td>Standard</td>\n",
       "      <td>35.91</td>\n",
       "      <td>21</td>\n",
       "      <td>0</td>\n",
       "      <td>35</td>\n",
       "      <td>0</td>\n",
       "      <td>245.60</td>\n",
       "      <td>...</td>\n",
       "      <td>90.0</td>\n",
       "      <td>2</td>\n",
       "      <td>10.50</td>\n",
       "      <td>4</td>\n",
       "      <td>19.78</td>\n",
       "      <td>2.380000</td>\n",
       "      <td>Mobile</td>\n",
       "      <td>10.0</td>\n",
       "      <td>8</td>\n",
       "      <td>16</td>\n",
       "    </tr>\n",
       "    <tr>\n",
       "      <th>4</th>\n",
       "      <td>5</td>\n",
       "      <td>Male</td>\n",
       "      <td>65</td>\n",
       "      <td>Standard</td>\n",
       "      <td>22.71</td>\n",
       "      <td>0</td>\n",
       "      <td>2</td>\n",
       "      <td>4</td>\n",
       "      <td>0</td>\n",
       "      <td>271.02</td>\n",
       "      <td>...</td>\n",
       "      <td>42.0</td>\n",
       "      <td>15</td>\n",
       "      <td>NaN</td>\n",
       "      <td>12</td>\n",
       "      <td>15.41</td>\n",
       "      <td>4.370000</td>\n",
       "      <td>Mobile</td>\n",
       "      <td>2.0</td>\n",
       "      <td>4</td>\n",
       "      <td>8</td>\n",
       "    </tr>\n",
       "    <tr>\n",
       "      <th>...</th>\n",
       "      <td>...</td>\n",
       "      <td>...</td>\n",
       "      <td>...</td>\n",
       "      <td>...</td>\n",
       "      <td>...</td>\n",
       "      <td>...</td>\n",
       "      <td>...</td>\n",
       "      <td>...</td>\n",
       "      <td>...</td>\n",
       "      <td>...</td>\n",
       "      <td>...</td>\n",
       "      <td>...</td>\n",
       "      <td>...</td>\n",
       "      <td>...</td>\n",
       "      <td>...</td>\n",
       "      <td>...</td>\n",
       "      <td>...</td>\n",
       "      <td>...</td>\n",
       "      <td>...</td>\n",
       "      <td>...</td>\n",
       "      <td>...</td>\n",
       "    </tr>\n",
       "    <tr>\n",
       "      <th>9995</th>\n",
       "      <td>9996</td>\n",
       "      <td>Female</td>\n",
       "      <td>27</td>\n",
       "      <td>Standard</td>\n",
       "      <td>45.82</td>\n",
       "      <td>43</td>\n",
       "      <td>0</td>\n",
       "      <td>33</td>\n",
       "      <td>0</td>\n",
       "      <td>137.76</td>\n",
       "      <td>...</td>\n",
       "      <td>21.0</td>\n",
       "      <td>13</td>\n",
       "      <td>3.31</td>\n",
       "      <td>5</td>\n",
       "      <td>10.37</td>\n",
       "      <td>9.980000</td>\n",
       "      <td>Mobile</td>\n",
       "      <td>17.0</td>\n",
       "      <td>1</td>\n",
       "      <td>14</td>\n",
       "    </tr>\n",
       "    <tr>\n",
       "      <th>9996</th>\n",
       "      <td>9997</td>\n",
       "      <td>Male</td>\n",
       "      <td>40</td>\n",
       "      <td>Basic</td>\n",
       "      <td>147.75</td>\n",
       "      <td>15</td>\n",
       "      <td>1</td>\n",
       "      <td>21</td>\n",
       "      <td>0</td>\n",
       "      <td>227.40</td>\n",
       "      <td>...</td>\n",
       "      <td>89.0</td>\n",
       "      <td>13</td>\n",
       "      <td>NaN</td>\n",
       "      <td>36</td>\n",
       "      <td>12.59</td>\n",
       "      <td>8.330000</td>\n",
       "      <td>Web</td>\n",
       "      <td>0.0</td>\n",
       "      <td>8</td>\n",
       "      <td>13</td>\n",
       "    </tr>\n",
       "    <tr>\n",
       "      <th>9997</th>\n",
       "      <td>9998</td>\n",
       "      <td>Female</td>\n",
       "      <td>23</td>\n",
       "      <td>Basic</td>\n",
       "      <td>35.64</td>\n",
       "      <td>35</td>\n",
       "      <td>0</td>\n",
       "      <td>20</td>\n",
       "      <td>0</td>\n",
       "      <td>244.74</td>\n",
       "      <td>...</td>\n",
       "      <td>88.0</td>\n",
       "      <td>28</td>\n",
       "      <td>1.25</td>\n",
       "      <td>13</td>\n",
       "      <td>18.24</td>\n",
       "      <td>9.390000</td>\n",
       "      <td>Mobile</td>\n",
       "      <td>29.0</td>\n",
       "      <td>6</td>\n",
       "      <td>15</td>\n",
       "    </tr>\n",
       "    <tr>\n",
       "      <th>9998</th>\n",
       "      <td>9999</td>\n",
       "      <td>Female</td>\n",
       "      <td>40</td>\n",
       "      <td>Standard</td>\n",
       "      <td>9.27</td>\n",
       "      <td>17</td>\n",
       "      <td>1</td>\n",
       "      <td>32</td>\n",
       "      <td>1</td>\n",
       "      <td>223.73</td>\n",
       "      <td>...</td>\n",
       "      <td>NaN</td>\n",
       "      <td>26</td>\n",
       "      <td>0.65</td>\n",
       "      <td>3</td>\n",
       "      <td>12.59</td>\n",
       "      <td>9.220000</td>\n",
       "      <td>Mobile</td>\n",
       "      <td>28.0</td>\n",
       "      <td>8</td>\n",
       "      <td>4</td>\n",
       "    </tr>\n",
       "    <tr>\n",
       "      <th>9999</th>\n",
       "      <td>10000</td>\n",
       "      <td>Male</td>\n",
       "      <td>45</td>\n",
       "      <td>Basic</td>\n",
       "      <td>33.43</td>\n",
       "      <td>40</td>\n",
       "      <td>0</td>\n",
       "      <td>15</td>\n",
       "      <td>0</td>\n",
       "      <td>145.61</td>\n",
       "      <td>...</td>\n",
       "      <td>8.0</td>\n",
       "      <td>23</td>\n",
       "      <td>1.74</td>\n",
       "      <td>19</td>\n",
       "      <td>10.90</td>\n",
       "      <td>2.730000</td>\n",
       "      <td>Mobile</td>\n",
       "      <td>11.0</td>\n",
       "      <td>5</td>\n",
       "      <td>9</td>\n",
       "    </tr>\n",
       "  </tbody>\n",
       "</table>\n",
       "<p>10000 rows × 21 columns</p>\n",
       "</div>"
      ],
      "text/plain": [
       "      CustomerID  Gender  Age SubscriptionType  MonthlySpend  TotalWatchTime  \\\n",
       "0              1    Male   68            Basic         11.35              27   \n",
       "1              2  Female   57         Standard         30.87              15   \n",
       "2              3    Male   24            Basic         32.16               0   \n",
       "3              4    Male   49         Standard         35.91              21   \n",
       "4              5    Male   65         Standard         22.71               0   \n",
       "...          ...     ...  ...              ...           ...             ...   \n",
       "9995        9996  Female   27         Standard         45.82              43   \n",
       "9996        9997    Male   40            Basic        147.75              15   \n",
       "9997        9998  Female   23            Basic         35.64              35   \n",
       "9998        9999  Female   40         Standard          9.27              17   \n",
       "9999       10000    Male   45            Basic         33.43              40   \n",
       "\n",
       "      ComplaintCount  DaysSinceLastLogin  Churn  AvgSessionDuration  ...  \\\n",
       "0                  2                  57      0              208.32  ...   \n",
       "1                  0                  48      1              289.54  ...   \n",
       "2                  1                  34      1              194.16  ...   \n",
       "3                  0                  35      0              245.60  ...   \n",
       "4                  2                   4      0              271.02  ...   \n",
       "...              ...                 ...    ...                 ...  ...   \n",
       "9995               0                  33      0              137.76  ...   \n",
       "9996               1                  21      0              227.40  ...   \n",
       "9997               0                  20      0              244.74  ...   \n",
       "9998               1                  32      1              223.73  ...   \n",
       "9999               0                  15      0              145.61  ...   \n",
       "\n",
       "      ContentPreferenceScore  ActiveDaysLastMonth  BingeWatchRatio  \\\n",
       "0                       33.0                    5             5.40   \n",
       "1                       62.0                   26             0.58   \n",
       "2                        NaN                    9             0.00   \n",
       "3                       90.0                    2            10.50   \n",
       "4                       42.0                   15              NaN   \n",
       "...                      ...                  ...              ...   \n",
       "9995                    21.0                   13             3.31   \n",
       "9996                    89.0                   13              NaN   \n",
       "9997                    88.0                   28             1.25   \n",
       "9998                     NaN                   26             0.65   \n",
       "9999                     8.0                   23             1.74   \n",
       "\n",
       "      SkippedContentCount  DiscountReceived  LoyaltyScore  PlatformType  \\\n",
       "0                       3              3.16      9.850000        Mobile   \n",
       "1                       9              5.73      8.290000            TV   \n",
       "2                       2             18.09     -1.772388        Mobile   \n",
       "3                       4             19.78      2.380000        Mobile   \n",
       "4                      12             15.41      4.370000        Mobile   \n",
       "...                   ...               ...           ...           ...   \n",
       "9995                    5             10.37      9.980000        Mobile   \n",
       "9996                   36             12.59      8.330000           Web   \n",
       "9997                   13             18.24      9.390000        Mobile   \n",
       "9998                    3             12.59      9.220000        Mobile   \n",
       "9999                   19             10.90      2.730000        Mobile   \n",
       "\n",
       "     AdInteractionCount  ReferredFriendsCount  SocialMediaMentions  \n",
       "0                  18.0                     2                    9  \n",
       "1                   5.0                     0                   18  \n",
       "2                  33.0                     1                   16  \n",
       "3                  10.0                     8                   16  \n",
       "4                   2.0                     4                    8  \n",
       "...                 ...                   ...                  ...  \n",
       "9995               17.0                     1                   14  \n",
       "9996                0.0                     8                   13  \n",
       "9997               29.0                     6                   15  \n",
       "9998               28.0                     8                    4  \n",
       "9999               11.0                     5                    9  \n",
       "\n",
       "[10000 rows x 21 columns]"
      ]
     },
     "execution_count": 3,
     "metadata": {},
     "output_type": "execute_result"
    }
   ],
   "source": [
    "df"
   ]
  },
  {
   "cell_type": "code",
   "execution_count": 4,
   "id": "44009a86",
   "metadata": {},
   "outputs": [],
   "source": [
    "df['MonthlySpend_log'] = np.log1p(df['MonthlySpend'])\n",
    "df['BingeWatchRatio_log'] = np.log1p(df['BingeWatchRatio'])\n",
    "\n",
    "df.loc[df['ContentPreferenceScore'] < 0, 'ContentPreferenceScore'] = np.nan\n",
    "\n",
    "df['ContentPreferenceScore'] = df.groupby('Churn')['ContentPreferenceScore'].transform(\n",
    "    lambda x: x.fillna(x.median())\n",
    ")\n",
    "df['BingeWatchRatio_log'] = df.groupby('Churn')['BingeWatchRatio_log'].transform(\n",
    "    lambda x: x.fillna(x.median())\n",
    ")\n",
    "\n",
    "df['AdInteractionCount'] = df.groupby('Churn')['AdInteractionCount'].transform(\n",
    "    lambda x: x.fillna(x.median())\n",
    ")\n"
   ]
  },
  {
   "cell_type": "code",
   "execution_count": 5,
   "id": "2e4e7990",
   "metadata": {},
   "outputs": [
    {
     "data": {
      "text/plain": [
       "(10000, 23)"
      ]
     },
     "execution_count": 5,
     "metadata": {},
     "output_type": "execute_result"
    }
   ],
   "source": [
    "df.shape"
   ]
  },
  {
   "cell_type": "code",
   "execution_count": 6,
   "id": "2800f398",
   "metadata": {},
   "outputs": [],
   "source": [
    "df.set_index('CustomerID',inplace=True)"
   ]
  },
  {
   "cell_type": "code",
   "execution_count": 7,
   "id": "afefba89",
   "metadata": {},
   "outputs": [],
   "source": [
    "df = df.drop(['BingeWatchRatio','MonthlySpend'],axis=1)"
   ]
  },
  {
   "cell_type": "code",
   "execution_count": 8,
   "id": "9f8bde4e",
   "metadata": {},
   "outputs": [
    {
     "data": {
      "text/plain": [
       "(10000, 20)"
      ]
     },
     "execution_count": 8,
     "metadata": {},
     "output_type": "execute_result"
    }
   ],
   "source": [
    "df.shape"
   ]
  },
  {
   "cell_type": "code",
   "execution_count": 9,
   "id": "9969233d",
   "metadata": {},
   "outputs": [
    {
     "data": {
      "text/plain": [
       "Gender                    0\n",
       "Age                       0\n",
       "SubscriptionType          0\n",
       "TotalWatchTime            0\n",
       "ComplaintCount            0\n",
       "DaysSinceLastLogin        0\n",
       "Churn                     0\n",
       "AvgSessionDuration        0\n",
       "NumDevicesUsed            0\n",
       "ContentPreferenceScore    0\n",
       "ActiveDaysLastMonth       0\n",
       "SkippedContentCount       0\n",
       "DiscountReceived          0\n",
       "LoyaltyScore              0\n",
       "PlatformType              0\n",
       "AdInteractionCount        0\n",
       "ReferredFriendsCount      0\n",
       "SocialMediaMentions       0\n",
       "MonthlySpend_log          0\n",
       "BingeWatchRatio_log       0\n",
       "dtype: int64"
      ]
     },
     "execution_count": 9,
     "metadata": {},
     "output_type": "execute_result"
    }
   ],
   "source": [
    "df.isna().sum()"
   ]
  },
  {
   "cell_type": "code",
   "execution_count": 10,
   "id": "abad22ba",
   "metadata": {},
   "outputs": [],
   "source": [
    "df['LoyaltyScore'].describe()\n",
    "df.loc[df['LoyaltyScore'] < 0, 'LoyaltyScore'] = 0"
   ]
  },
  {
   "cell_type": "code",
   "execution_count": 11,
   "id": "6597833d",
   "metadata": {},
   "outputs": [],
   "source": [
    "idvs_original = df.columns.tolist()"
   ]
  },
  {
   "cell_type": "code",
   "execution_count": 12,
   "id": "b693843a",
   "metadata": {},
   "outputs": [],
   "source": [
    "\"\"\"\n",
    "Engagement Intensity\n",
    "A comprehensive measure of how deeply a user engages with the platform, balancing quantity and quality of activity. \n",
    "High engagement often correlates with lower churn.\n",
    "\n",
    "Logic: Mixes total watch time, binge behavior, daily activeness, and average session duration.\n",
    "\"\"\"\n",
    "df['EngagementIntensity'] = (\n",
    "    df['TotalWatchTime'] * df['BingeWatchRatio_log'] +\n",
    "    df['ActiveDaysLastMonth'] +\n",
    "    df['AvgSessionDuration'] / 10\n",
    ")\n"
   ]
  },
  {
   "cell_type": "code",
   "execution_count": 13,
   "id": "bd661e79",
   "metadata": {},
   "outputs": [],
   "source": [
    "\"\"\"\n",
    "Friction Score\n",
    "Combines platform dissatisfaction signals — high complaints or skipped content likely indicates user frustration.\n",
    "\n",
    "Logic: Complaints + frequent content skipping → dissatisfaction.\n",
    "\"\"\"\n",
    "df['FrictionScore'] = (\n",
    "    df['ComplaintCount'] + df['SkippedContentCount'] / 5\n",
    ")\n"
   ]
  },
  {
   "cell_type": "code",
   "execution_count": 14,
   "id": "c46208a4",
   "metadata": {},
   "outputs": [],
   "source": [
    "\"\"\"\n",
    "Content Engagement Score\n",
    "Reflects how well content is received. Highly engaged users will have high preference scores and low skips.\n",
    "\n",
    "Logic: Preference score reduced by penalty for skipped content.\n",
    "\"\"\"\n",
    "df['ContentEngagementScore'] = (\n",
    "    df['ContentPreferenceScore'] - df['SkippedContentCount'] * 2\n",
    ")\n"
   ]
  },
  {
   "cell_type": "code",
   "execution_count": 15,
   "id": "0cabb9c5",
   "metadata": {},
   "outputs": [],
   "source": [
    "\"\"\"\n",
    "Churn Likelihood (Normalized)\n",
    "A normalized indicator capturing whether active users are also paying well — churners are often low-value + low-activity users.\n",
    "\n",
    "Logic: Normalize activity-weighted spend to identify risky users.\n",
    "\"\"\"\n",
    "df['ChurnLikelihood'] = df['ActiveDaysLastMonth'] * df['MonthlySpend_log'] / df['MonthlySpend_log'].mean()\n"
   ]
  },
  {
   "cell_type": "code",
   "execution_count": 16,
   "id": "ca2b3cc1",
   "metadata": {},
   "outputs": [],
   "source": [
    "\"\"\"\n",
    "Rolling Averages (Behavior Smoothing)\n",
    "Captures recent behavioral patterns while reducing noise. Useful for trend-aware churn prediction.\n",
    "\n",
    "Logic: 3-day rolling averages for temporal smoothing of user behavior.\n",
    "\n",
    "\"\"\"\n",
    "df['Rolling_Avg_SocialMediaMentions'] = df['SocialMediaMentions'].rolling(window=3).mean()\n",
    "df['Rolling_Avg_ActiveDaysLastMonth'] = df['ActiveDaysLastMonth'].rolling(window=3).mean()\n",
    "df['Rolling_Avg_AdInteractionCount'] = df['AdInteractionCount'].rolling(window=3).mean()\n"
   ]
  },
  {
   "cell_type": "code",
   "execution_count": 17,
   "id": "1f463895",
   "metadata": {},
   "outputs": [],
   "source": [
    "\"\"\"\n",
    "Multi-Device Usage Flag\n",
    "Users connected on more devices are more embedded in the ecosystem — less likely to churn.\n",
    "\n",
    "Logic: Flag users with >2 devices.\n",
    "\"\"\"\n",
    "df['MultiDeviceUser'] = (df['NumDevicesUsed'] > 2).astype(int)\n"
   ]
  },
  {
   "cell_type": "code",
   "execution_count": 18,
   "id": "0bfeae5e",
   "metadata": {},
   "outputs": [],
   "source": [
    "\"\"\"\n",
    "Recency Engagement Score\n",
    "Combines recent activity with time since last login — captures decaying interest.\n",
    "\n",
    "Logic: Engagement divided by staleness (days since last login).\n",
    "\"\"\"\n",
    "df['RecencyEngagement'] = df['ActiveDaysLastMonth'] / (df['DaysSinceLastLogin'] + 1)\n"
   ]
  },
  {
   "cell_type": "code",
   "execution_count": 19,
   "id": "6d2a475f",
   "metadata": {},
   "outputs": [],
   "source": [
    "\"\"\"\n",
    "Social Influence Score\n",
    "Socially influential users (referrals, social buzz) are valuable and often stickier.\n",
    "\n",
    "Logic: Weighted sum of referral and mentions.\n",
    "\"\"\"\n",
    "df['SocialInfluenceScore'] = (df['ReferredFriendsCount'] * 2 + df['SocialMediaMentions'])\n"
   ]
  },
  {
   "cell_type": "code",
   "execution_count": 20,
   "id": "f6446d40",
   "metadata": {},
   "outputs": [],
   "source": [
    "\"\"\"\n",
    "SubscriptionType × Monthly Spend\n",
    "Adds context to raw spend — a high spender on Basic might churn if they feel low value.\n",
    "\n",
    "Logic: Subscription tier multiplier × spend.\n",
    "\"\"\"\n",
    "df['SubscriptionType_MonthlySpend'] = df['SubscriptionType'].map({'Basic': 1, 'Premium': 2, 'Standard': 3}) * df['MonthlySpend_log']\n"
   ]
  },
  {
   "cell_type": "code",
   "execution_count": 21,
   "id": "958faf54",
   "metadata": {},
   "outputs": [],
   "source": [
    "\"\"\"\n",
    "Spend × Engagement\n",
    "Captures “power users” — high spenders who are also highly engaged.\n",
    "\n",
    "Logic: Multiply monetary value with behavioral intensity.\n",
    "\"\"\"\n",
    "df['Spend_Engagement'] = df['MonthlySpend_log'] * df['EngagementIntensity']\n"
   ]
  },
  {
   "cell_type": "code",
   "execution_count": 22,
   "id": "db4dde63",
   "metadata": {},
   "outputs": [],
   "source": [
    "\"\"\"\n",
    "Loyalty Risk (Flag)\n",
    "Flags users who may leave despite spending — due to low loyalty and high complaints.\n",
    "\n",
    "Logic: Risky if high discount usage, high complaints, and low loyalty score.\n",
    "\"\"\"\n",
    "df['LoyaltyRisk'] = (\n",
    "    (df['DiscountReceived'] > df['DiscountReceived'].median()).astype(int) +\n",
    "    (df['ComplaintCount'] > df['ComplaintCount'].median()).astype(int) +\n",
    "    (df['LoyaltyScore'] < df['LoyaltyScore'].median()).astype(int)\n",
    ")\n"
   ]
  },
  {
   "cell_type": "code",
   "execution_count": 23,
   "id": "972ed411",
   "metadata": {},
   "outputs": [],
   "source": [
    "\"\"\"\n",
    "Customer Segment (Label)\n",
    "Readable segmentation for targeted marketing or modeling (optional: one-hot encode).\n",
    "\n",
    "Logic: Rules-based classification using engagement, friction, and loyalty.\n",
    "\"\"\"\n",
    "def segment_user(row):\n",
    "    if row['EngagementIntensity'] > df['EngagementIntensity'].quantile(0.75):\n",
    "        return 'Highly Engaged'\n",
    "    elif row['FrictionScore'] > df['FrictionScore'].quantile(0.75):\n",
    "        return 'Frustrated'\n",
    "    elif row['LoyaltyScore'] > 8:\n",
    "        return 'Loyal'\n",
    "    else:\n",
    "        return 'At Risk'\n",
    "\n",
    "df['CustomerSegment'] = df.apply(segment_user, axis=1)\n"
   ]
  },
  {
   "cell_type": "code",
   "execution_count": 24,
   "id": "9b636d22",
   "metadata": {},
   "outputs": [
    {
     "data": {
      "text/plain": [
       "Gender                             0\n",
       "Age                                0\n",
       "SubscriptionType                   0\n",
       "TotalWatchTime                     0\n",
       "ComplaintCount                     0\n",
       "DaysSinceLastLogin                 0\n",
       "Churn                              0\n",
       "AvgSessionDuration                 0\n",
       "NumDevicesUsed                     0\n",
       "ContentPreferenceScore             0\n",
       "ActiveDaysLastMonth                0\n",
       "SkippedContentCount                0\n",
       "DiscountReceived                   0\n",
       "LoyaltyScore                       0\n",
       "PlatformType                       0\n",
       "AdInteractionCount                 0\n",
       "ReferredFriendsCount               0\n",
       "SocialMediaMentions                0\n",
       "MonthlySpend_log                   0\n",
       "BingeWatchRatio_log                0\n",
       "EngagementIntensity                0\n",
       "FrictionScore                      0\n",
       "ContentEngagementScore             0\n",
       "ChurnLikelihood                    0\n",
       "Rolling_Avg_SocialMediaMentions    2\n",
       "Rolling_Avg_ActiveDaysLastMonth    2\n",
       "Rolling_Avg_AdInteractionCount     2\n",
       "MultiDeviceUser                    0\n",
       "RecencyEngagement                  0\n",
       "SocialInfluenceScore               0\n",
       "SubscriptionType_MonthlySpend      0\n",
       "Spend_Engagement                   0\n",
       "LoyaltyRisk                        0\n",
       "CustomerSegment                    0\n",
       "dtype: int64"
      ]
     },
     "execution_count": 24,
     "metadata": {},
     "output_type": "execute_result"
    }
   ],
   "source": [
    "df.isna().sum()"
   ]
  },
  {
   "cell_type": "code",
   "execution_count": 25,
   "id": "0f114c5a",
   "metadata": {},
   "outputs": [],
   "source": [
    "df = df.dropna()"
   ]
  },
  {
   "cell_type": "code",
   "execution_count": 26,
   "id": "f78627b1",
   "metadata": {},
   "outputs": [],
   "source": [
    "df_custom_idvs = df.columns.tolist()"
   ]
  },
  {
   "cell_type": "code",
   "execution_count": 27,
   "id": "69ca500a",
   "metadata": {},
   "outputs": [],
   "source": [
    "df_custom_idvs = list(set(df_custom_idvs)-set(idvs_original))"
   ]
  },
  {
   "cell_type": "code",
   "execution_count": 28,
   "id": "8f1949ad",
   "metadata": {},
   "outputs": [
    {
     "name": "stdout",
     "output_type": "stream",
     "text": [
      "Categorical columns: ['Gender', 'SubscriptionType', 'PlatformType', 'CustomerSegment']\n"
     ]
    }
   ],
   "source": [
    "# Identify categorical columns in the DataFrame\n",
    "categorical_columns = df.select_dtypes(include=['object', 'category']).columns.tolist()\n",
    "print(\"Categorical columns:\", categorical_columns)"
   ]
  },
  {
   "cell_type": "code",
   "execution_count": 29,
   "id": "32b9594d",
   "metadata": {},
   "outputs": [
    {
     "data": {
      "text/html": [
       "<div>\n",
       "<style scoped>\n",
       "    .dataframe tbody tr th:only-of-type {\n",
       "        vertical-align: middle;\n",
       "    }\n",
       "\n",
       "    .dataframe tbody tr th {\n",
       "        vertical-align: top;\n",
       "    }\n",
       "\n",
       "    .dataframe thead th {\n",
       "        text-align: right;\n",
       "    }\n",
       "</style>\n",
       "<table border=\"1\" class=\"dataframe\">\n",
       "  <thead>\n",
       "    <tr style=\"text-align: right;\">\n",
       "      <th></th>\n",
       "      <th>Gender</th>\n",
       "      <th>SubscriptionType</th>\n",
       "      <th>PlatformType</th>\n",
       "      <th>CustomerSegment</th>\n",
       "    </tr>\n",
       "    <tr>\n",
       "      <th>CustomerID</th>\n",
       "      <th></th>\n",
       "      <th></th>\n",
       "      <th></th>\n",
       "      <th></th>\n",
       "    </tr>\n",
       "  </thead>\n",
       "  <tbody>\n",
       "    <tr>\n",
       "      <th>3</th>\n",
       "      <td>Male</td>\n",
       "      <td>Basic</td>\n",
       "      <td>Mobile</td>\n",
       "      <td>At Risk</td>\n",
       "    </tr>\n",
       "    <tr>\n",
       "      <th>4</th>\n",
       "      <td>Male</td>\n",
       "      <td>Standard</td>\n",
       "      <td>Mobile</td>\n",
       "      <td>At Risk</td>\n",
       "    </tr>\n",
       "    <tr>\n",
       "      <th>5</th>\n",
       "      <td>Male</td>\n",
       "      <td>Standard</td>\n",
       "      <td>Mobile</td>\n",
       "      <td>Frustrated</td>\n",
       "    </tr>\n",
       "    <tr>\n",
       "      <th>6</th>\n",
       "      <td>Female</td>\n",
       "      <td>Basic</td>\n",
       "      <td>Mobile</td>\n",
       "      <td>Frustrated</td>\n",
       "    </tr>\n",
       "    <tr>\n",
       "      <th>7</th>\n",
       "      <td>Male</td>\n",
       "      <td>Premium</td>\n",
       "      <td>TV</td>\n",
       "      <td>Loyal</td>\n",
       "    </tr>\n",
       "    <tr>\n",
       "      <th>...</th>\n",
       "      <td>...</td>\n",
       "      <td>...</td>\n",
       "      <td>...</td>\n",
       "      <td>...</td>\n",
       "    </tr>\n",
       "    <tr>\n",
       "      <th>9996</th>\n",
       "      <td>Female</td>\n",
       "      <td>Standard</td>\n",
       "      <td>Mobile</td>\n",
       "      <td>Highly Engaged</td>\n",
       "    </tr>\n",
       "    <tr>\n",
       "      <th>9997</th>\n",
       "      <td>Male</td>\n",
       "      <td>Basic</td>\n",
       "      <td>Web</td>\n",
       "      <td>Frustrated</td>\n",
       "    </tr>\n",
       "    <tr>\n",
       "      <th>9998</th>\n",
       "      <td>Female</td>\n",
       "      <td>Basic</td>\n",
       "      <td>Mobile</td>\n",
       "      <td>Highly Engaged</td>\n",
       "    </tr>\n",
       "    <tr>\n",
       "      <th>9999</th>\n",
       "      <td>Female</td>\n",
       "      <td>Standard</td>\n",
       "      <td>Mobile</td>\n",
       "      <td>Loyal</td>\n",
       "    </tr>\n",
       "    <tr>\n",
       "      <th>10000</th>\n",
       "      <td>Male</td>\n",
       "      <td>Basic</td>\n",
       "      <td>Mobile</td>\n",
       "      <td>At Risk</td>\n",
       "    </tr>\n",
       "  </tbody>\n",
       "</table>\n",
       "<p>9998 rows × 4 columns</p>\n",
       "</div>"
      ],
      "text/plain": [
       "            Gender SubscriptionType PlatformType CustomerSegment\n",
       "CustomerID                                                      \n",
       "3             Male            Basic       Mobile         At Risk\n",
       "4             Male         Standard       Mobile         At Risk\n",
       "5             Male         Standard       Mobile      Frustrated\n",
       "6           Female            Basic       Mobile      Frustrated\n",
       "7             Male          Premium           TV           Loyal\n",
       "...            ...              ...          ...             ...\n",
       "9996        Female         Standard       Mobile  Highly Engaged\n",
       "9997          Male            Basic          Web      Frustrated\n",
       "9998        Female            Basic       Mobile  Highly Engaged\n",
       "9999        Female         Standard       Mobile           Loyal\n",
       "10000         Male            Basic       Mobile         At Risk\n",
       "\n",
       "[9998 rows x 4 columns]"
      ]
     },
     "execution_count": 29,
     "metadata": {},
     "output_type": "execute_result"
    }
   ],
   "source": [
    "df[['Gender', 'SubscriptionType', 'PlatformType', 'CustomerSegment']]"
   ]
  },
  {
   "cell_type": "code",
   "execution_count": 30,
   "id": "c006327b",
   "metadata": {},
   "outputs": [],
   "source": [
    "from sklearn.model_selection import train_test_split\n",
    "\n",
    "# Define features and target\n",
    "X = df.drop(columns='Churn')  # Replace 'Churn' with your actual target column name\n",
    "y = df['Churn']\n",
    "\n",
    "# Split\n",
    "X_train, X_test, y_train, y_test = train_test_split(\n",
    "    X, y, test_size=0.2, random_state=42, stratify=y  # stratify if the classes are imbalanced\n",
    ")"
   ]
  },
  {
   "cell_type": "code",
   "execution_count": null,
   "id": "e35ba59e",
   "metadata": {},
   "outputs": [],
   "source": [
    "from sklearn.preprocessing import OneHotEncoder\n",
    "import pickle\n",
    "# 2. Initialize encoder\n",
    "encoder = OneHotEncoder(handle_unknown='ignore', sparse=False)"
   ]
  },
  {
   "cell_type": "code",
   "execution_count": 95,
   "id": "60a66ca3",
   "metadata": {},
   "outputs": [],
   "source": [
    "cat_cols = ['Gender', 'SubscriptionType', 'PlatformType', 'CustomerSegment']"
   ]
  },
  {
   "cell_type": "code",
   "execution_count": 96,
   "id": "fb34d756",
   "metadata": {},
   "outputs": [],
   "source": [
    "# 3. Fit & transform on training data\n",
    "X_train_encoded = encoder.fit_transform(X_train[cat_cols])\n",
    "X_train_encoded_df = pd.DataFrame(X_train_encoded,\n",
    "                                  columns=encoder.get_feature_names_out(cat_cols),\n",
    "                                  index=X_train.index)"
   ]
  },
  {
   "cell_type": "code",
   "execution_count": 97,
   "id": "8c16f8b0",
   "metadata": {},
   "outputs": [],
   "source": [
    "# 4. Drop original categorical cols and concatenate encoded\n",
    "X_train_final = pd.concat([X_train.drop(columns=cat_cols), X_train_encoded_df], axis=1)\n"
   ]
  },
  {
   "cell_type": "code",
   "execution_count": 98,
   "id": "29f0d8f4",
   "metadata": {},
   "outputs": [
    {
     "data": {
      "text/html": [
       "<div>\n",
       "<style scoped>\n",
       "    .dataframe tbody tr th:only-of-type {\n",
       "        vertical-align: middle;\n",
       "    }\n",
       "\n",
       "    .dataframe tbody tr th {\n",
       "        vertical-align: top;\n",
       "    }\n",
       "\n",
       "    .dataframe thead th {\n",
       "        text-align: right;\n",
       "    }\n",
       "</style>\n",
       "<table border=\"1\" class=\"dataframe\">\n",
       "  <thead>\n",
       "    <tr style=\"text-align: right;\">\n",
       "      <th></th>\n",
       "      <th>Age</th>\n",
       "      <th>TotalWatchTime</th>\n",
       "      <th>ComplaintCount</th>\n",
       "      <th>DaysSinceLastLogin</th>\n",
       "      <th>AvgSessionDuration</th>\n",
       "      <th>NumDevicesUsed</th>\n",
       "      <th>ContentPreferenceScore</th>\n",
       "      <th>ActiveDaysLastMonth</th>\n",
       "      <th>SkippedContentCount</th>\n",
       "      <th>DiscountReceived</th>\n",
       "      <th>...</th>\n",
       "      <th>SubscriptionType_Basic</th>\n",
       "      <th>SubscriptionType_Premium</th>\n",
       "      <th>SubscriptionType_Standard</th>\n",
       "      <th>PlatformType_Mobile</th>\n",
       "      <th>PlatformType_TV</th>\n",
       "      <th>PlatformType_Web</th>\n",
       "      <th>CustomerSegment_At Risk</th>\n",
       "      <th>CustomerSegment_Frustrated</th>\n",
       "      <th>CustomerSegment_Highly Engaged</th>\n",
       "      <th>CustomerSegment_Loyal</th>\n",
       "    </tr>\n",
       "    <tr>\n",
       "      <th>CustomerID</th>\n",
       "      <th></th>\n",
       "      <th></th>\n",
       "      <th></th>\n",
       "      <th></th>\n",
       "      <th></th>\n",
       "      <th></th>\n",
       "      <th></th>\n",
       "      <th></th>\n",
       "      <th></th>\n",
       "      <th></th>\n",
       "      <th></th>\n",
       "      <th></th>\n",
       "      <th></th>\n",
       "      <th></th>\n",
       "      <th></th>\n",
       "      <th></th>\n",
       "      <th></th>\n",
       "      <th></th>\n",
       "      <th></th>\n",
       "      <th></th>\n",
       "      <th></th>\n",
       "    </tr>\n",
       "  </thead>\n",
       "  <tbody>\n",
       "    <tr>\n",
       "      <th>3056</th>\n",
       "      <td>19</td>\n",
       "      <td>46</td>\n",
       "      <td>2</td>\n",
       "      <td>51</td>\n",
       "      <td>172.93</td>\n",
       "      <td>1</td>\n",
       "      <td>16.0</td>\n",
       "      <td>10</td>\n",
       "      <td>6</td>\n",
       "      <td>2.53</td>\n",
       "      <td>...</td>\n",
       "      <td>0.0</td>\n",
       "      <td>0.0</td>\n",
       "      <td>1.0</td>\n",
       "      <td>1.0</td>\n",
       "      <td>0.0</td>\n",
       "      <td>0.0</td>\n",
       "      <td>0.0</td>\n",
       "      <td>0.0</td>\n",
       "      <td>1.0</td>\n",
       "      <td>0.0</td>\n",
       "    </tr>\n",
       "    <tr>\n",
       "      <th>1991</th>\n",
       "      <td>56</td>\n",
       "      <td>31</td>\n",
       "      <td>1</td>\n",
       "      <td>42</td>\n",
       "      <td>191.14</td>\n",
       "      <td>4</td>\n",
       "      <td>74.0</td>\n",
       "      <td>16</td>\n",
       "      <td>11</td>\n",
       "      <td>0.56</td>\n",
       "      <td>...</td>\n",
       "      <td>0.0</td>\n",
       "      <td>0.0</td>\n",
       "      <td>1.0</td>\n",
       "      <td>1.0</td>\n",
       "      <td>0.0</td>\n",
       "      <td>0.0</td>\n",
       "      <td>1.0</td>\n",
       "      <td>0.0</td>\n",
       "      <td>0.0</td>\n",
       "      <td>0.0</td>\n",
       "    </tr>\n",
       "    <tr>\n",
       "      <th>7626</th>\n",
       "      <td>20</td>\n",
       "      <td>47</td>\n",
       "      <td>2</td>\n",
       "      <td>45</td>\n",
       "      <td>52.58</td>\n",
       "      <td>4</td>\n",
       "      <td>51.0</td>\n",
       "      <td>17</td>\n",
       "      <td>13</td>\n",
       "      <td>10.98</td>\n",
       "      <td>...</td>\n",
       "      <td>1.0</td>\n",
       "      <td>0.0</td>\n",
       "      <td>0.0</td>\n",
       "      <td>0.0</td>\n",
       "      <td>0.0</td>\n",
       "      <td>1.0</td>\n",
       "      <td>0.0</td>\n",
       "      <td>1.0</td>\n",
       "      <td>0.0</td>\n",
       "      <td>0.0</td>\n",
       "    </tr>\n",
       "    <tr>\n",
       "      <th>6482</th>\n",
       "      <td>45</td>\n",
       "      <td>2</td>\n",
       "      <td>1</td>\n",
       "      <td>13</td>\n",
       "      <td>118.42</td>\n",
       "      <td>1</td>\n",
       "      <td>78.0</td>\n",
       "      <td>2</td>\n",
       "      <td>3</td>\n",
       "      <td>6.79</td>\n",
       "      <td>...</td>\n",
       "      <td>0.0</td>\n",
       "      <td>1.0</td>\n",
       "      <td>0.0</td>\n",
       "      <td>1.0</td>\n",
       "      <td>0.0</td>\n",
       "      <td>0.0</td>\n",
       "      <td>1.0</td>\n",
       "      <td>0.0</td>\n",
       "      <td>0.0</td>\n",
       "      <td>0.0</td>\n",
       "    </tr>\n",
       "    <tr>\n",
       "      <th>8532</th>\n",
       "      <td>26</td>\n",
       "      <td>18</td>\n",
       "      <td>0</td>\n",
       "      <td>18</td>\n",
       "      <td>77.34</td>\n",
       "      <td>4</td>\n",
       "      <td>36.0</td>\n",
       "      <td>6</td>\n",
       "      <td>3</td>\n",
       "      <td>8.84</td>\n",
       "      <td>...</td>\n",
       "      <td>0.0</td>\n",
       "      <td>0.0</td>\n",
       "      <td>1.0</td>\n",
       "      <td>1.0</td>\n",
       "      <td>0.0</td>\n",
       "      <td>0.0</td>\n",
       "      <td>0.0</td>\n",
       "      <td>0.0</td>\n",
       "      <td>0.0</td>\n",
       "      <td>1.0</td>\n",
       "    </tr>\n",
       "    <tr>\n",
       "      <th>...</th>\n",
       "      <td>...</td>\n",
       "      <td>...</td>\n",
       "      <td>...</td>\n",
       "      <td>...</td>\n",
       "      <td>...</td>\n",
       "      <td>...</td>\n",
       "      <td>...</td>\n",
       "      <td>...</td>\n",
       "      <td>...</td>\n",
       "      <td>...</td>\n",
       "      <td>...</td>\n",
       "      <td>...</td>\n",
       "      <td>...</td>\n",
       "      <td>...</td>\n",
       "      <td>...</td>\n",
       "      <td>...</td>\n",
       "      <td>...</td>\n",
       "      <td>...</td>\n",
       "      <td>...</td>\n",
       "      <td>...</td>\n",
       "      <td>...</td>\n",
       "    </tr>\n",
       "    <tr>\n",
       "      <th>7512</th>\n",
       "      <td>54</td>\n",
       "      <td>48</td>\n",
       "      <td>0</td>\n",
       "      <td>36</td>\n",
       "      <td>8.55</td>\n",
       "      <td>1</td>\n",
       "      <td>14.0</td>\n",
       "      <td>20</td>\n",
       "      <td>3</td>\n",
       "      <td>1.92</td>\n",
       "      <td>...</td>\n",
       "      <td>0.0</td>\n",
       "      <td>0.0</td>\n",
       "      <td>1.0</td>\n",
       "      <td>1.0</td>\n",
       "      <td>0.0</td>\n",
       "      <td>0.0</td>\n",
       "      <td>0.0</td>\n",
       "      <td>0.0</td>\n",
       "      <td>0.0</td>\n",
       "      <td>1.0</td>\n",
       "    </tr>\n",
       "    <tr>\n",
       "      <th>8761</th>\n",
       "      <td>38</td>\n",
       "      <td>21</td>\n",
       "      <td>0</td>\n",
       "      <td>25</td>\n",
       "      <td>12.58</td>\n",
       "      <td>1</td>\n",
       "      <td>24.0</td>\n",
       "      <td>15</td>\n",
       "      <td>7</td>\n",
       "      <td>8.57</td>\n",
       "      <td>...</td>\n",
       "      <td>1.0</td>\n",
       "      <td>0.0</td>\n",
       "      <td>0.0</td>\n",
       "      <td>0.0</td>\n",
       "      <td>1.0</td>\n",
       "      <td>0.0</td>\n",
       "      <td>1.0</td>\n",
       "      <td>0.0</td>\n",
       "      <td>0.0</td>\n",
       "      <td>0.0</td>\n",
       "    </tr>\n",
       "    <tr>\n",
       "      <th>5255</th>\n",
       "      <td>38</td>\n",
       "      <td>8</td>\n",
       "      <td>2</td>\n",
       "      <td>14</td>\n",
       "      <td>202.68</td>\n",
       "      <td>1</td>\n",
       "      <td>4.0</td>\n",
       "      <td>25</td>\n",
       "      <td>15</td>\n",
       "      <td>17.93</td>\n",
       "      <td>...</td>\n",
       "      <td>0.0</td>\n",
       "      <td>0.0</td>\n",
       "      <td>1.0</td>\n",
       "      <td>0.0</td>\n",
       "      <td>0.0</td>\n",
       "      <td>1.0</td>\n",
       "      <td>0.0</td>\n",
       "      <td>1.0</td>\n",
       "      <td>0.0</td>\n",
       "      <td>0.0</td>\n",
       "    </tr>\n",
       "    <tr>\n",
       "      <th>2243</th>\n",
       "      <td>40</td>\n",
       "      <td>7</td>\n",
       "      <td>2</td>\n",
       "      <td>9</td>\n",
       "      <td>120.91</td>\n",
       "      <td>4</td>\n",
       "      <td>57.0</td>\n",
       "      <td>10</td>\n",
       "      <td>14</td>\n",
       "      <td>16.98</td>\n",
       "      <td>...</td>\n",
       "      <td>0.0</td>\n",
       "      <td>0.0</td>\n",
       "      <td>1.0</td>\n",
       "      <td>0.0</td>\n",
       "      <td>0.0</td>\n",
       "      <td>1.0</td>\n",
       "      <td>0.0</td>\n",
       "      <td>1.0</td>\n",
       "      <td>0.0</td>\n",
       "      <td>0.0</td>\n",
       "    </tr>\n",
       "    <tr>\n",
       "      <th>2295</th>\n",
       "      <td>33</td>\n",
       "      <td>20</td>\n",
       "      <td>1</td>\n",
       "      <td>35</td>\n",
       "      <td>152.11</td>\n",
       "      <td>2</td>\n",
       "      <td>79.0</td>\n",
       "      <td>25</td>\n",
       "      <td>14</td>\n",
       "      <td>1.06</td>\n",
       "      <td>...</td>\n",
       "      <td>1.0</td>\n",
       "      <td>0.0</td>\n",
       "      <td>0.0</td>\n",
       "      <td>0.0</td>\n",
       "      <td>0.0</td>\n",
       "      <td>1.0</td>\n",
       "      <td>1.0</td>\n",
       "      <td>0.0</td>\n",
       "      <td>0.0</td>\n",
       "      <td>0.0</td>\n",
       "    </tr>\n",
       "  </tbody>\n",
       "</table>\n",
       "<p>7998 rows × 41 columns</p>\n",
       "</div>"
      ],
      "text/plain": [
       "            Age  TotalWatchTime  ComplaintCount  DaysSinceLastLogin  \\\n",
       "CustomerID                                                            \n",
       "3056         19              46               2                  51   \n",
       "1991         56              31               1                  42   \n",
       "7626         20              47               2                  45   \n",
       "6482         45               2               1                  13   \n",
       "8532         26              18               0                  18   \n",
       "...         ...             ...             ...                 ...   \n",
       "7512         54              48               0                  36   \n",
       "8761         38              21               0                  25   \n",
       "5255         38               8               2                  14   \n",
       "2243         40               7               2                   9   \n",
       "2295         33              20               1                  35   \n",
       "\n",
       "            AvgSessionDuration  NumDevicesUsed  ContentPreferenceScore  \\\n",
       "CustomerID                                                               \n",
       "3056                    172.93               1                    16.0   \n",
       "1991                    191.14               4                    74.0   \n",
       "7626                     52.58               4                    51.0   \n",
       "6482                    118.42               1                    78.0   \n",
       "8532                     77.34               4                    36.0   \n",
       "...                        ...             ...                     ...   \n",
       "7512                      8.55               1                    14.0   \n",
       "8761                     12.58               1                    24.0   \n",
       "5255                    202.68               1                     4.0   \n",
       "2243                    120.91               4                    57.0   \n",
       "2295                    152.11               2                    79.0   \n",
       "\n",
       "            ActiveDaysLastMonth  SkippedContentCount  DiscountReceived  ...  \\\n",
       "CustomerID                                                              ...   \n",
       "3056                         10                    6              2.53  ...   \n",
       "1991                         16                   11              0.56  ...   \n",
       "7626                         17                   13             10.98  ...   \n",
       "6482                          2                    3              6.79  ...   \n",
       "8532                          6                    3              8.84  ...   \n",
       "...                         ...                  ...               ...  ...   \n",
       "7512                         20                    3              1.92  ...   \n",
       "8761                         15                    7              8.57  ...   \n",
       "5255                         25                   15             17.93  ...   \n",
       "2243                         10                   14             16.98  ...   \n",
       "2295                         25                   14              1.06  ...   \n",
       "\n",
       "            SubscriptionType_Basic  SubscriptionType_Premium  \\\n",
       "CustomerID                                                     \n",
       "3056                           0.0                       0.0   \n",
       "1991                           0.0                       0.0   \n",
       "7626                           1.0                       0.0   \n",
       "6482                           0.0                       1.0   \n",
       "8532                           0.0                       0.0   \n",
       "...                            ...                       ...   \n",
       "7512                           0.0                       0.0   \n",
       "8761                           1.0                       0.0   \n",
       "5255                           0.0                       0.0   \n",
       "2243                           0.0                       0.0   \n",
       "2295                           1.0                       0.0   \n",
       "\n",
       "            SubscriptionType_Standard  PlatformType_Mobile  PlatformType_TV  \\\n",
       "CustomerID                                                                    \n",
       "3056                              1.0                  1.0              0.0   \n",
       "1991                              1.0                  1.0              0.0   \n",
       "7626                              0.0                  0.0              0.0   \n",
       "6482                              0.0                  1.0              0.0   \n",
       "8532                              1.0                  1.0              0.0   \n",
       "...                               ...                  ...              ...   \n",
       "7512                              1.0                  1.0              0.0   \n",
       "8761                              0.0                  0.0              1.0   \n",
       "5255                              1.0                  0.0              0.0   \n",
       "2243                              1.0                  0.0              0.0   \n",
       "2295                              0.0                  0.0              0.0   \n",
       "\n",
       "            PlatformType_Web  CustomerSegment_At Risk  \\\n",
       "CustomerID                                              \n",
       "3056                     0.0                      0.0   \n",
       "1991                     0.0                      1.0   \n",
       "7626                     1.0                      0.0   \n",
       "6482                     0.0                      1.0   \n",
       "8532                     0.0                      0.0   \n",
       "...                      ...                      ...   \n",
       "7512                     0.0                      0.0   \n",
       "8761                     0.0                      1.0   \n",
       "5255                     1.0                      0.0   \n",
       "2243                     1.0                      0.0   \n",
       "2295                     1.0                      1.0   \n",
       "\n",
       "            CustomerSegment_Frustrated  CustomerSegment_Highly Engaged  \\\n",
       "CustomerID                                                               \n",
       "3056                               0.0                             1.0   \n",
       "1991                               0.0                             0.0   \n",
       "7626                               1.0                             0.0   \n",
       "6482                               0.0                             0.0   \n",
       "8532                               0.0                             0.0   \n",
       "...                                ...                             ...   \n",
       "7512                               0.0                             0.0   \n",
       "8761                               0.0                             0.0   \n",
       "5255                               1.0                             0.0   \n",
       "2243                               1.0                             0.0   \n",
       "2295                               0.0                             0.0   \n",
       "\n",
       "            CustomerSegment_Loyal  \n",
       "CustomerID                         \n",
       "3056                          0.0  \n",
       "1991                          0.0  \n",
       "7626                          0.0  \n",
       "6482                          0.0  \n",
       "8532                          1.0  \n",
       "...                           ...  \n",
       "7512                          1.0  \n",
       "8761                          0.0  \n",
       "5255                          0.0  \n",
       "2243                          0.0  \n",
       "2295                          0.0  \n",
       "\n",
       "[7998 rows x 41 columns]"
      ]
     },
     "execution_count": 98,
     "metadata": {},
     "output_type": "execute_result"
    }
   ],
   "source": [
    "X_train_final"
   ]
  },
  {
   "cell_type": "code",
   "execution_count": 99,
   "id": "abfd3b49",
   "metadata": {},
   "outputs": [],
   "source": [
    "# 5. Transform test data using same encoder\n",
    "X_test_encoded = encoder.transform(X_test[cat_cols])\n",
    "X_test_encoded_df = pd.DataFrame(X_test_encoded,\n",
    "                                 columns=encoder.get_feature_names_out(cat_cols),\n",
    "                                 index=X_test.index)"
   ]
  },
  {
   "cell_type": "code",
   "execution_count": 100,
   "id": "2bd4337c",
   "metadata": {},
   "outputs": [],
   "source": [
    "# 6. Drop original categorical cols and concatenate encoded\n",
    "X_test_final = pd.concat([X_test.drop(columns=cat_cols), X_test_encoded_df], axis=1)\n"
   ]
  },
  {
   "cell_type": "code",
   "execution_count": 101,
   "id": "2693ba28",
   "metadata": {},
   "outputs": [],
   "source": [
    "# 7. Save encoder for reuse\n",
    "with open(\"onehot_encoder.pkl\", \"wb\") as f:\n",
    "    pickle.dump(encoder, f)"
   ]
  },
  {
   "cell_type": "code",
   "execution_count": 103,
   "id": "1a0a6824",
   "metadata": {},
   "outputs": [
    {
     "data": {
      "text/html": [
       "<div>\n",
       "<style scoped>\n",
       "    .dataframe tbody tr th:only-of-type {\n",
       "        vertical-align: middle;\n",
       "    }\n",
       "\n",
       "    .dataframe tbody tr th {\n",
       "        vertical-align: top;\n",
       "    }\n",
       "\n",
       "    .dataframe thead th {\n",
       "        text-align: right;\n",
       "    }\n",
       "</style>\n",
       "<table border=\"1\" class=\"dataframe\">\n",
       "  <thead>\n",
       "    <tr style=\"text-align: right;\">\n",
       "      <th></th>\n",
       "      <th>Age</th>\n",
       "      <th>TotalWatchTime</th>\n",
       "      <th>ComplaintCount</th>\n",
       "      <th>DaysSinceLastLogin</th>\n",
       "      <th>AvgSessionDuration</th>\n",
       "      <th>NumDevicesUsed</th>\n",
       "      <th>ContentPreferenceScore</th>\n",
       "      <th>ActiveDaysLastMonth</th>\n",
       "      <th>SkippedContentCount</th>\n",
       "      <th>DiscountReceived</th>\n",
       "      <th>...</th>\n",
       "      <th>SubscriptionType_Basic</th>\n",
       "      <th>SubscriptionType_Premium</th>\n",
       "      <th>SubscriptionType_Standard</th>\n",
       "      <th>PlatformType_Mobile</th>\n",
       "      <th>PlatformType_TV</th>\n",
       "      <th>PlatformType_Web</th>\n",
       "      <th>CustomerSegment_At Risk</th>\n",
       "      <th>CustomerSegment_Frustrated</th>\n",
       "      <th>CustomerSegment_Highly Engaged</th>\n",
       "      <th>CustomerSegment_Loyal</th>\n",
       "    </tr>\n",
       "    <tr>\n",
       "      <th>CustomerID</th>\n",
       "      <th></th>\n",
       "      <th></th>\n",
       "      <th></th>\n",
       "      <th></th>\n",
       "      <th></th>\n",
       "      <th></th>\n",
       "      <th></th>\n",
       "      <th></th>\n",
       "      <th></th>\n",
       "      <th></th>\n",
       "      <th></th>\n",
       "      <th></th>\n",
       "      <th></th>\n",
       "      <th></th>\n",
       "      <th></th>\n",
       "      <th></th>\n",
       "      <th></th>\n",
       "      <th></th>\n",
       "      <th></th>\n",
       "      <th></th>\n",
       "      <th></th>\n",
       "    </tr>\n",
       "  </thead>\n",
       "  <tbody>\n",
       "    <tr>\n",
       "      <th>3056</th>\n",
       "      <td>19</td>\n",
       "      <td>46</td>\n",
       "      <td>2</td>\n",
       "      <td>51</td>\n",
       "      <td>172.93</td>\n",
       "      <td>1</td>\n",
       "      <td>16.0</td>\n",
       "      <td>10</td>\n",
       "      <td>6</td>\n",
       "      <td>2.53</td>\n",
       "      <td>...</td>\n",
       "      <td>0.0</td>\n",
       "      <td>0.0</td>\n",
       "      <td>1.0</td>\n",
       "      <td>1.0</td>\n",
       "      <td>0.0</td>\n",
       "      <td>0.0</td>\n",
       "      <td>0.0</td>\n",
       "      <td>0.0</td>\n",
       "      <td>1.0</td>\n",
       "      <td>0.0</td>\n",
       "    </tr>\n",
       "    <tr>\n",
       "      <th>1991</th>\n",
       "      <td>56</td>\n",
       "      <td>31</td>\n",
       "      <td>1</td>\n",
       "      <td>42</td>\n",
       "      <td>191.14</td>\n",
       "      <td>4</td>\n",
       "      <td>74.0</td>\n",
       "      <td>16</td>\n",
       "      <td>11</td>\n",
       "      <td>0.56</td>\n",
       "      <td>...</td>\n",
       "      <td>0.0</td>\n",
       "      <td>0.0</td>\n",
       "      <td>1.0</td>\n",
       "      <td>1.0</td>\n",
       "      <td>0.0</td>\n",
       "      <td>0.0</td>\n",
       "      <td>1.0</td>\n",
       "      <td>0.0</td>\n",
       "      <td>0.0</td>\n",
       "      <td>0.0</td>\n",
       "    </tr>\n",
       "    <tr>\n",
       "      <th>7626</th>\n",
       "      <td>20</td>\n",
       "      <td>47</td>\n",
       "      <td>2</td>\n",
       "      <td>45</td>\n",
       "      <td>52.58</td>\n",
       "      <td>4</td>\n",
       "      <td>51.0</td>\n",
       "      <td>17</td>\n",
       "      <td>13</td>\n",
       "      <td>10.98</td>\n",
       "      <td>...</td>\n",
       "      <td>1.0</td>\n",
       "      <td>0.0</td>\n",
       "      <td>0.0</td>\n",
       "      <td>0.0</td>\n",
       "      <td>0.0</td>\n",
       "      <td>1.0</td>\n",
       "      <td>0.0</td>\n",
       "      <td>1.0</td>\n",
       "      <td>0.0</td>\n",
       "      <td>0.0</td>\n",
       "    </tr>\n",
       "    <tr>\n",
       "      <th>6482</th>\n",
       "      <td>45</td>\n",
       "      <td>2</td>\n",
       "      <td>1</td>\n",
       "      <td>13</td>\n",
       "      <td>118.42</td>\n",
       "      <td>1</td>\n",
       "      <td>78.0</td>\n",
       "      <td>2</td>\n",
       "      <td>3</td>\n",
       "      <td>6.79</td>\n",
       "      <td>...</td>\n",
       "      <td>0.0</td>\n",
       "      <td>1.0</td>\n",
       "      <td>0.0</td>\n",
       "      <td>1.0</td>\n",
       "      <td>0.0</td>\n",
       "      <td>0.0</td>\n",
       "      <td>1.0</td>\n",
       "      <td>0.0</td>\n",
       "      <td>0.0</td>\n",
       "      <td>0.0</td>\n",
       "    </tr>\n",
       "    <tr>\n",
       "      <th>8532</th>\n",
       "      <td>26</td>\n",
       "      <td>18</td>\n",
       "      <td>0</td>\n",
       "      <td>18</td>\n",
       "      <td>77.34</td>\n",
       "      <td>4</td>\n",
       "      <td>36.0</td>\n",
       "      <td>6</td>\n",
       "      <td>3</td>\n",
       "      <td>8.84</td>\n",
       "      <td>...</td>\n",
       "      <td>0.0</td>\n",
       "      <td>0.0</td>\n",
       "      <td>1.0</td>\n",
       "      <td>1.0</td>\n",
       "      <td>0.0</td>\n",
       "      <td>0.0</td>\n",
       "      <td>0.0</td>\n",
       "      <td>0.0</td>\n",
       "      <td>0.0</td>\n",
       "      <td>1.0</td>\n",
       "    </tr>\n",
       "    <tr>\n",
       "      <th>...</th>\n",
       "      <td>...</td>\n",
       "      <td>...</td>\n",
       "      <td>...</td>\n",
       "      <td>...</td>\n",
       "      <td>...</td>\n",
       "      <td>...</td>\n",
       "      <td>...</td>\n",
       "      <td>...</td>\n",
       "      <td>...</td>\n",
       "      <td>...</td>\n",
       "      <td>...</td>\n",
       "      <td>...</td>\n",
       "      <td>...</td>\n",
       "      <td>...</td>\n",
       "      <td>...</td>\n",
       "      <td>...</td>\n",
       "      <td>...</td>\n",
       "      <td>...</td>\n",
       "      <td>...</td>\n",
       "      <td>...</td>\n",
       "      <td>...</td>\n",
       "    </tr>\n",
       "    <tr>\n",
       "      <th>7512</th>\n",
       "      <td>54</td>\n",
       "      <td>48</td>\n",
       "      <td>0</td>\n",
       "      <td>36</td>\n",
       "      <td>8.55</td>\n",
       "      <td>1</td>\n",
       "      <td>14.0</td>\n",
       "      <td>20</td>\n",
       "      <td>3</td>\n",
       "      <td>1.92</td>\n",
       "      <td>...</td>\n",
       "      <td>0.0</td>\n",
       "      <td>0.0</td>\n",
       "      <td>1.0</td>\n",
       "      <td>1.0</td>\n",
       "      <td>0.0</td>\n",
       "      <td>0.0</td>\n",
       "      <td>0.0</td>\n",
       "      <td>0.0</td>\n",
       "      <td>0.0</td>\n",
       "      <td>1.0</td>\n",
       "    </tr>\n",
       "    <tr>\n",
       "      <th>8761</th>\n",
       "      <td>38</td>\n",
       "      <td>21</td>\n",
       "      <td>0</td>\n",
       "      <td>25</td>\n",
       "      <td>12.58</td>\n",
       "      <td>1</td>\n",
       "      <td>24.0</td>\n",
       "      <td>15</td>\n",
       "      <td>7</td>\n",
       "      <td>8.57</td>\n",
       "      <td>...</td>\n",
       "      <td>1.0</td>\n",
       "      <td>0.0</td>\n",
       "      <td>0.0</td>\n",
       "      <td>0.0</td>\n",
       "      <td>1.0</td>\n",
       "      <td>0.0</td>\n",
       "      <td>1.0</td>\n",
       "      <td>0.0</td>\n",
       "      <td>0.0</td>\n",
       "      <td>0.0</td>\n",
       "    </tr>\n",
       "    <tr>\n",
       "      <th>5255</th>\n",
       "      <td>38</td>\n",
       "      <td>8</td>\n",
       "      <td>2</td>\n",
       "      <td>14</td>\n",
       "      <td>202.68</td>\n",
       "      <td>1</td>\n",
       "      <td>4.0</td>\n",
       "      <td>25</td>\n",
       "      <td>15</td>\n",
       "      <td>17.93</td>\n",
       "      <td>...</td>\n",
       "      <td>0.0</td>\n",
       "      <td>0.0</td>\n",
       "      <td>1.0</td>\n",
       "      <td>0.0</td>\n",
       "      <td>0.0</td>\n",
       "      <td>1.0</td>\n",
       "      <td>0.0</td>\n",
       "      <td>1.0</td>\n",
       "      <td>0.0</td>\n",
       "      <td>0.0</td>\n",
       "    </tr>\n",
       "    <tr>\n",
       "      <th>2243</th>\n",
       "      <td>40</td>\n",
       "      <td>7</td>\n",
       "      <td>2</td>\n",
       "      <td>9</td>\n",
       "      <td>120.91</td>\n",
       "      <td>4</td>\n",
       "      <td>57.0</td>\n",
       "      <td>10</td>\n",
       "      <td>14</td>\n",
       "      <td>16.98</td>\n",
       "      <td>...</td>\n",
       "      <td>0.0</td>\n",
       "      <td>0.0</td>\n",
       "      <td>1.0</td>\n",
       "      <td>0.0</td>\n",
       "      <td>0.0</td>\n",
       "      <td>1.0</td>\n",
       "      <td>0.0</td>\n",
       "      <td>1.0</td>\n",
       "      <td>0.0</td>\n",
       "      <td>0.0</td>\n",
       "    </tr>\n",
       "    <tr>\n",
       "      <th>2295</th>\n",
       "      <td>33</td>\n",
       "      <td>20</td>\n",
       "      <td>1</td>\n",
       "      <td>35</td>\n",
       "      <td>152.11</td>\n",
       "      <td>2</td>\n",
       "      <td>79.0</td>\n",
       "      <td>25</td>\n",
       "      <td>14</td>\n",
       "      <td>1.06</td>\n",
       "      <td>...</td>\n",
       "      <td>1.0</td>\n",
       "      <td>0.0</td>\n",
       "      <td>0.0</td>\n",
       "      <td>0.0</td>\n",
       "      <td>0.0</td>\n",
       "      <td>1.0</td>\n",
       "      <td>1.0</td>\n",
       "      <td>0.0</td>\n",
       "      <td>0.0</td>\n",
       "      <td>0.0</td>\n",
       "    </tr>\n",
       "  </tbody>\n",
       "</table>\n",
       "<p>7998 rows × 41 columns</p>\n",
       "</div>"
      ],
      "text/plain": [
       "            Age  TotalWatchTime  ComplaintCount  DaysSinceLastLogin  \\\n",
       "CustomerID                                                            \n",
       "3056         19              46               2                  51   \n",
       "1991         56              31               1                  42   \n",
       "7626         20              47               2                  45   \n",
       "6482         45               2               1                  13   \n",
       "8532         26              18               0                  18   \n",
       "...         ...             ...             ...                 ...   \n",
       "7512         54              48               0                  36   \n",
       "8761         38              21               0                  25   \n",
       "5255         38               8               2                  14   \n",
       "2243         40               7               2                   9   \n",
       "2295         33              20               1                  35   \n",
       "\n",
       "            AvgSessionDuration  NumDevicesUsed  ContentPreferenceScore  \\\n",
       "CustomerID                                                               \n",
       "3056                    172.93               1                    16.0   \n",
       "1991                    191.14               4                    74.0   \n",
       "7626                     52.58               4                    51.0   \n",
       "6482                    118.42               1                    78.0   \n",
       "8532                     77.34               4                    36.0   \n",
       "...                        ...             ...                     ...   \n",
       "7512                      8.55               1                    14.0   \n",
       "8761                     12.58               1                    24.0   \n",
       "5255                    202.68               1                     4.0   \n",
       "2243                    120.91               4                    57.0   \n",
       "2295                    152.11               2                    79.0   \n",
       "\n",
       "            ActiveDaysLastMonth  SkippedContentCount  DiscountReceived  ...  \\\n",
       "CustomerID                                                              ...   \n",
       "3056                         10                    6              2.53  ...   \n",
       "1991                         16                   11              0.56  ...   \n",
       "7626                         17                   13             10.98  ...   \n",
       "6482                          2                    3              6.79  ...   \n",
       "8532                          6                    3              8.84  ...   \n",
       "...                         ...                  ...               ...  ...   \n",
       "7512                         20                    3              1.92  ...   \n",
       "8761                         15                    7              8.57  ...   \n",
       "5255                         25                   15             17.93  ...   \n",
       "2243                         10                   14             16.98  ...   \n",
       "2295                         25                   14              1.06  ...   \n",
       "\n",
       "            SubscriptionType_Basic  SubscriptionType_Premium  \\\n",
       "CustomerID                                                     \n",
       "3056                           0.0                       0.0   \n",
       "1991                           0.0                       0.0   \n",
       "7626                           1.0                       0.0   \n",
       "6482                           0.0                       1.0   \n",
       "8532                           0.0                       0.0   \n",
       "...                            ...                       ...   \n",
       "7512                           0.0                       0.0   \n",
       "8761                           1.0                       0.0   \n",
       "5255                           0.0                       0.0   \n",
       "2243                           0.0                       0.0   \n",
       "2295                           1.0                       0.0   \n",
       "\n",
       "            SubscriptionType_Standard  PlatformType_Mobile  PlatformType_TV  \\\n",
       "CustomerID                                                                    \n",
       "3056                              1.0                  1.0              0.0   \n",
       "1991                              1.0                  1.0              0.0   \n",
       "7626                              0.0                  0.0              0.0   \n",
       "6482                              0.0                  1.0              0.0   \n",
       "8532                              1.0                  1.0              0.0   \n",
       "...                               ...                  ...              ...   \n",
       "7512                              1.0                  1.0              0.0   \n",
       "8761                              0.0                  0.0              1.0   \n",
       "5255                              1.0                  0.0              0.0   \n",
       "2243                              1.0                  0.0              0.0   \n",
       "2295                              0.0                  0.0              0.0   \n",
       "\n",
       "            PlatformType_Web  CustomerSegment_At Risk  \\\n",
       "CustomerID                                              \n",
       "3056                     0.0                      0.0   \n",
       "1991                     0.0                      1.0   \n",
       "7626                     1.0                      0.0   \n",
       "6482                     0.0                      1.0   \n",
       "8532                     0.0                      0.0   \n",
       "...                      ...                      ...   \n",
       "7512                     0.0                      0.0   \n",
       "8761                     0.0                      1.0   \n",
       "5255                     1.0                      0.0   \n",
       "2243                     1.0                      0.0   \n",
       "2295                     1.0                      1.0   \n",
       "\n",
       "            CustomerSegment_Frustrated  CustomerSegment_Highly Engaged  \\\n",
       "CustomerID                                                               \n",
       "3056                               0.0                             1.0   \n",
       "1991                               0.0                             0.0   \n",
       "7626                               1.0                             0.0   \n",
       "6482                               0.0                             0.0   \n",
       "8532                               0.0                             0.0   \n",
       "...                                ...                             ...   \n",
       "7512                               0.0                             0.0   \n",
       "8761                               0.0                             0.0   \n",
       "5255                               1.0                             0.0   \n",
       "2243                               1.0                             0.0   \n",
       "2295                               0.0                             0.0   \n",
       "\n",
       "            CustomerSegment_Loyal  \n",
       "CustomerID                         \n",
       "3056                          0.0  \n",
       "1991                          0.0  \n",
       "7626                          0.0  \n",
       "6482                          0.0  \n",
       "8532                          1.0  \n",
       "...                           ...  \n",
       "7512                          1.0  \n",
       "8761                          0.0  \n",
       "5255                          0.0  \n",
       "2243                          0.0  \n",
       "2295                          0.0  \n",
       "\n",
       "[7998 rows x 41 columns]"
      ]
     },
     "execution_count": 103,
     "metadata": {},
     "output_type": "execute_result"
    }
   ],
   "source": [
    "X_train_final"
   ]
  },
  {
   "cell_type": "code",
   "execution_count": 104,
   "id": "3ca7776e",
   "metadata": {},
   "outputs": [],
   "source": [
    "num_cols = X_train_final.select_dtypes(include=['number']).columns.tolist()"
   ]
  },
  {
   "cell_type": "code",
   "execution_count": 105,
   "id": "87bcf652",
   "metadata": {},
   "outputs": [],
   "source": [
    "from feature_engine.outliers import Winsorizer\n",
    "# Step 1: Define Winsorizer\n",
    "winsorizer = Winsorizer(\n",
    "    capping_method='quantiles',  # uses quantiles\n",
    "    tail='both',                 # cap both tails\n",
    "    fold=0.01,           # 1st and 99th percentiles\n",
    "    variables=num_cols           # your numeric columns\n",
    ")\n",
    "\n",
    "# Step 2: Fit & transform on train, transform on test\n",
    "X_train_final[num_cols] = winsorizer.fit_transform(X_train_final)\n",
    "X_test_final[num_cols] = winsorizer.transform(X_test_final)"
   ]
  },
  {
   "cell_type": "code",
   "execution_count": 106,
   "id": "692c9554",
   "metadata": {},
   "outputs": [
    {
     "data": {
      "text/html": [
       "<div>\n",
       "<style scoped>\n",
       "    .dataframe tbody tr th:only-of-type {\n",
       "        vertical-align: middle;\n",
       "    }\n",
       "\n",
       "    .dataframe tbody tr th {\n",
       "        vertical-align: top;\n",
       "    }\n",
       "\n",
       "    .dataframe thead th {\n",
       "        text-align: right;\n",
       "    }\n",
       "</style>\n",
       "<table border=\"1\" class=\"dataframe\">\n",
       "  <thead>\n",
       "    <tr style=\"text-align: right;\">\n",
       "      <th></th>\n",
       "      <th>Age</th>\n",
       "      <th>TotalWatchTime</th>\n",
       "      <th>ComplaintCount</th>\n",
       "      <th>DaysSinceLastLogin</th>\n",
       "      <th>AvgSessionDuration</th>\n",
       "      <th>NumDevicesUsed</th>\n",
       "      <th>ContentPreferenceScore</th>\n",
       "      <th>ActiveDaysLastMonth</th>\n",
       "      <th>SkippedContentCount</th>\n",
       "      <th>DiscountReceived</th>\n",
       "      <th>...</th>\n",
       "      <th>SubscriptionType_Basic</th>\n",
       "      <th>SubscriptionType_Premium</th>\n",
       "      <th>SubscriptionType_Standard</th>\n",
       "      <th>PlatformType_Mobile</th>\n",
       "      <th>PlatformType_TV</th>\n",
       "      <th>PlatformType_Web</th>\n",
       "      <th>CustomerSegment_At Risk</th>\n",
       "      <th>CustomerSegment_Frustrated</th>\n",
       "      <th>CustomerSegment_Highly Engaged</th>\n",
       "      <th>CustomerSegment_Loyal</th>\n",
       "    </tr>\n",
       "    <tr>\n",
       "      <th>CustomerID</th>\n",
       "      <th></th>\n",
       "      <th></th>\n",
       "      <th></th>\n",
       "      <th></th>\n",
       "      <th></th>\n",
       "      <th></th>\n",
       "      <th></th>\n",
       "      <th></th>\n",
       "      <th></th>\n",
       "      <th></th>\n",
       "      <th></th>\n",
       "      <th></th>\n",
       "      <th></th>\n",
       "      <th></th>\n",
       "      <th></th>\n",
       "      <th></th>\n",
       "      <th></th>\n",
       "      <th></th>\n",
       "      <th></th>\n",
       "      <th></th>\n",
       "      <th></th>\n",
       "    </tr>\n",
       "  </thead>\n",
       "  <tbody>\n",
       "    <tr>\n",
       "      <th>3056</th>\n",
       "      <td>19</td>\n",
       "      <td>46</td>\n",
       "      <td>2.0</td>\n",
       "      <td>51</td>\n",
       "      <td>172.93</td>\n",
       "      <td>1</td>\n",
       "      <td>16.0</td>\n",
       "      <td>10</td>\n",
       "      <td>6.0</td>\n",
       "      <td>2.53</td>\n",
       "      <td>...</td>\n",
       "      <td>0.0</td>\n",
       "      <td>0.0</td>\n",
       "      <td>1.0</td>\n",
       "      <td>1.0</td>\n",
       "      <td>0.0</td>\n",
       "      <td>0.0</td>\n",
       "      <td>0.0</td>\n",
       "      <td>0.0</td>\n",
       "      <td>1.0</td>\n",
       "      <td>0.0</td>\n",
       "    </tr>\n",
       "    <tr>\n",
       "      <th>1991</th>\n",
       "      <td>56</td>\n",
       "      <td>31</td>\n",
       "      <td>1.0</td>\n",
       "      <td>42</td>\n",
       "      <td>191.14</td>\n",
       "      <td>4</td>\n",
       "      <td>74.0</td>\n",
       "      <td>16</td>\n",
       "      <td>11.0</td>\n",
       "      <td>0.56</td>\n",
       "      <td>...</td>\n",
       "      <td>0.0</td>\n",
       "      <td>0.0</td>\n",
       "      <td>1.0</td>\n",
       "      <td>1.0</td>\n",
       "      <td>0.0</td>\n",
       "      <td>0.0</td>\n",
       "      <td>1.0</td>\n",
       "      <td>0.0</td>\n",
       "      <td>0.0</td>\n",
       "      <td>0.0</td>\n",
       "    </tr>\n",
       "    <tr>\n",
       "      <th>7626</th>\n",
       "      <td>20</td>\n",
       "      <td>47</td>\n",
       "      <td>2.0</td>\n",
       "      <td>45</td>\n",
       "      <td>52.58</td>\n",
       "      <td>4</td>\n",
       "      <td>51.0</td>\n",
       "      <td>17</td>\n",
       "      <td>13.0</td>\n",
       "      <td>10.98</td>\n",
       "      <td>...</td>\n",
       "      <td>1.0</td>\n",
       "      <td>0.0</td>\n",
       "      <td>0.0</td>\n",
       "      <td>0.0</td>\n",
       "      <td>0.0</td>\n",
       "      <td>1.0</td>\n",
       "      <td>0.0</td>\n",
       "      <td>1.0</td>\n",
       "      <td>0.0</td>\n",
       "      <td>0.0</td>\n",
       "    </tr>\n",
       "    <tr>\n",
       "      <th>6482</th>\n",
       "      <td>45</td>\n",
       "      <td>2</td>\n",
       "      <td>1.0</td>\n",
       "      <td>13</td>\n",
       "      <td>118.42</td>\n",
       "      <td>1</td>\n",
       "      <td>78.0</td>\n",
       "      <td>2</td>\n",
       "      <td>3.0</td>\n",
       "      <td>6.79</td>\n",
       "      <td>...</td>\n",
       "      <td>0.0</td>\n",
       "      <td>1.0</td>\n",
       "      <td>0.0</td>\n",
       "      <td>1.0</td>\n",
       "      <td>0.0</td>\n",
       "      <td>0.0</td>\n",
       "      <td>1.0</td>\n",
       "      <td>0.0</td>\n",
       "      <td>0.0</td>\n",
       "      <td>0.0</td>\n",
       "    </tr>\n",
       "    <tr>\n",
       "      <th>8532</th>\n",
       "      <td>26</td>\n",
       "      <td>18</td>\n",
       "      <td>0.0</td>\n",
       "      <td>18</td>\n",
       "      <td>77.34</td>\n",
       "      <td>4</td>\n",
       "      <td>36.0</td>\n",
       "      <td>6</td>\n",
       "      <td>3.0</td>\n",
       "      <td>8.84</td>\n",
       "      <td>...</td>\n",
       "      <td>0.0</td>\n",
       "      <td>0.0</td>\n",
       "      <td>1.0</td>\n",
       "      <td>1.0</td>\n",
       "      <td>0.0</td>\n",
       "      <td>0.0</td>\n",
       "      <td>0.0</td>\n",
       "      <td>0.0</td>\n",
       "      <td>0.0</td>\n",
       "      <td>1.0</td>\n",
       "    </tr>\n",
       "    <tr>\n",
       "      <th>...</th>\n",
       "      <td>...</td>\n",
       "      <td>...</td>\n",
       "      <td>...</td>\n",
       "      <td>...</td>\n",
       "      <td>...</td>\n",
       "      <td>...</td>\n",
       "      <td>...</td>\n",
       "      <td>...</td>\n",
       "      <td>...</td>\n",
       "      <td>...</td>\n",
       "      <td>...</td>\n",
       "      <td>...</td>\n",
       "      <td>...</td>\n",
       "      <td>...</td>\n",
       "      <td>...</td>\n",
       "      <td>...</td>\n",
       "      <td>...</td>\n",
       "      <td>...</td>\n",
       "      <td>...</td>\n",
       "      <td>...</td>\n",
       "      <td>...</td>\n",
       "    </tr>\n",
       "    <tr>\n",
       "      <th>7512</th>\n",
       "      <td>54</td>\n",
       "      <td>48</td>\n",
       "      <td>0.0</td>\n",
       "      <td>36</td>\n",
       "      <td>8.55</td>\n",
       "      <td>1</td>\n",
       "      <td>14.0</td>\n",
       "      <td>20</td>\n",
       "      <td>3.0</td>\n",
       "      <td>1.92</td>\n",
       "      <td>...</td>\n",
       "      <td>0.0</td>\n",
       "      <td>0.0</td>\n",
       "      <td>1.0</td>\n",
       "      <td>1.0</td>\n",
       "      <td>0.0</td>\n",
       "      <td>0.0</td>\n",
       "      <td>0.0</td>\n",
       "      <td>0.0</td>\n",
       "      <td>0.0</td>\n",
       "      <td>1.0</td>\n",
       "    </tr>\n",
       "    <tr>\n",
       "      <th>8761</th>\n",
       "      <td>38</td>\n",
       "      <td>21</td>\n",
       "      <td>0.0</td>\n",
       "      <td>25</td>\n",
       "      <td>12.58</td>\n",
       "      <td>1</td>\n",
       "      <td>24.0</td>\n",
       "      <td>15</td>\n",
       "      <td>7.0</td>\n",
       "      <td>8.57</td>\n",
       "      <td>...</td>\n",
       "      <td>1.0</td>\n",
       "      <td>0.0</td>\n",
       "      <td>0.0</td>\n",
       "      <td>0.0</td>\n",
       "      <td>1.0</td>\n",
       "      <td>0.0</td>\n",
       "      <td>1.0</td>\n",
       "      <td>0.0</td>\n",
       "      <td>0.0</td>\n",
       "      <td>0.0</td>\n",
       "    </tr>\n",
       "    <tr>\n",
       "      <th>5255</th>\n",
       "      <td>38</td>\n",
       "      <td>8</td>\n",
       "      <td>2.0</td>\n",
       "      <td>14</td>\n",
       "      <td>202.68</td>\n",
       "      <td>1</td>\n",
       "      <td>4.0</td>\n",
       "      <td>25</td>\n",
       "      <td>15.0</td>\n",
       "      <td>17.93</td>\n",
       "      <td>...</td>\n",
       "      <td>0.0</td>\n",
       "      <td>0.0</td>\n",
       "      <td>1.0</td>\n",
       "      <td>0.0</td>\n",
       "      <td>0.0</td>\n",
       "      <td>1.0</td>\n",
       "      <td>0.0</td>\n",
       "      <td>1.0</td>\n",
       "      <td>0.0</td>\n",
       "      <td>0.0</td>\n",
       "    </tr>\n",
       "    <tr>\n",
       "      <th>2243</th>\n",
       "      <td>40</td>\n",
       "      <td>7</td>\n",
       "      <td>2.0</td>\n",
       "      <td>9</td>\n",
       "      <td>120.91</td>\n",
       "      <td>4</td>\n",
       "      <td>57.0</td>\n",
       "      <td>10</td>\n",
       "      <td>14.0</td>\n",
       "      <td>16.98</td>\n",
       "      <td>...</td>\n",
       "      <td>0.0</td>\n",
       "      <td>0.0</td>\n",
       "      <td>1.0</td>\n",
       "      <td>0.0</td>\n",
       "      <td>0.0</td>\n",
       "      <td>1.0</td>\n",
       "      <td>0.0</td>\n",
       "      <td>1.0</td>\n",
       "      <td>0.0</td>\n",
       "      <td>0.0</td>\n",
       "    </tr>\n",
       "    <tr>\n",
       "      <th>2295</th>\n",
       "      <td>33</td>\n",
       "      <td>20</td>\n",
       "      <td>1.0</td>\n",
       "      <td>35</td>\n",
       "      <td>152.11</td>\n",
       "      <td>2</td>\n",
       "      <td>79.0</td>\n",
       "      <td>25</td>\n",
       "      <td>14.0</td>\n",
       "      <td>1.06</td>\n",
       "      <td>...</td>\n",
       "      <td>1.0</td>\n",
       "      <td>0.0</td>\n",
       "      <td>0.0</td>\n",
       "      <td>0.0</td>\n",
       "      <td>0.0</td>\n",
       "      <td>1.0</td>\n",
       "      <td>1.0</td>\n",
       "      <td>0.0</td>\n",
       "      <td>0.0</td>\n",
       "      <td>0.0</td>\n",
       "    </tr>\n",
       "  </tbody>\n",
       "</table>\n",
       "<p>7998 rows × 41 columns</p>\n",
       "</div>"
      ],
      "text/plain": [
       "            Age  TotalWatchTime  ComplaintCount  DaysSinceLastLogin  \\\n",
       "CustomerID                                                            \n",
       "3056         19              46             2.0                  51   \n",
       "1991         56              31             1.0                  42   \n",
       "7626         20              47             2.0                  45   \n",
       "6482         45               2             1.0                  13   \n",
       "8532         26              18             0.0                  18   \n",
       "...         ...             ...             ...                 ...   \n",
       "7512         54              48             0.0                  36   \n",
       "8761         38              21             0.0                  25   \n",
       "5255         38               8             2.0                  14   \n",
       "2243         40               7             2.0                   9   \n",
       "2295         33              20             1.0                  35   \n",
       "\n",
       "            AvgSessionDuration  NumDevicesUsed  ContentPreferenceScore  \\\n",
       "CustomerID                                                               \n",
       "3056                    172.93               1                    16.0   \n",
       "1991                    191.14               4                    74.0   \n",
       "7626                     52.58               4                    51.0   \n",
       "6482                    118.42               1                    78.0   \n",
       "8532                     77.34               4                    36.0   \n",
       "...                        ...             ...                     ...   \n",
       "7512                      8.55               1                    14.0   \n",
       "8761                     12.58               1                    24.0   \n",
       "5255                    202.68               1                     4.0   \n",
       "2243                    120.91               4                    57.0   \n",
       "2295                    152.11               2                    79.0   \n",
       "\n",
       "            ActiveDaysLastMonth  SkippedContentCount  DiscountReceived  ...  \\\n",
       "CustomerID                                                              ...   \n",
       "3056                         10                  6.0              2.53  ...   \n",
       "1991                         16                 11.0              0.56  ...   \n",
       "7626                         17                 13.0             10.98  ...   \n",
       "6482                          2                  3.0              6.79  ...   \n",
       "8532                          6                  3.0              8.84  ...   \n",
       "...                         ...                  ...               ...  ...   \n",
       "7512                         20                  3.0              1.92  ...   \n",
       "8761                         15                  7.0              8.57  ...   \n",
       "5255                         25                 15.0             17.93  ...   \n",
       "2243                         10                 14.0             16.98  ...   \n",
       "2295                         25                 14.0              1.06  ...   \n",
       "\n",
       "            SubscriptionType_Basic  SubscriptionType_Premium  \\\n",
       "CustomerID                                                     \n",
       "3056                           0.0                       0.0   \n",
       "1991                           0.0                       0.0   \n",
       "7626                           1.0                       0.0   \n",
       "6482                           0.0                       1.0   \n",
       "8532                           0.0                       0.0   \n",
       "...                            ...                       ...   \n",
       "7512                           0.0                       0.0   \n",
       "8761                           1.0                       0.0   \n",
       "5255                           0.0                       0.0   \n",
       "2243                           0.0                       0.0   \n",
       "2295                           1.0                       0.0   \n",
       "\n",
       "            SubscriptionType_Standard  PlatformType_Mobile  PlatformType_TV  \\\n",
       "CustomerID                                                                    \n",
       "3056                              1.0                  1.0              0.0   \n",
       "1991                              1.0                  1.0              0.0   \n",
       "7626                              0.0                  0.0              0.0   \n",
       "6482                              0.0                  1.0              0.0   \n",
       "8532                              1.0                  1.0              0.0   \n",
       "...                               ...                  ...              ...   \n",
       "7512                              1.0                  1.0              0.0   \n",
       "8761                              0.0                  0.0              1.0   \n",
       "5255                              1.0                  0.0              0.0   \n",
       "2243                              1.0                  0.0              0.0   \n",
       "2295                              0.0                  0.0              0.0   \n",
       "\n",
       "            PlatformType_Web  CustomerSegment_At Risk  \\\n",
       "CustomerID                                              \n",
       "3056                     0.0                      0.0   \n",
       "1991                     0.0                      1.0   \n",
       "7626                     1.0                      0.0   \n",
       "6482                     0.0                      1.0   \n",
       "8532                     0.0                      0.0   \n",
       "...                      ...                      ...   \n",
       "7512                     0.0                      0.0   \n",
       "8761                     0.0                      1.0   \n",
       "5255                     1.0                      0.0   \n",
       "2243                     1.0                      0.0   \n",
       "2295                     1.0                      1.0   \n",
       "\n",
       "            CustomerSegment_Frustrated  CustomerSegment_Highly Engaged  \\\n",
       "CustomerID                                                               \n",
       "3056                               0.0                             1.0   \n",
       "1991                               0.0                             0.0   \n",
       "7626                               1.0                             0.0   \n",
       "6482                               0.0                             0.0   \n",
       "8532                               0.0                             0.0   \n",
       "...                                ...                             ...   \n",
       "7512                               0.0                             0.0   \n",
       "8761                               0.0                             0.0   \n",
       "5255                               1.0                             0.0   \n",
       "2243                               1.0                             0.0   \n",
       "2295                               0.0                             0.0   \n",
       "\n",
       "            CustomerSegment_Loyal  \n",
       "CustomerID                         \n",
       "3056                          0.0  \n",
       "1991                          0.0  \n",
       "7626                          0.0  \n",
       "6482                          0.0  \n",
       "8532                          1.0  \n",
       "...                           ...  \n",
       "7512                          1.0  \n",
       "8761                          0.0  \n",
       "5255                          0.0  \n",
       "2243                          0.0  \n",
       "2295                          0.0  \n",
       "\n",
       "[7998 rows x 41 columns]"
      ]
     },
     "execution_count": 106,
     "metadata": {},
     "output_type": "execute_result"
    }
   ],
   "source": [
    "X_train_final"
   ]
  },
  {
   "cell_type": "code",
   "execution_count": 107,
   "id": "516ff152",
   "metadata": {},
   "outputs": [],
   "source": [
    "from sklearn.preprocessing import StandardScaler\n",
    "\n",
    "# Step 3: Standard scaling\n",
    "scaler = StandardScaler()\n",
    "X_train_final[num_cols] = scaler.fit_transform(X_train_final[num_cols])\n",
    "X_test_final[num_cols] = scaler.transform(X_test_final[num_cols])\n"
   ]
  },
  {
   "cell_type": "code",
   "execution_count": 108,
   "id": "189856b6",
   "metadata": {},
   "outputs": [],
   "source": [
    "#Save winsorizer for reuse\n",
    "with open(\"winsorizer.pkl\", \"wb\") as f:\n",
    "    pickle.dump(winsorizer, f)\n",
    "    \n",
    "#Save scalar for reuse\n",
    "with open(\"standard_scaler.pkl\", \"wb\") as f:\n",
    "    pickle.dump(scaler, f)"
   ]
  },
  {
   "cell_type": "code",
   "execution_count": 109,
   "id": "d71db494",
   "metadata": {},
   "outputs": [
    {
     "data": {
      "text/plain": [
       "(7998, 41)"
      ]
     },
     "execution_count": 109,
     "metadata": {},
     "output_type": "execute_result"
    }
   ],
   "source": [
    "X_train_final.shape"
   ]
  },
  {
   "cell_type": "code",
   "execution_count": 110,
   "id": "6149c489",
   "metadata": {},
   "outputs": [
    {
     "data": {
      "text/plain": [
       "0    6421\n",
       "1    1577\n",
       "Name: Churn, dtype: int64"
      ]
     },
     "execution_count": 110,
     "metadata": {},
     "output_type": "execute_result"
    }
   ],
   "source": [
    "y_train.value_counts()"
   ]
  },
  {
   "cell_type": "code",
   "execution_count": 111,
   "id": "66cf240a",
   "metadata": {},
   "outputs": [
    {
     "data": {
      "text/plain": [
       "(2000, 41)"
      ]
     },
     "execution_count": 111,
     "metadata": {},
     "output_type": "execute_result"
    }
   ],
   "source": [
    "X_test_final.shape"
   ]
  },
  {
   "cell_type": "code",
   "execution_count": 113,
   "id": "2346d65f",
   "metadata": {},
   "outputs": [
    {
     "name": "stdout",
     "output_type": "stream",
     "text": [
      "0\n",
      "0\n"
     ]
    }
   ],
   "source": [
    "import numpy as np\n",
    "\n",
    "# Check for NaNs\n",
    "print(X_train_final.isnull().sum().sum())  # total number of NaNs\n",
    "\n",
    "# Check for infinite values\n",
    "print(np.isinf(X_train_final).sum().sum())  # total number of infs\n"
   ]
  },
  {
   "cell_type": "code",
   "execution_count": 114,
   "id": "e4b043db",
   "metadata": {},
   "outputs": [
    {
     "data": {
      "text/plain": [
       "(12842, 28)"
      ]
     },
     "execution_count": 114,
     "metadata": {},
     "output_type": "execute_result"
    }
   ],
   "source": [
    "X_train_s.shape"
   ]
  },
  {
   "cell_type": "markdown",
   "id": "4c5b34e6",
   "metadata": {},
   "source": [
    "## Model Selection, Model Building and Feature Selection\n",
    "\n",
    "Now we have 14 custom independent variables (IDVs), so we need to evaluate model performance with and without them. We'll run models across different algorithm categories—ensemble models (e.g., boosting classifiers), linear models, and KNN—to observe any performance shifts. Based on these results, we'll decide whether to retain the custom IDVs and select the best-performing algorithm.\n",
    "\n",
    "It's important to note that we should not expect very high performance, as the dataset is relatively small and imbalanced.\n",
    "\n",
    "Next, we'll analyze which of the 41 total features contribute the most. We'll use XGBoost feature importance (gain), recursive feature elimination (RFE), and feature importance from trained models. By eliminating the least contributing features one by one, we'll track how the model's overall performance changes to inform final feature selection.\n",
    "\n",
    "Okay, let's proceed."
   ]
  },
  {
   "cell_type": "code",
   "execution_count": 115,
   "id": "7bd86570",
   "metadata": {},
   "outputs": [
    {
     "name": "stdout",
     "output_type": "stream",
     "text": [
      "Before upsampling count of label 0 6421\n",
      "Before upsampling count of label 1 1577\n",
      "After upsampling count of label 0 6421\n",
      "After upsampling count of label 1 6421\n"
     ]
    }
   ],
   "source": [
    "from imblearn.over_sampling import SMOTE\n",
    "\n",
    "print('Before upsampling count of label 0 {}'.format(sum(y_train==0)))\n",
    "print('Before upsampling count of label 1 {}'.format(sum(y_train==1)))\n",
    "# Minority Over Sampling Technique\n",
    "sm = SMOTE(sampling_strategy = 1, random_state=1)   \n",
    "X_train_final, y_train = sm.fit_resample(X_train_final, y_train.ravel())\n",
    "                                         \n",
    "print('After upsampling count of label 0 {}'.format(sum(y_train_s==0)))\n",
    "print('After upsampling count of label 1 {}'.format(sum(y_train_s==1)))"
   ]
  },
  {
   "cell_type": "code",
   "execution_count": 159,
   "id": "5b38c7d8",
   "metadata": {},
   "outputs": [],
   "source": [
    "import pandas as pd\n",
    "from sklearn.model_selection import cross_validate\n",
    "from sklearn.ensemble import AdaBoostClassifier, BaggingClassifier, GradientBoostingClassifier, RandomForestClassifier\n",
    "from sklearn.linear_model import LogisticRegressionCV, RidgeClassifierCV\n",
    "from sklearn.neighbors import KNeighborsClassifier\n",
    "from xgboost import XGBClassifier\n",
    "from sklearn.metrics import classification_report, accuracy_score, precision_score, recall_score, f1_score\n",
    "\n",
    "def model_selector(X_train,y_train,X_test,y_test):\n",
    "    # Define models\n",
    "    models = [\n",
    "        AdaBoostClassifier(),\n",
    "        BaggingClassifier(),\n",
    "        GradientBoostingClassifier(),\n",
    "        RandomForestClassifier(),\n",
    "        LogisticRegressionCV(),\n",
    "        RidgeClassifierCV(),\n",
    "        KNeighborsClassifier(),\n",
    "        XGBClassifier(use_label_encoder=False, eval_metric='logloss')\n",
    "    ]\n",
    "\n",
    "    metrics_cols = ['model_name', 'cv_accuracy', 'cv_precision', 'cv_recall', 'cv_f1', 'test_accuracy', 'test_precision', 'test_recall', 'test_f1']\n",
    "\n",
    "    # Initialize metric storage\n",
    "    model_name = []\n",
    "    cv_accuracy = []\n",
    "    cv_precision = []\n",
    "    cv_recall = []\n",
    "    cv_f1 = []\n",
    "    test_accuracy = []\n",
    "    test_precision = []\n",
    "    test_recall = []\n",
    "    test_f1 = []\n",
    "\n",
    "    # Define scoring\n",
    "    scoring = ['accuracy', 'precision', 'recall', 'f1']\n",
    "\n",
    "    # Evaluate models\n",
    "    for model in models:\n",
    "        # Cross-validation\n",
    "        cv_results = cross_validate(model, X_train, y_train, cv=5, scoring=scoring, return_train_score=False)\n",
    "\n",
    "        # Fit on training set and predict on test set\n",
    "        model.fit(X_train, y_train)\n",
    "        y_pred_test = model.predict(X_test)\n",
    "\n",
    "        # Log results\n",
    "        model_name.append(model.__class__.__name__)\n",
    "        cv_accuracy.append(round(cv_results['test_accuracy'].mean(), 3) * 100)\n",
    "        cv_precision.append(round(cv_results['test_precision'].mean(), 3) * 100)\n",
    "        cv_recall.append(round(cv_results['test_recall'].mean(), 3) * 100)\n",
    "        cv_f1.append(round(cv_results['test_f1'].mean(), 3) * 100)\n",
    "        test_accuracy.append(round(accuracy_score(y_test, y_pred_test), 4) * 100)\n",
    "        test_precision.append(round(precision_score(y_test, y_pred_test), 4) * 100)\n",
    "        test_recall.append(round(recall_score(y_test, y_pred_test), 4) * 100)\n",
    "        test_f1.append(round(f1_score(y_test, y_pred_test), 4) * 100)\n",
    "\n",
    "    # Create DataFrame\n",
    "    metrics_data = [model_name, cv_accuracy, cv_precision, cv_recall, cv_f1, test_accuracy, test_precision, test_recall, test_f1]\n",
    "    metrics_dict = {col: data for col, data in zip(metrics_cols, metrics_data)}\n",
    "    model_metrics_combined = pd.DataFrame(metrics_dict)\n",
    "\n",
    "    # Sort and display\n",
    "    model_metrics_combined = model_metrics_combined.sort_values('test_accuracy', ascending=False).reset_index(drop=True)\n",
    "    \n",
    "    return model_metrics_combined"
   ]
  },
  {
   "cell_type": "code",
   "execution_count": 167,
   "id": "f54360a9",
   "metadata": {},
   "outputs": [
    {
     "name": "stderr",
     "output_type": "stream",
     "text": [
      "/home/ubuntu/anaconda3/envs/fpd_env/lib/python3.8/site-packages/sklearn/linear_model/_logistic.py:814: ConvergenceWarning: lbfgs failed to converge (status=1):\n",
      "STOP: TOTAL NO. of ITERATIONS REACHED LIMIT.\n",
      "\n",
      "Increase the number of iterations (max_iter) or scale the data as shown in:\n",
      "    https://scikit-learn.org/stable/modules/preprocessing.html\n",
      "Please also refer to the documentation for alternative solver options:\n",
      "    https://scikit-learn.org/stable/modules/linear_model.html#logistic-regression\n",
      "  n_iter_i = _check_optimize_result(\n",
      "/home/ubuntu/anaconda3/envs/fpd_env/lib/python3.8/site-packages/sklearn/linear_model/_logistic.py:814: ConvergenceWarning: lbfgs failed to converge (status=1):\n",
      "STOP: TOTAL NO. of ITERATIONS REACHED LIMIT.\n",
      "\n",
      "Increase the number of iterations (max_iter) or scale the data as shown in:\n",
      "    https://scikit-learn.org/stable/modules/preprocessing.html\n",
      "Please also refer to the documentation for alternative solver options:\n",
      "    https://scikit-learn.org/stable/modules/linear_model.html#logistic-regression\n",
      "  n_iter_i = _check_optimize_result(\n",
      "/home/ubuntu/anaconda3/envs/fpd_env/lib/python3.8/site-packages/sklearn/linear_model/_logistic.py:814: ConvergenceWarning: lbfgs failed to converge (status=1):\n",
      "STOP: TOTAL NO. of ITERATIONS REACHED LIMIT.\n",
      "\n",
      "Increase the number of iterations (max_iter) or scale the data as shown in:\n",
      "    https://scikit-learn.org/stable/modules/preprocessing.html\n",
      "Please also refer to the documentation for alternative solver options:\n",
      "    https://scikit-learn.org/stable/modules/linear_model.html#logistic-regression\n",
      "  n_iter_i = _check_optimize_result(\n",
      "/home/ubuntu/anaconda3/envs/fpd_env/lib/python3.8/site-packages/sklearn/linear_model/_logistic.py:814: ConvergenceWarning: lbfgs failed to converge (status=1):\n",
      "STOP: TOTAL NO. of ITERATIONS REACHED LIMIT.\n",
      "\n",
      "Increase the number of iterations (max_iter) or scale the data as shown in:\n",
      "    https://scikit-learn.org/stable/modules/preprocessing.html\n",
      "Please also refer to the documentation for alternative solver options:\n",
      "    https://scikit-learn.org/stable/modules/linear_model.html#logistic-regression\n",
      "  n_iter_i = _check_optimize_result(\n",
      "/home/ubuntu/anaconda3/envs/fpd_env/lib/python3.8/site-packages/sklearn/linear_model/_logistic.py:814: ConvergenceWarning: lbfgs failed to converge (status=1):\n",
      "STOP: TOTAL NO. of ITERATIONS REACHED LIMIT.\n",
      "\n",
      "Increase the number of iterations (max_iter) or scale the data as shown in:\n",
      "    https://scikit-learn.org/stable/modules/preprocessing.html\n",
      "Please also refer to the documentation for alternative solver options:\n",
      "    https://scikit-learn.org/stable/modules/linear_model.html#logistic-regression\n",
      "  n_iter_i = _check_optimize_result(\n",
      "/home/ubuntu/anaconda3/envs/fpd_env/lib/python3.8/site-packages/sklearn/linear_model/_logistic.py:814: ConvergenceWarning: lbfgs failed to converge (status=1):\n",
      "STOP: TOTAL NO. of ITERATIONS REACHED LIMIT.\n",
      "\n",
      "Increase the number of iterations (max_iter) or scale the data as shown in:\n",
      "    https://scikit-learn.org/stable/modules/preprocessing.html\n",
      "Please also refer to the documentation for alternative solver options:\n",
      "    https://scikit-learn.org/stable/modules/linear_model.html#logistic-regression\n",
      "  n_iter_i = _check_optimize_result(\n",
      "/home/ubuntu/anaconda3/envs/fpd_env/lib/python3.8/site-packages/sklearn/linear_model/_logistic.py:814: ConvergenceWarning: lbfgs failed to converge (status=1):\n",
      "STOP: TOTAL NO. of ITERATIONS REACHED LIMIT.\n",
      "\n",
      "Increase the number of iterations (max_iter) or scale the data as shown in:\n",
      "    https://scikit-learn.org/stable/modules/preprocessing.html\n",
      "Please also refer to the documentation for alternative solver options:\n",
      "    https://scikit-learn.org/stable/modules/linear_model.html#logistic-regression\n",
      "  n_iter_i = _check_optimize_result(\n",
      "/home/ubuntu/anaconda3/envs/fpd_env/lib/python3.8/site-packages/sklearn/linear_model/_logistic.py:814: ConvergenceWarning: lbfgs failed to converge (status=1):\n",
      "STOP: TOTAL NO. of ITERATIONS REACHED LIMIT.\n",
      "\n",
      "Increase the number of iterations (max_iter) or scale the data as shown in:\n",
      "    https://scikit-learn.org/stable/modules/preprocessing.html\n",
      "Please also refer to the documentation for alternative solver options:\n",
      "    https://scikit-learn.org/stable/modules/linear_model.html#logistic-regression\n",
      "  n_iter_i = _check_optimize_result(\n",
      "/home/ubuntu/anaconda3/envs/fpd_env/lib/python3.8/site-packages/sklearn/linear_model/_logistic.py:814: ConvergenceWarning: lbfgs failed to converge (status=1):\n",
      "STOP: TOTAL NO. of ITERATIONS REACHED LIMIT.\n",
      "\n",
      "Increase the number of iterations (max_iter) or scale the data as shown in:\n",
      "    https://scikit-learn.org/stable/modules/preprocessing.html\n",
      "Please also refer to the documentation for alternative solver options:\n",
      "    https://scikit-learn.org/stable/modules/linear_model.html#logistic-regression\n",
      "  n_iter_i = _check_optimize_result(\n",
      "/home/ubuntu/anaconda3/envs/fpd_env/lib/python3.8/site-packages/sklearn/linear_model/_logistic.py:814: ConvergenceWarning: lbfgs failed to converge (status=1):\n",
      "STOP: TOTAL NO. of ITERATIONS REACHED LIMIT.\n",
      "\n",
      "Increase the number of iterations (max_iter) or scale the data as shown in:\n",
      "    https://scikit-learn.org/stable/modules/preprocessing.html\n",
      "Please also refer to the documentation for alternative solver options:\n",
      "    https://scikit-learn.org/stable/modules/linear_model.html#logistic-regression\n",
      "  n_iter_i = _check_optimize_result(\n",
      "/home/ubuntu/anaconda3/envs/fpd_env/lib/python3.8/site-packages/sklearn/linear_model/_logistic.py:814: ConvergenceWarning: lbfgs failed to converge (status=1):\n",
      "STOP: TOTAL NO. of ITERATIONS REACHED LIMIT.\n",
      "\n",
      "Increase the number of iterations (max_iter) or scale the data as shown in:\n",
      "    https://scikit-learn.org/stable/modules/preprocessing.html\n",
      "Please also refer to the documentation for alternative solver options:\n",
      "    https://scikit-learn.org/stable/modules/linear_model.html#logistic-regression\n",
      "  n_iter_i = _check_optimize_result(\n",
      "/home/ubuntu/anaconda3/envs/fpd_env/lib/python3.8/site-packages/sklearn/linear_model/_logistic.py:814: ConvergenceWarning: lbfgs failed to converge (status=1):\n",
      "STOP: TOTAL NO. of ITERATIONS REACHED LIMIT.\n",
      "\n",
      "Increase the number of iterations (max_iter) or scale the data as shown in:\n",
      "    https://scikit-learn.org/stable/modules/preprocessing.html\n",
      "Please also refer to the documentation for alternative solver options:\n",
      "    https://scikit-learn.org/stable/modules/linear_model.html#logistic-regression\n",
      "  n_iter_i = _check_optimize_result(\n",
      "/home/ubuntu/anaconda3/envs/fpd_env/lib/python3.8/site-packages/sklearn/linear_model/_logistic.py:814: ConvergenceWarning: lbfgs failed to converge (status=1):\n",
      "STOP: TOTAL NO. of ITERATIONS REACHED LIMIT.\n",
      "\n",
      "Increase the number of iterations (max_iter) or scale the data as shown in:\n",
      "    https://scikit-learn.org/stable/modules/preprocessing.html\n",
      "Please also refer to the documentation for alternative solver options:\n",
      "    https://scikit-learn.org/stable/modules/linear_model.html#logistic-regression\n",
      "  n_iter_i = _check_optimize_result(\n",
      "/home/ubuntu/anaconda3/envs/fpd_env/lib/python3.8/site-packages/sklearn/linear_model/_logistic.py:814: ConvergenceWarning: lbfgs failed to converge (status=1):\n",
      "STOP: TOTAL NO. of ITERATIONS REACHED LIMIT.\n",
      "\n",
      "Increase the number of iterations (max_iter) or scale the data as shown in:\n",
      "    https://scikit-learn.org/stable/modules/preprocessing.html\n",
      "Please also refer to the documentation for alternative solver options:\n",
      "    https://scikit-learn.org/stable/modules/linear_model.html#logistic-regression\n",
      "  n_iter_i = _check_optimize_result(\n"
     ]
    }
   ],
   "source": [
    "model_result_with_custom_idvs = model_selector(X_train_final,y_train,X_test_final,y_test)"
   ]
  },
  {
   "cell_type": "code",
   "execution_count": 161,
   "id": "b8298719",
   "metadata": {},
   "outputs": [],
   "source": [
    "df_custom_idvs = ['Rolling_Avg_SocialMediaMentions',\n",
    " 'RecencyEngagement',\n",
    " 'SubscriptionType_MonthlySpend',\n",
    " 'LoyaltyRisk',\n",
    " 'MultiDeviceUser',\n",
    " 'FrictionScore',\n",
    " 'Rolling_Avg_AdInteractionCount',\n",
    " 'ChurnLikelihood',\n",
    " 'SocialInfluenceScore',\n",
    " 'Rolling_Avg_ActiveDaysLastMonth',\n",
    " 'Spend_Engagement',\n",
    " 'ContentEngagementScore',\n",
    " 'EngagementIntensity']"
   ]
  },
  {
   "cell_type": "code",
   "execution_count": 162,
   "id": "3dae5777",
   "metadata": {},
   "outputs": [
    {
     "data": {
      "text/plain": [
       "(2000, 41)"
      ]
     },
     "execution_count": 162,
     "metadata": {},
     "output_type": "execute_result"
    }
   ],
   "source": [
    "X_test_final.shape"
   ]
  },
  {
   "cell_type": "code",
   "execution_count": 163,
   "id": "a5de30c1",
   "metadata": {},
   "outputs": [],
   "source": [
    "X_train_final_original = X_train_final.drop(columns=df_custom_idvs) \n",
    "X_test_final_original = X_test_final.drop(columns=df_custom_idvs)"
   ]
  },
  {
   "cell_type": "code",
   "execution_count": 168,
   "id": "f2a4ac38",
   "metadata": {},
   "outputs": [],
   "source": [
    "model_result_without_custom_idvs = model_selector(X_train_final_original,y_train,X_test_final_original,y_test)"
   ]
  },
  {
   "cell_type": "code",
   "execution_count": 169,
   "id": "69b63386",
   "metadata": {},
   "outputs": [
    {
     "data": {
      "text/html": [
       "<div>\n",
       "<style scoped>\n",
       "    .dataframe tbody tr th:only-of-type {\n",
       "        vertical-align: middle;\n",
       "    }\n",
       "\n",
       "    .dataframe tbody tr th {\n",
       "        vertical-align: top;\n",
       "    }\n",
       "\n",
       "    .dataframe thead th {\n",
       "        text-align: right;\n",
       "    }\n",
       "</style>\n",
       "<table border=\"1\" class=\"dataframe\">\n",
       "  <thead>\n",
       "    <tr style=\"text-align: right;\">\n",
       "      <th></th>\n",
       "      <th>model_name</th>\n",
       "      <th>cv_accuracy</th>\n",
       "      <th>cv_precision</th>\n",
       "      <th>cv_recall</th>\n",
       "      <th>cv_f1</th>\n",
       "      <th>test_accuracy</th>\n",
       "      <th>test_precision</th>\n",
       "      <th>test_recall</th>\n",
       "      <th>test_f1</th>\n",
       "    </tr>\n",
       "  </thead>\n",
       "  <tbody>\n",
       "    <tr>\n",
       "      <th>0</th>\n",
       "      <td>GradientBoostingClassifier</td>\n",
       "      <td>85.5</td>\n",
       "      <td>99.0</td>\n",
       "      <td>71.9</td>\n",
       "      <td>75.2</td>\n",
       "      <td>83.70</td>\n",
       "      <td>84.00</td>\n",
       "      <td>21.32</td>\n",
       "      <td>34.01</td>\n",
       "    </tr>\n",
       "    <tr>\n",
       "      <th>1</th>\n",
       "      <td>XGBClassifier</td>\n",
       "      <td>86.5</td>\n",
       "      <td>95.6</td>\n",
       "      <td>77.3</td>\n",
       "      <td>77.7</td>\n",
       "      <td>82.15</td>\n",
       "      <td>62.59</td>\n",
       "      <td>23.35</td>\n",
       "      <td>34.01</td>\n",
       "    </tr>\n",
       "    <tr>\n",
       "      <th>2</th>\n",
       "      <td>RandomForestClassifier</td>\n",
       "      <td>89.3</td>\n",
       "      <td>98.0</td>\n",
       "      <td>80.5</td>\n",
       "      <td>84.0</td>\n",
       "      <td>79.80</td>\n",
       "      <td>27.27</td>\n",
       "      <td>1.52</td>\n",
       "      <td>2.88</td>\n",
       "    </tr>\n",
       "    <tr>\n",
       "      <th>3</th>\n",
       "      <td>BaggingClassifier</td>\n",
       "      <td>85.0</td>\n",
       "      <td>92.6</td>\n",
       "      <td>75.9</td>\n",
       "      <td>78.5</td>\n",
       "      <td>78.45</td>\n",
       "      <td>29.67</td>\n",
       "      <td>6.85</td>\n",
       "      <td>11.13</td>\n",
       "    </tr>\n",
       "    <tr>\n",
       "      <th>4</th>\n",
       "      <td>AdaBoostClassifier</td>\n",
       "      <td>79.8</td>\n",
       "      <td>81.8</td>\n",
       "      <td>69.8</td>\n",
       "      <td>72.6</td>\n",
       "      <td>75.20</td>\n",
       "      <td>20.35</td>\n",
       "      <td>8.88</td>\n",
       "      <td>12.37</td>\n",
       "    </tr>\n",
       "    <tr>\n",
       "      <th>5</th>\n",
       "      <td>RidgeClassifierCV</td>\n",
       "      <td>54.6</td>\n",
       "      <td>54.3</td>\n",
       "      <td>58.0</td>\n",
       "      <td>56.1</td>\n",
       "      <td>51.05</td>\n",
       "      <td>20.30</td>\n",
       "      <td>50.76</td>\n",
       "      <td>29.01</td>\n",
       "    </tr>\n",
       "    <tr>\n",
       "      <th>6</th>\n",
       "      <td>LogisticRegressionCV</td>\n",
       "      <td>54.4</td>\n",
       "      <td>54.1</td>\n",
       "      <td>57.6</td>\n",
       "      <td>55.8</td>\n",
       "      <td>50.90</td>\n",
       "      <td>20.06</td>\n",
       "      <td>50.00</td>\n",
       "      <td>28.63</td>\n",
       "    </tr>\n",
       "    <tr>\n",
       "      <th>7</th>\n",
       "      <td>KNeighborsClassifier</td>\n",
       "      <td>70.4</td>\n",
       "      <td>63.3</td>\n",
       "      <td>97.0</td>\n",
       "      <td>76.6</td>\n",
       "      <td>46.75</td>\n",
       "      <td>18.44</td>\n",
       "      <td>49.75</td>\n",
       "      <td>26.90</td>\n",
       "    </tr>\n",
       "  </tbody>\n",
       "</table>\n",
       "</div>"
      ],
      "text/plain": [
       "                   model_name  cv_accuracy  cv_precision  cv_recall  cv_f1  \\\n",
       "0  GradientBoostingClassifier         85.5          99.0       71.9   75.2   \n",
       "1               XGBClassifier         86.5          95.6       77.3   77.7   \n",
       "2      RandomForestClassifier         89.3          98.0       80.5   84.0   \n",
       "3           BaggingClassifier         85.0          92.6       75.9   78.5   \n",
       "4          AdaBoostClassifier         79.8          81.8       69.8   72.6   \n",
       "5           RidgeClassifierCV         54.6          54.3       58.0   56.1   \n",
       "6        LogisticRegressionCV         54.4          54.1       57.6   55.8   \n",
       "7        KNeighborsClassifier         70.4          63.3       97.0   76.6   \n",
       "\n",
       "   test_accuracy  test_precision  test_recall  test_f1  \n",
       "0          83.70           84.00        21.32    34.01  \n",
       "1          82.15           62.59        23.35    34.01  \n",
       "2          79.80           27.27         1.52     2.88  \n",
       "3          78.45           29.67         6.85    11.13  \n",
       "4          75.20           20.35         8.88    12.37  \n",
       "5          51.05           20.30        50.76    29.01  \n",
       "6          50.90           20.06        50.00    28.63  \n",
       "7          46.75           18.44        49.75    26.90  "
      ]
     },
     "execution_count": 169,
     "metadata": {},
     "output_type": "execute_result"
    }
   ],
   "source": [
    "model_result_with_custom_idvs"
   ]
  },
  {
   "cell_type": "code",
   "execution_count": 170,
   "id": "b08282bc",
   "metadata": {},
   "outputs": [
    {
     "data": {
      "text/html": [
       "<div>\n",
       "<style scoped>\n",
       "    .dataframe tbody tr th:only-of-type {\n",
       "        vertical-align: middle;\n",
       "    }\n",
       "\n",
       "    .dataframe tbody tr th {\n",
       "        vertical-align: top;\n",
       "    }\n",
       "\n",
       "    .dataframe thead th {\n",
       "        text-align: right;\n",
       "    }\n",
       "</style>\n",
       "<table border=\"1\" class=\"dataframe\">\n",
       "  <thead>\n",
       "    <tr style=\"text-align: right;\">\n",
       "      <th></th>\n",
       "      <th>model_name</th>\n",
       "      <th>cv_accuracy</th>\n",
       "      <th>cv_precision</th>\n",
       "      <th>cv_recall</th>\n",
       "      <th>cv_f1</th>\n",
       "      <th>test_accuracy</th>\n",
       "      <th>test_precision</th>\n",
       "      <th>test_recall</th>\n",
       "      <th>test_f1</th>\n",
       "    </tr>\n",
       "  </thead>\n",
       "  <tbody>\n",
       "    <tr>\n",
       "      <th>0</th>\n",
       "      <td>GradientBoostingClassifier</td>\n",
       "      <td>85.1</td>\n",
       "      <td>98.4</td>\n",
       "      <td>71.6</td>\n",
       "      <td>75.1</td>\n",
       "      <td>83.5</td>\n",
       "      <td>80.77</td>\n",
       "      <td>21.32</td>\n",
       "      <td>33.73</td>\n",
       "    </tr>\n",
       "    <tr>\n",
       "      <th>1</th>\n",
       "      <td>XGBClassifier</td>\n",
       "      <td>86.4</td>\n",
       "      <td>93.6</td>\n",
       "      <td>77.6</td>\n",
       "      <td>78.0</td>\n",
       "      <td>81.0</td>\n",
       "      <td>54.43</td>\n",
       "      <td>21.83</td>\n",
       "      <td>31.16</td>\n",
       "    </tr>\n",
       "    <tr>\n",
       "      <th>2</th>\n",
       "      <td>RandomForestClassifier</td>\n",
       "      <td>88.7</td>\n",
       "      <td>96.8</td>\n",
       "      <td>80.1</td>\n",
       "      <td>83.5</td>\n",
       "      <td>79.3</td>\n",
       "      <td>30.77</td>\n",
       "      <td>4.06</td>\n",
       "      <td>7.17</td>\n",
       "    </tr>\n",
       "    <tr>\n",
       "      <th>3</th>\n",
       "      <td>BaggingClassifier</td>\n",
       "      <td>84.4</td>\n",
       "      <td>91.7</td>\n",
       "      <td>75.7</td>\n",
       "      <td>78.4</td>\n",
       "      <td>77.4</td>\n",
       "      <td>30.14</td>\n",
       "      <td>11.17</td>\n",
       "      <td>16.30</td>\n",
       "    </tr>\n",
       "    <tr>\n",
       "      <th>4</th>\n",
       "      <td>AdaBoostClassifier</td>\n",
       "      <td>77.1</td>\n",
       "      <td>78.2</td>\n",
       "      <td>69.4</td>\n",
       "      <td>71.1</td>\n",
       "      <td>72.9</td>\n",
       "      <td>19.92</td>\n",
       "      <td>12.44</td>\n",
       "      <td>15.31</td>\n",
       "    </tr>\n",
       "    <tr>\n",
       "      <th>5</th>\n",
       "      <td>KNeighborsClassifier</td>\n",
       "      <td>71.3</td>\n",
       "      <td>64.3</td>\n",
       "      <td>96.0</td>\n",
       "      <td>77.0</td>\n",
       "      <td>49.9</td>\n",
       "      <td>18.66</td>\n",
       "      <td>45.94</td>\n",
       "      <td>26.54</td>\n",
       "    </tr>\n",
       "    <tr>\n",
       "      <th>6</th>\n",
       "      <td>LogisticRegressionCV</td>\n",
       "      <td>53.5</td>\n",
       "      <td>53.2</td>\n",
       "      <td>57.9</td>\n",
       "      <td>55.4</td>\n",
       "      <td>48.3</td>\n",
       "      <td>18.69</td>\n",
       "      <td>48.48</td>\n",
       "      <td>26.98</td>\n",
       "    </tr>\n",
       "    <tr>\n",
       "      <th>7</th>\n",
       "      <td>RidgeClassifierCV</td>\n",
       "      <td>53.6</td>\n",
       "      <td>53.4</td>\n",
       "      <td>57.6</td>\n",
       "      <td>55.4</td>\n",
       "      <td>48.2</td>\n",
       "      <td>18.65</td>\n",
       "      <td>48.48</td>\n",
       "      <td>26.94</td>\n",
       "    </tr>\n",
       "  </tbody>\n",
       "</table>\n",
       "</div>"
      ],
      "text/plain": [
       "                   model_name  cv_accuracy  cv_precision  cv_recall  cv_f1  \\\n",
       "0  GradientBoostingClassifier         85.1          98.4       71.6   75.1   \n",
       "1               XGBClassifier         86.4          93.6       77.6   78.0   \n",
       "2      RandomForestClassifier         88.7          96.8       80.1   83.5   \n",
       "3           BaggingClassifier         84.4          91.7       75.7   78.4   \n",
       "4          AdaBoostClassifier         77.1          78.2       69.4   71.1   \n",
       "5        KNeighborsClassifier         71.3          64.3       96.0   77.0   \n",
       "6        LogisticRegressionCV         53.5          53.2       57.9   55.4   \n",
       "7           RidgeClassifierCV         53.6          53.4       57.6   55.4   \n",
       "\n",
       "   test_accuracy  test_precision  test_recall  test_f1  \n",
       "0           83.5           80.77        21.32    33.73  \n",
       "1           81.0           54.43        21.83    31.16  \n",
       "2           79.3           30.77         4.06     7.17  \n",
       "3           77.4           30.14        11.17    16.30  \n",
       "4           72.9           19.92        12.44    15.31  \n",
       "5           49.9           18.66        45.94    26.54  \n",
       "6           48.3           18.69        48.48    26.98  \n",
       "7           48.2           18.65        48.48    26.94  "
      ]
     },
     "execution_count": 170,
     "metadata": {},
     "output_type": "execute_result"
    }
   ],
   "source": [
    "model_result_without_custom_idvs"
   ]
  },
  {
   "cell_type": "markdown",
   "id": "f0bbf263",
   "metadata": {},
   "source": [
    "Custom IDVs improve test performance slightly, especially for GradientBoosting and XGBoost.\n",
    "\n",
    "GradientBoostingClassifier remains the most reliable model in terms of consistent performance across CV and test.\n",
    "\n",
    "So lets select GradientBoostingClassifier algorithm."
   ]
  },
  {
   "cell_type": "markdown",
   "id": "34443476",
   "metadata": {},
   "source": [
    "### Evaluate the importance\n",
    "\n",
    "we are going to use XGB's Gain. It measures how much each feature improves the model’s accuracy when it's used in a split — making it a direct indicator of a feature’s contribution to performance.\n",
    "\n",
    "Unlike simple frequency-based importance, gain avoids bias toward features used early in trees, giving a more reliable ranking for feature selection."
   ]
  },
  {
   "cell_type": "code",
   "execution_count": 176,
   "id": "8cc9caba",
   "metadata": {},
   "outputs": [
    {
     "name": "stderr",
     "output_type": "stream",
     "text": [
      "/home/ubuntu/anaconda3/envs/fpd_env/lib/python3.8/site-packages/xgboost/sklearn.py:1224: UserWarning: The use of label encoder in XGBClassifier is deprecated and will be removed in a future release. To remove this warning, do the following: 1) Pass option use_label_encoder=False when constructing XGBClassifier object; and 2) Encode your labels (y) as integers starting with 0, i.e. 0, 1, 2, ..., [num_class - 1].\n",
      "  warnings.warn(label_encoder_deprecation_msg, UserWarning)\n"
     ]
    },
    {
     "name": "stdout",
     "output_type": "stream",
     "text": [
      "Test Accuracy: 0.8215\n",
      "\n",
      "Feature Importance (Gain)\n"
     ]
    },
    {
     "data": {
      "image/png": "[encoded data removed]",
      "text/plain": [
       "<Figure size 864x576 with 1 Axes>"
      ]
     },
     "metadata": {
      "needs_background": "light"
     },
     "output_type": "display_data"
    }
   ],
   "source": [
    "# Train the final model\n",
    "final_model = XGBClassifier(eval_metric='logloss')  # Optionally specify eval_metric\n",
    "final_model.fit(X_train_final, y_train)\n",
    "\n",
    "# Predictions\n",
    "train_pred = final_model.predict(X_train_final)\n",
    "test_pred = final_model.predict(X_test_final)\n",
    "\n",
    "# Test set accuracy\n",
    "test_accuracy = final_model.score(X_test_final, y_test)\n",
    "print(f\"Test Accuracy: {test_accuracy:.4f}\")\n",
    "\n",
    "# Feature Importance by Gain\n",
    "print(\"\\nFeature Importance (Gain)\")\n",
    "booster = final_model.get_booster()\n",
    "feature_important = booster.get_score(importance_type=\"gain\")\n",
    "\n",
    "# Convert to DataFrame\n",
    "importance_df = pd.DataFrame.from_dict(feature_important, orient='index', columns=['score'])\n",
    "importance_df.index.name = 'feature'\n",
    "importance_df.reset_index(inplace=True)\n",
    "importance_df = importance_df.sort_values(by='score', ascending=False)\n",
    "\n",
    "# Plot top 20 features\n",
    "top_n = X_train_final.shape[1]\n",
    "importance_df.head(top_n).plot(kind='barh', x='feature', y='score', figsize=(12, 8), legend=False)\n",
    "plt.title(f\"Top {top_n} Features by Gain\")\n",
    "plt.gca().invert_yaxis()\n",
    "plt.tight_layout()\n",
    "plt.show()\n"
   ]
  },
  {
   "cell_type": "code",
   "execution_count": 177,
   "id": "b8837478",
   "metadata": {},
   "outputs": [
    {
     "data": {
      "text/html": [
       "<div>\n",
       "<style scoped>\n",
       "    .dataframe tbody tr th:only-of-type {\n",
       "        vertical-align: middle;\n",
       "    }\n",
       "\n",
       "    .dataframe tbody tr th {\n",
       "        vertical-align: top;\n",
       "    }\n",
       "\n",
       "    .dataframe thead th {\n",
       "        text-align: right;\n",
       "    }\n",
       "</style>\n",
       "<table border=\"1\" class=\"dataframe\">\n",
       "  <thead>\n",
       "    <tr style=\"text-align: right;\">\n",
       "      <th></th>\n",
       "      <th>feature</th>\n",
       "      <th>score</th>\n",
       "    </tr>\n",
       "  </thead>\n",
       "  <tbody>\n",
       "    <tr>\n",
       "      <th>2</th>\n",
       "      <td>ComplaintCount</td>\n",
       "      <td>74.319435</td>\n",
       "    </tr>\n",
       "    <tr>\n",
       "      <th>23</th>\n",
       "      <td>MultiDeviceUser</td>\n",
       "      <td>63.586338</td>\n",
       "    </tr>\n",
       "    <tr>\n",
       "      <th>5</th>\n",
       "      <td>NumDevicesUsed</td>\n",
       "      <td>57.022884</td>\n",
       "    </tr>\n",
       "    <tr>\n",
       "      <th>28</th>\n",
       "      <td>LoyaltyRisk</td>\n",
       "      <td>37.382969</td>\n",
       "    </tr>\n",
       "    <tr>\n",
       "      <th>12</th>\n",
       "      <td>ReferredFriendsCount</td>\n",
       "      <td>28.278181</td>\n",
       "    </tr>\n",
       "    <tr>\n",
       "      <th>6</th>\n",
       "      <td>ContentPreferenceScore</td>\n",
       "      <td>11.550832</td>\n",
       "    </tr>\n",
       "    <tr>\n",
       "      <th>33</th>\n",
       "      <td>PlatformType_Mobile</td>\n",
       "      <td>11.387060</td>\n",
       "    </tr>\n",
       "    <tr>\n",
       "      <th>38</th>\n",
       "      <td>CustomerSegment_Loyal</td>\n",
       "      <td>10.898079</td>\n",
       "    </tr>\n",
       "    <tr>\n",
       "      <th>15</th>\n",
       "      <td>BingeWatchRatio_log</td>\n",
       "      <td>10.243587</td>\n",
       "    </tr>\n",
       "    <tr>\n",
       "      <th>29</th>\n",
       "      <td>Gender_Female</td>\n",
       "      <td>9.931295</td>\n",
       "    </tr>\n",
       "    <tr>\n",
       "      <th>13</th>\n",
       "      <td>SocialMediaMentions</td>\n",
       "      <td>7.690391</td>\n",
       "    </tr>\n",
       "    <tr>\n",
       "      <th>35</th>\n",
       "      <td>PlatformType_Web</td>\n",
       "      <td>6.369802</td>\n",
       "    </tr>\n",
       "    <tr>\n",
       "      <th>31</th>\n",
       "      <td>SubscriptionType_Premium</td>\n",
       "      <td>6.273976</td>\n",
       "    </tr>\n",
       "    <tr>\n",
       "      <th>36</th>\n",
       "      <td>CustomerSegment_At Risk</td>\n",
       "      <td>5.571458</td>\n",
       "    </tr>\n",
       "    <tr>\n",
       "      <th>8</th>\n",
       "      <td>SkippedContentCount</td>\n",
       "      <td>4.713010</td>\n",
       "    </tr>\n",
       "    <tr>\n",
       "      <th>34</th>\n",
       "      <td>PlatformType_TV</td>\n",
       "      <td>4.479286</td>\n",
       "    </tr>\n",
       "    <tr>\n",
       "      <th>32</th>\n",
       "      <td>SubscriptionType_Standard</td>\n",
       "      <td>4.085854</td>\n",
       "    </tr>\n",
       "    <tr>\n",
       "      <th>3</th>\n",
       "      <td>DaysSinceLastLogin</td>\n",
       "      <td>3.929306</td>\n",
       "    </tr>\n",
       "    <tr>\n",
       "      <th>4</th>\n",
       "      <td>AvgSessionDuration</td>\n",
       "      <td>3.537761</td>\n",
       "    </tr>\n",
       "    <tr>\n",
       "      <th>21</th>\n",
       "      <td>Rolling_Avg_ActiveDaysLastMonth</td>\n",
       "      <td>3.512786</td>\n",
       "    </tr>\n",
       "    <tr>\n",
       "      <th>22</th>\n",
       "      <td>Rolling_Avg_AdInteractionCount</td>\n",
       "      <td>3.453913</td>\n",
       "    </tr>\n",
       "    <tr>\n",
       "      <th>17</th>\n",
       "      <td>FrictionScore</td>\n",
       "      <td>3.404289</td>\n",
       "    </tr>\n",
       "    <tr>\n",
       "      <th>10</th>\n",
       "      <td>LoyaltyScore</td>\n",
       "      <td>3.386997</td>\n",
       "    </tr>\n",
       "    <tr>\n",
       "      <th>0</th>\n",
       "      <td>Age</td>\n",
       "      <td>3.385215</td>\n",
       "    </tr>\n",
       "    <tr>\n",
       "      <th>11</th>\n",
       "      <td>AdInteractionCount</td>\n",
       "      <td>3.332149</td>\n",
       "    </tr>\n",
       "    <tr>\n",
       "      <th>14</th>\n",
       "      <td>MonthlySpend_log</td>\n",
       "      <td>3.289062</td>\n",
       "    </tr>\n",
       "    <tr>\n",
       "      <th>16</th>\n",
       "      <td>EngagementIntensity</td>\n",
       "      <td>3.219728</td>\n",
       "    </tr>\n",
       "    <tr>\n",
       "      <th>25</th>\n",
       "      <td>SocialInfluenceScore</td>\n",
       "      <td>3.160347</td>\n",
       "    </tr>\n",
       "    <tr>\n",
       "      <th>7</th>\n",
       "      <td>ActiveDaysLastMonth</td>\n",
       "      <td>3.112183</td>\n",
       "    </tr>\n",
       "    <tr>\n",
       "      <th>26</th>\n",
       "      <td>SubscriptionType_MonthlySpend</td>\n",
       "      <td>3.103632</td>\n",
       "    </tr>\n",
       "    <tr>\n",
       "      <th>20</th>\n",
       "      <td>Rolling_Avg_SocialMediaMentions</td>\n",
       "      <td>3.049288</td>\n",
       "    </tr>\n",
       "    <tr>\n",
       "      <th>9</th>\n",
       "      <td>DiscountReceived</td>\n",
       "      <td>3.016609</td>\n",
       "    </tr>\n",
       "    <tr>\n",
       "      <th>18</th>\n",
       "      <td>ContentEngagementScore</td>\n",
       "      <td>2.997062</td>\n",
       "    </tr>\n",
       "    <tr>\n",
       "      <th>1</th>\n",
       "      <td>TotalWatchTime</td>\n",
       "      <td>2.945718</td>\n",
       "    </tr>\n",
       "    <tr>\n",
       "      <th>19</th>\n",
       "      <td>ChurnLikelihood</td>\n",
       "      <td>2.745472</td>\n",
       "    </tr>\n",
       "    <tr>\n",
       "      <th>27</th>\n",
       "      <td>Spend_Engagement</td>\n",
       "      <td>2.673208</td>\n",
       "    </tr>\n",
       "    <tr>\n",
       "      <th>24</th>\n",
       "      <td>RecencyEngagement</td>\n",
       "      <td>2.614896</td>\n",
       "    </tr>\n",
       "    <tr>\n",
       "      <th>30</th>\n",
       "      <td>SubscriptionType_Basic</td>\n",
       "      <td>1.992320</td>\n",
       "    </tr>\n",
       "    <tr>\n",
       "      <th>37</th>\n",
       "      <td>CustomerSegment_Frustrated</td>\n",
       "      <td>1.569192</td>\n",
       "    </tr>\n",
       "  </tbody>\n",
       "</table>\n",
       "</div>"
      ],
      "text/plain": [
       "                            feature      score\n",
       "2                    ComplaintCount  74.319435\n",
       "23                  MultiDeviceUser  63.586338\n",
       "5                    NumDevicesUsed  57.022884\n",
       "28                      LoyaltyRisk  37.382969\n",
       "12             ReferredFriendsCount  28.278181\n",
       "6            ContentPreferenceScore  11.550832\n",
       "33              PlatformType_Mobile  11.387060\n",
       "38            CustomerSegment_Loyal  10.898079\n",
       "15              BingeWatchRatio_log  10.243587\n",
       "29                    Gender_Female   9.931295\n",
       "13              SocialMediaMentions   7.690391\n",
       "35                 PlatformType_Web   6.369802\n",
       "31         SubscriptionType_Premium   6.273976\n",
       "36          CustomerSegment_At Risk   5.571458\n",
       "8               SkippedContentCount   4.713010\n",
       "34                  PlatformType_TV   4.479286\n",
       "32        SubscriptionType_Standard   4.085854\n",
       "3                DaysSinceLastLogin   3.929306\n",
       "4                AvgSessionDuration   3.537761\n",
       "21  Rolling_Avg_ActiveDaysLastMonth   3.512786\n",
       "22   Rolling_Avg_AdInteractionCount   3.453913\n",
       "17                    FrictionScore   3.404289\n",
       "10                     LoyaltyScore   3.386997\n",
       "0                               Age   3.385215\n",
       "11               AdInteractionCount   3.332149\n",
       "14                 MonthlySpend_log   3.289062\n",
       "16              EngagementIntensity   3.219728\n",
       "25             SocialInfluenceScore   3.160347\n",
       "7               ActiveDaysLastMonth   3.112183\n",
       "26    SubscriptionType_MonthlySpend   3.103632\n",
       "20  Rolling_Avg_SocialMediaMentions   3.049288\n",
       "9                  DiscountReceived   3.016609\n",
       "18           ContentEngagementScore   2.997062\n",
       "1                    TotalWatchTime   2.945718\n",
       "19                  ChurnLikelihood   2.745472\n",
       "27                 Spend_Engagement   2.673208\n",
       "24                RecencyEngagement   2.614896\n",
       "30           SubscriptionType_Basic   1.992320\n",
       "37       CustomerSegment_Frustrated   1.569192"
      ]
     },
     "execution_count": 177,
     "metadata": {},
     "output_type": "execute_result"
    }
   ],
   "source": [
    "importance_df"
   ]
  },
  {
   "cell_type": "markdown",
   "id": "7bc0ccdb",
   "metadata": {},
   "source": [
    "Usually, we can simply drop features with gain less than 2. But I prefer dropping them one by one from the least important to see how the model performs — that would be a more solid approach, especially since we have only 41 features."
   ]
  },
  {
   "cell_type": "code",
   "execution_count": 181,
   "id": "a4b9725d",
   "metadata": {},
   "outputs": [
    {
     "name": "stderr",
     "output_type": "stream",
     "text": [
      "/home/ubuntu/anaconda3/envs/fpd_env/lib/python3.8/site-packages/sklearn/metrics/_classification.py:1318: UndefinedMetricWarning: Precision is ill-defined and being set to 0.0 due to no predicted samples. Use `zero_division` parameter to control this behavior.\n",
      "  _warn_prf(average, modifier, msg_start, len(result))\n",
      "/home/ubuntu/anaconda3/envs/fpd_env/lib/python3.8/site-packages/sklearn/metrics/_classification.py:1318: UndefinedMetricWarning: Precision is ill-defined and being set to 0.0 due to no predicted samples. Use `zero_division` parameter to control this behavior.\n",
      "  _warn_prf(average, modifier, msg_start, len(result))\n",
      "/home/ubuntu/anaconda3/envs/fpd_env/lib/python3.8/site-packages/sklearn/metrics/_classification.py:1318: UndefinedMetricWarning: Precision is ill-defined and being set to 0.0 due to no predicted samples. Use `zero_division` parameter to control this behavior.\n",
      "  _warn_prf(average, modifier, msg_start, len(result))\n",
      "/home/ubuntu/anaconda3/envs/fpd_env/lib/python3.8/site-packages/sklearn/metrics/_classification.py:1318: UndefinedMetricWarning: Precision is ill-defined and being set to 0.0 due to no predicted samples. Use `zero_division` parameter to control this behavior.\n",
      "  _warn_prf(average, modifier, msg_start, len(result))\n",
      "/home/ubuntu/anaconda3/envs/fpd_env/lib/python3.8/site-packages/sklearn/metrics/_classification.py:1318: UndefinedMetricWarning: Precision is ill-defined and being set to 0.0 due to no predicted samples. Use `zero_division` parameter to control this behavior.\n",
      "  _warn_prf(average, modifier, msg_start, len(result))\n"
     ]
    }
   ],
   "source": [
    "features_sorted = importance_df.sort_values(by='score', ascending=False)\n",
    "features_sorted = features_sorted['feature'].tolist()\n",
    "results = []\n",
    "\n",
    "for i in range(len(features_sorted), 0, -1):\n",
    "    selected_features = features_sorted[:i]\n",
    "    \n",
    "    X_train_sel = X_train_final[selected_features]\n",
    "    X_test_sel = X_test_final[selected_features]\n",
    "    \n",
    "    model = GradientBoostingClassifier()\n",
    "    model.fit(X_train_sel, y_train)\n",
    "    y_pred = model.predict(X_test_sel)\n",
    "    \n",
    "    results.append({\n",
    "        'num_features': i,\n",
    "        'features_dropped':selected_features,\n",
    "        'accuracy': accuracy_score(y_test, y_pred),\n",
    "        'precision': precision_score(y_test, y_pred),\n",
    "        'recall': recall_score(y_test, y_pred),\n",
    "        'f1': f1_score(y_test, y_pred)\n",
    "    })\n",
    "\n",
    "results_df = pd.DataFrame(results)\n"
   ]
  },
  {
   "cell_type": "code",
   "execution_count": 183,
   "id": "84982305",
   "metadata": {},
   "outputs": [
    {
     "data": {
      "text/html": [
       "<div>\n",
       "<style scoped>\n",
       "    .dataframe tbody tr th:only-of-type {\n",
       "        vertical-align: middle;\n",
       "    }\n",
       "\n",
       "    .dataframe tbody tr th {\n",
       "        vertical-align: top;\n",
       "    }\n",
       "\n",
       "    .dataframe thead th {\n",
       "        text-align: right;\n",
       "    }\n",
       "</style>\n",
       "<table border=\"1\" class=\"dataframe\">\n",
       "  <thead>\n",
       "    <tr style=\"text-align: right;\">\n",
       "      <th></th>\n",
       "      <th>num_features</th>\n",
       "      <th>features_dropped</th>\n",
       "      <th>accuracy</th>\n",
       "      <th>precision</th>\n",
       "      <th>recall</th>\n",
       "      <th>f1</th>\n",
       "    </tr>\n",
       "  </thead>\n",
       "  <tbody>\n",
       "    <tr>\n",
       "      <th>29</th>\n",
       "      <td>10</td>\n",
       "      <td>[ComplaintCount, MultiDeviceUser, NumDevicesUs...</td>\n",
       "      <td>0.8395</td>\n",
       "      <td>0.841121</td>\n",
       "      <td>0.228426</td>\n",
       "      <td>0.359281</td>\n",
       "    </tr>\n",
       "    <tr>\n",
       "      <th>30</th>\n",
       "      <td>9</td>\n",
       "      <td>[ComplaintCount, MultiDeviceUser, NumDevicesUs...</td>\n",
       "      <td>0.8395</td>\n",
       "      <td>0.847619</td>\n",
       "      <td>0.225888</td>\n",
       "      <td>0.356713</td>\n",
       "    </tr>\n",
       "    <tr>\n",
       "      <th>27</th>\n",
       "      <td>12</td>\n",
       "      <td>[ComplaintCount, MultiDeviceUser, NumDevicesUs...</td>\n",
       "      <td>0.8390</td>\n",
       "      <td>0.839623</td>\n",
       "      <td>0.225888</td>\n",
       "      <td>0.356000</td>\n",
       "    </tr>\n",
       "    <tr>\n",
       "      <th>5</th>\n",
       "      <td>34</td>\n",
       "      <td>[ComplaintCount, MultiDeviceUser, NumDevicesUs...</td>\n",
       "      <td>0.8375</td>\n",
       "      <td>0.834951</td>\n",
       "      <td>0.218274</td>\n",
       "      <td>0.346076</td>\n",
       "    </tr>\n",
       "    <tr>\n",
       "      <th>25</th>\n",
       "      <td>14</td>\n",
       "      <td>[ComplaintCount, MultiDeviceUser, NumDevicesUs...</td>\n",
       "      <td>0.8370</td>\n",
       "      <td>0.833333</td>\n",
       "      <td>0.215736</td>\n",
       "      <td>0.342742</td>\n",
       "    </tr>\n",
       "    <tr>\n",
       "      <th>14</th>\n",
       "      <td>25</td>\n",
       "      <td>[ComplaintCount, MultiDeviceUser, NumDevicesUs...</td>\n",
       "      <td>0.8380</td>\n",
       "      <td>0.857143</td>\n",
       "      <td>0.213198</td>\n",
       "      <td>0.341463</td>\n",
       "    </tr>\n",
       "    <tr>\n",
       "      <th>18</th>\n",
       "      <td>21</td>\n",
       "      <td>[ComplaintCount, MultiDeviceUser, NumDevicesUs...</td>\n",
       "      <td>0.8375</td>\n",
       "      <td>0.848485</td>\n",
       "      <td>0.213198</td>\n",
       "      <td>0.340771</td>\n",
       "    </tr>\n",
       "    <tr>\n",
       "      <th>1</th>\n",
       "      <td>38</td>\n",
       "      <td>[ComplaintCount, MultiDeviceUser, NumDevicesUs...</td>\n",
       "      <td>0.8370</td>\n",
       "      <td>0.840000</td>\n",
       "      <td>0.213198</td>\n",
       "      <td>0.340081</td>\n",
       "    </tr>\n",
       "    <tr>\n",
       "      <th>0</th>\n",
       "      <td>39</td>\n",
       "      <td>[ComplaintCount, MultiDeviceUser, NumDevicesUs...</td>\n",
       "      <td>0.8370</td>\n",
       "      <td>0.840000</td>\n",
       "      <td>0.213198</td>\n",
       "      <td>0.340081</td>\n",
       "    </tr>\n",
       "    <tr>\n",
       "      <th>2</th>\n",
       "      <td>37</td>\n",
       "      <td>[ComplaintCount, MultiDeviceUser, NumDevicesUs...</td>\n",
       "      <td>0.8370</td>\n",
       "      <td>0.840000</td>\n",
       "      <td>0.213198</td>\n",
       "      <td>0.340081</td>\n",
       "    </tr>\n",
       "    <tr>\n",
       "      <th>6</th>\n",
       "      <td>33</td>\n",
       "      <td>[ComplaintCount, MultiDeviceUser, NumDevicesUs...</td>\n",
       "      <td>0.8365</td>\n",
       "      <td>0.831683</td>\n",
       "      <td>0.213198</td>\n",
       "      <td>0.339394</td>\n",
       "    </tr>\n",
       "    <tr>\n",
       "      <th>28</th>\n",
       "      <td>11</td>\n",
       "      <td>[ComplaintCount, MultiDeviceUser, NumDevicesUs...</td>\n",
       "      <td>0.8360</td>\n",
       "      <td>0.823529</td>\n",
       "      <td>0.213198</td>\n",
       "      <td>0.338710</td>\n",
       "    </tr>\n",
       "    <tr>\n",
       "      <th>7</th>\n",
       "      <td>32</td>\n",
       "      <td>[ComplaintCount, MultiDeviceUser, NumDevicesUs...</td>\n",
       "      <td>0.8370</td>\n",
       "      <td>0.846939</td>\n",
       "      <td>0.210660</td>\n",
       "      <td>0.337398</td>\n",
       "    </tr>\n",
       "    <tr>\n",
       "      <th>21</th>\n",
       "      <td>18</td>\n",
       "      <td>[ComplaintCount, MultiDeviceUser, NumDevicesUs...</td>\n",
       "      <td>0.8365</td>\n",
       "      <td>0.838384</td>\n",
       "      <td>0.210660</td>\n",
       "      <td>0.336714</td>\n",
       "    </tr>\n",
       "    <tr>\n",
       "      <th>3</th>\n",
       "      <td>36</td>\n",
       "      <td>[ComplaintCount, MultiDeviceUser, NumDevicesUs...</td>\n",
       "      <td>0.8360</td>\n",
       "      <td>0.830000</td>\n",
       "      <td>0.210660</td>\n",
       "      <td>0.336032</td>\n",
       "    </tr>\n",
       "    <tr>\n",
       "      <th>26</th>\n",
       "      <td>13</td>\n",
       "      <td>[ComplaintCount, MultiDeviceUser, NumDevicesUs...</td>\n",
       "      <td>0.8350</td>\n",
       "      <td>0.813725</td>\n",
       "      <td>0.210660</td>\n",
       "      <td>0.334677</td>\n",
       "    </tr>\n",
       "    <tr>\n",
       "      <th>22</th>\n",
       "      <td>17</td>\n",
       "      <td>[ComplaintCount, MultiDeviceUser, NumDevicesUs...</td>\n",
       "      <td>0.8360</td>\n",
       "      <td>0.836735</td>\n",
       "      <td>0.208122</td>\n",
       "      <td>0.333333</td>\n",
       "    </tr>\n",
       "    <tr>\n",
       "      <th>15</th>\n",
       "      <td>24</td>\n",
       "      <td>[ComplaintCount, MultiDeviceUser, NumDevicesUs...</td>\n",
       "      <td>0.8360</td>\n",
       "      <td>0.836735</td>\n",
       "      <td>0.208122</td>\n",
       "      <td>0.333333</td>\n",
       "    </tr>\n",
       "    <tr>\n",
       "      <th>17</th>\n",
       "      <td>22</td>\n",
       "      <td>[ComplaintCount, MultiDeviceUser, NumDevicesUs...</td>\n",
       "      <td>0.8340</td>\n",
       "      <td>0.803922</td>\n",
       "      <td>0.208122</td>\n",
       "      <td>0.330645</td>\n",
       "    </tr>\n",
       "    <tr>\n",
       "      <th>19</th>\n",
       "      <td>20</td>\n",
       "      <td>[ComplaintCount, MultiDeviceUser, NumDevicesUs...</td>\n",
       "      <td>0.8360</td>\n",
       "      <td>0.843750</td>\n",
       "      <td>0.205584</td>\n",
       "      <td>0.330612</td>\n",
       "    </tr>\n",
       "    <tr>\n",
       "      <th>23</th>\n",
       "      <td>16</td>\n",
       "      <td>[ComplaintCount, MultiDeviceUser, NumDevicesUs...</td>\n",
       "      <td>0.8355</td>\n",
       "      <td>0.835052</td>\n",
       "      <td>0.205584</td>\n",
       "      <td>0.329939</td>\n",
       "    </tr>\n",
       "    <tr>\n",
       "      <th>9</th>\n",
       "      <td>30</td>\n",
       "      <td>[ComplaintCount, MultiDeviceUser, NumDevicesUs...</td>\n",
       "      <td>0.8355</td>\n",
       "      <td>0.835052</td>\n",
       "      <td>0.205584</td>\n",
       "      <td>0.329939</td>\n",
       "    </tr>\n",
       "    <tr>\n",
       "      <th>10</th>\n",
       "      <td>29</td>\n",
       "      <td>[ComplaintCount, MultiDeviceUser, NumDevicesUs...</td>\n",
       "      <td>0.8350</td>\n",
       "      <td>0.826531</td>\n",
       "      <td>0.205584</td>\n",
       "      <td>0.329268</td>\n",
       "    </tr>\n",
       "    <tr>\n",
       "      <th>12</th>\n",
       "      <td>27</td>\n",
       "      <td>[ComplaintCount, MultiDeviceUser, NumDevicesUs...</td>\n",
       "      <td>0.8340</td>\n",
       "      <td>0.816327</td>\n",
       "      <td>0.203046</td>\n",
       "      <td>0.325203</td>\n",
       "    </tr>\n",
       "    <tr>\n",
       "      <th>11</th>\n",
       "      <td>28</td>\n",
       "      <td>[ComplaintCount, MultiDeviceUser, NumDevicesUs...</td>\n",
       "      <td>0.8340</td>\n",
       "      <td>0.816327</td>\n",
       "      <td>0.203046</td>\n",
       "      <td>0.325203</td>\n",
       "    </tr>\n",
       "    <tr>\n",
       "      <th>4</th>\n",
       "      <td>35</td>\n",
       "      <td>[ComplaintCount, MultiDeviceUser, NumDevicesUs...</td>\n",
       "      <td>0.8345</td>\n",
       "      <td>0.831579</td>\n",
       "      <td>0.200508</td>\n",
       "      <td>0.323108</td>\n",
       "    </tr>\n",
       "    <tr>\n",
       "      <th>13</th>\n",
       "      <td>26</td>\n",
       "      <td>[ComplaintCount, MultiDeviceUser, NumDevicesUs...</td>\n",
       "      <td>0.8340</td>\n",
       "      <td>0.822917</td>\n",
       "      <td>0.200508</td>\n",
       "      <td>0.322449</td>\n",
       "    </tr>\n",
       "    <tr>\n",
       "      <th>24</th>\n",
       "      <td>15</td>\n",
       "      <td>[ComplaintCount, MultiDeviceUser, NumDevicesUs...</td>\n",
       "      <td>0.8340</td>\n",
       "      <td>0.822917</td>\n",
       "      <td>0.200508</td>\n",
       "      <td>0.322449</td>\n",
       "    </tr>\n",
       "    <tr>\n",
       "      <th>20</th>\n",
       "      <td>19</td>\n",
       "      <td>[ComplaintCount, MultiDeviceUser, NumDevicesUs...</td>\n",
       "      <td>0.8335</td>\n",
       "      <td>0.827957</td>\n",
       "      <td>0.195431</td>\n",
       "      <td>0.316222</td>\n",
       "    </tr>\n",
       "    <tr>\n",
       "      <th>16</th>\n",
       "      <td>23</td>\n",
       "      <td>[ComplaintCount, MultiDeviceUser, NumDevicesUs...</td>\n",
       "      <td>0.8335</td>\n",
       "      <td>0.827957</td>\n",
       "      <td>0.195431</td>\n",
       "      <td>0.316222</td>\n",
       "    </tr>\n",
       "    <tr>\n",
       "      <th>8</th>\n",
       "      <td>31</td>\n",
       "      <td>[ComplaintCount, MultiDeviceUser, NumDevicesUs...</td>\n",
       "      <td>0.8320</td>\n",
       "      <td>0.822222</td>\n",
       "      <td>0.187817</td>\n",
       "      <td>0.305785</td>\n",
       "    </tr>\n",
       "    <tr>\n",
       "      <th>32</th>\n",
       "      <td>7</td>\n",
       "      <td>[ComplaintCount, MultiDeviceUser, NumDevicesUs...</td>\n",
       "      <td>0.8175</td>\n",
       "      <td>0.710145</td>\n",
       "      <td>0.124365</td>\n",
       "      <td>0.211663</td>\n",
       "    </tr>\n",
       "    <tr>\n",
       "      <th>31</th>\n",
       "      <td>8</td>\n",
       "      <td>[ComplaintCount, MultiDeviceUser, NumDevicesUs...</td>\n",
       "      <td>0.8170</td>\n",
       "      <td>0.705882</td>\n",
       "      <td>0.121827</td>\n",
       "      <td>0.207792</td>\n",
       "    </tr>\n",
       "    <tr>\n",
       "      <th>33</th>\n",
       "      <td>6</td>\n",
       "      <td>[ComplaintCount, MultiDeviceUser, NumDevicesUs...</td>\n",
       "      <td>0.8170</td>\n",
       "      <td>0.705882</td>\n",
       "      <td>0.121827</td>\n",
       "      <td>0.207792</td>\n",
       "    </tr>\n",
       "    <tr>\n",
       "      <th>34</th>\n",
       "      <td>5</td>\n",
       "      <td>[ComplaintCount, MultiDeviceUser, NumDevicesUs...</td>\n",
       "      <td>0.8030</td>\n",
       "      <td>0.000000</td>\n",
       "      <td>0.000000</td>\n",
       "      <td>0.000000</td>\n",
       "    </tr>\n",
       "    <tr>\n",
       "      <th>35</th>\n",
       "      <td>4</td>\n",
       "      <td>[ComplaintCount, MultiDeviceUser, NumDevicesUs...</td>\n",
       "      <td>0.8030</td>\n",
       "      <td>0.000000</td>\n",
       "      <td>0.000000</td>\n",
       "      <td>0.000000</td>\n",
       "    </tr>\n",
       "    <tr>\n",
       "      <th>36</th>\n",
       "      <td>3</td>\n",
       "      <td>[ComplaintCount, MultiDeviceUser, NumDevicesUsed]</td>\n",
       "      <td>0.8030</td>\n",
       "      <td>0.000000</td>\n",
       "      <td>0.000000</td>\n",
       "      <td>0.000000</td>\n",
       "    </tr>\n",
       "    <tr>\n",
       "      <th>37</th>\n",
       "      <td>2</td>\n",
       "      <td>[ComplaintCount, MultiDeviceUser]</td>\n",
       "      <td>0.8030</td>\n",
       "      <td>0.000000</td>\n",
       "      <td>0.000000</td>\n",
       "      <td>0.000000</td>\n",
       "    </tr>\n",
       "    <tr>\n",
       "      <th>38</th>\n",
       "      <td>1</td>\n",
       "      <td>[ComplaintCount]</td>\n",
       "      <td>0.8030</td>\n",
       "      <td>0.000000</td>\n",
       "      <td>0.000000</td>\n",
       "      <td>0.000000</td>\n",
       "    </tr>\n",
       "  </tbody>\n",
       "</table>\n",
       "</div>"
      ],
      "text/plain": [
       "    num_features                                   features_dropped  accuracy  \\\n",
       "29            10  [ComplaintCount, MultiDeviceUser, NumDevicesUs...    0.8395   \n",
       "30             9  [ComplaintCount, MultiDeviceUser, NumDevicesUs...    0.8395   \n",
       "27            12  [ComplaintCount, MultiDeviceUser, NumDevicesUs...    0.8390   \n",
       "5             34  [ComplaintCount, MultiDeviceUser, NumDevicesUs...    0.8375   \n",
       "25            14  [ComplaintCount, MultiDeviceUser, NumDevicesUs...    0.8370   \n",
       "14            25  [ComplaintCount, MultiDeviceUser, NumDevicesUs...    0.8380   \n",
       "18            21  [ComplaintCount, MultiDeviceUser, NumDevicesUs...    0.8375   \n",
       "1             38  [ComplaintCount, MultiDeviceUser, NumDevicesUs...    0.8370   \n",
       "0             39  [ComplaintCount, MultiDeviceUser, NumDevicesUs...    0.8370   \n",
       "2             37  [ComplaintCount, MultiDeviceUser, NumDevicesUs...    0.8370   \n",
       "6             33  [ComplaintCount, MultiDeviceUser, NumDevicesUs...    0.8365   \n",
       "28            11  [ComplaintCount, MultiDeviceUser, NumDevicesUs...    0.8360   \n",
       "7             32  [ComplaintCount, MultiDeviceUser, NumDevicesUs...    0.8370   \n",
       "21            18  [ComplaintCount, MultiDeviceUser, NumDevicesUs...    0.8365   \n",
       "3             36  [ComplaintCount, MultiDeviceUser, NumDevicesUs...    0.8360   \n",
       "26            13  [ComplaintCount, MultiDeviceUser, NumDevicesUs...    0.8350   \n",
       "22            17  [ComplaintCount, MultiDeviceUser, NumDevicesUs...    0.8360   \n",
       "15            24  [ComplaintCount, MultiDeviceUser, NumDevicesUs...    0.8360   \n",
       "17            22  [ComplaintCount, MultiDeviceUser, NumDevicesUs...    0.8340   \n",
       "19            20  [ComplaintCount, MultiDeviceUser, NumDevicesUs...    0.8360   \n",
       "23            16  [ComplaintCount, MultiDeviceUser, NumDevicesUs...    0.8355   \n",
       "9             30  [ComplaintCount, MultiDeviceUser, NumDevicesUs...    0.8355   \n",
       "10            29  [ComplaintCount, MultiDeviceUser, NumDevicesUs...    0.8350   \n",
       "12            27  [ComplaintCount, MultiDeviceUser, NumDevicesUs...    0.8340   \n",
       "11            28  [ComplaintCount, MultiDeviceUser, NumDevicesUs...    0.8340   \n",
       "4             35  [ComplaintCount, MultiDeviceUser, NumDevicesUs...    0.8345   \n",
       "13            26  [ComplaintCount, MultiDeviceUser, NumDevicesUs...    0.8340   \n",
       "24            15  [ComplaintCount, MultiDeviceUser, NumDevicesUs...    0.8340   \n",
       "20            19  [ComplaintCount, MultiDeviceUser, NumDevicesUs...    0.8335   \n",
       "16            23  [ComplaintCount, MultiDeviceUser, NumDevicesUs...    0.8335   \n",
       "8             31  [ComplaintCount, MultiDeviceUser, NumDevicesUs...    0.8320   \n",
       "32             7  [ComplaintCount, MultiDeviceUser, NumDevicesUs...    0.8175   \n",
       "31             8  [ComplaintCount, MultiDeviceUser, NumDevicesUs...    0.8170   \n",
       "33             6  [ComplaintCount, MultiDeviceUser, NumDevicesUs...    0.8170   \n",
       "34             5  [ComplaintCount, MultiDeviceUser, NumDevicesUs...    0.8030   \n",
       "35             4  [ComplaintCount, MultiDeviceUser, NumDevicesUs...    0.8030   \n",
       "36             3  [ComplaintCount, MultiDeviceUser, NumDevicesUsed]    0.8030   \n",
       "37             2                  [ComplaintCount, MultiDeviceUser]    0.8030   \n",
       "38             1                                   [ComplaintCount]    0.8030   \n",
       "\n",
       "    precision    recall        f1  \n",
       "29   0.841121  0.228426  0.359281  \n",
       "30   0.847619  0.225888  0.356713  \n",
       "27   0.839623  0.225888  0.356000  \n",
       "5    0.834951  0.218274  0.346076  \n",
       "25   0.833333  0.215736  0.342742  \n",
       "14   0.857143  0.213198  0.341463  \n",
       "18   0.848485  0.213198  0.340771  \n",
       "1    0.840000  0.213198  0.340081  \n",
       "0    0.840000  0.213198  0.340081  \n",
       "2    0.840000  0.213198  0.340081  \n",
       "6    0.831683  0.213198  0.339394  \n",
       "28   0.823529  0.213198  0.338710  \n",
       "7    0.846939  0.210660  0.337398  \n",
       "21   0.838384  0.210660  0.336714  \n",
       "3    0.830000  0.210660  0.336032  \n",
       "26   0.813725  0.210660  0.334677  \n",
       "22   0.836735  0.208122  0.333333  \n",
       "15   0.836735  0.208122  0.333333  \n",
       "17   0.803922  0.208122  0.330645  \n",
       "19   0.843750  0.205584  0.330612  \n",
       "23   0.835052  0.205584  0.329939  \n",
       "9    0.835052  0.205584  0.329939  \n",
       "10   0.826531  0.205584  0.329268  \n",
       "12   0.816327  0.203046  0.325203  \n",
       "11   0.816327  0.203046  0.325203  \n",
       "4    0.831579  0.200508  0.323108  \n",
       "13   0.822917  0.200508  0.322449  \n",
       "24   0.822917  0.200508  0.322449  \n",
       "20   0.827957  0.195431  0.316222  \n",
       "16   0.827957  0.195431  0.316222  \n",
       "8    0.822222  0.187817  0.305785  \n",
       "32   0.710145  0.124365  0.211663  \n",
       "31   0.705882  0.121827  0.207792  \n",
       "33   0.705882  0.121827  0.207792  \n",
       "34   0.000000  0.000000  0.000000  \n",
       "35   0.000000  0.000000  0.000000  \n",
       "36   0.000000  0.000000  0.000000  \n",
       "37   0.000000  0.000000  0.000000  \n",
       "38   0.000000  0.000000  0.000000  "
      ]
     },
     "execution_count": 183,
     "metadata": {},
     "output_type": "execute_result"
    }
   ],
   "source": [
    "results_df.sort_values(by='f1',ascending=False)"
   ]
  },
  {
   "cell_type": "code",
   "execution_count": 185,
   "id": "e8ed1a2d",
   "metadata": {},
   "outputs": [],
   "source": [
    "results_df_1 = results_df[results_df['num_features']==10]"
   ]
  },
  {
   "cell_type": "code",
   "execution_count": 188,
   "id": "9243f7df",
   "metadata": {},
   "outputs": [
    {
     "data": {
      "text/plain": [
       "array([list(['ComplaintCount', 'MultiDeviceUser', 'NumDevicesUsed', 'LoyaltyRisk', 'ReferredFriendsCount', 'ContentPreferenceScore', 'PlatformType_Mobile', 'CustomerSegment_Loyal', 'BingeWatchRatio_log', 'Gender_Female'])],\n",
       "      dtype=object)"
      ]
     },
     "execution_count": 188,
     "metadata": {},
     "output_type": "execute_result"
    }
   ],
   "source": [
    "results_df_1['features_dropped'].values"
   ]
  },
  {
   "cell_type": "code",
   "execution_count": 191,
   "id": "05e897ad",
   "metadata": {},
   "outputs": [],
   "source": [
    "results = {}\n",
    "X_train_sel = X_train_final\n",
    "X_test_sel = X_test_final\n",
    "    \n",
    "model = GradientBoostingClassifier()\n",
    "model.fit(X_train_sel, y_train)\n",
    "y_pred = model.predict(X_test_sel)\n",
    "results ={\n",
    "        'accuracy': accuracy_score(y_test, y_pred),\n",
    "        'precision': precision_score(y_test, y_pred),\n",
    "        'recall': recall_score(y_test, y_pred),\n",
    "        'f1': f1_score(y_test, y_pred)\n",
    "    }\n"
   ]
  },
  {
   "cell_type": "code",
   "execution_count": 192,
   "id": "1566d2f5",
   "metadata": {},
   "outputs": [
    {
     "data": {
      "text/plain": [
       "{'accuracy': 0.837,\n",
       " 'precision': 0.84,\n",
       " 'recall': 0.2131979695431472,\n",
       " 'f1': 0.340080971659919}"
      ]
     },
     "execution_count": 192,
     "metadata": {},
     "output_type": "execute_result"
    }
   ],
   "source": [
    "results"
   ]
  },
  {
   "cell_type": "code",
   "execution_count": 193,
   "id": "f1e2e20e",
   "metadata": {},
   "outputs": [],
   "source": [
    "results = {}\n",
    "X_train_sel = X_train_final[['ComplaintCount', 'MultiDeviceUser', 'NumDevicesUsed', 'LoyaltyRisk', 'ReferredFriendsCount', 'ContentPreferenceScore', 'PlatformType_Mobile', 'CustomerSegment_Loyal', 'BingeWatchRatio_log', 'Gender_Female']]\n",
    "X_test_sel = X_test_final[['ComplaintCount', 'MultiDeviceUser', 'NumDevicesUsed', 'LoyaltyRisk', 'ReferredFriendsCount', 'ContentPreferenceScore', 'PlatformType_Mobile', 'CustomerSegment_Loyal', 'BingeWatchRatio_log', 'Gender_Female']]\n",
    "    \n",
    "model = GradientBoostingClassifier()\n",
    "model.fit(X_train_sel, y_train)\n",
    "y_pred = model.predict(X_test_sel)\n",
    "results ={\n",
    "        'accuracy': accuracy_score(y_test, y_pred),\n",
    "        'precision': precision_score(y_test, y_pred),\n",
    "        'recall': recall_score(y_test, y_pred),\n",
    "        'f1': f1_score(y_test, y_pred)\n",
    "    }\n"
   ]
  },
  {
   "cell_type": "code",
   "execution_count": 194,
   "id": "2ad44184",
   "metadata": {},
   "outputs": [
    {
     "data": {
      "text/plain": [
       "{'accuracy': 0.8395,\n",
       " 'precision': 0.8411214953271028,\n",
       " 'recall': 0.22842639593908629,\n",
       " 'f1': 0.3592814371257485}"
      ]
     },
     "execution_count": 194,
     "metadata": {},
     "output_type": "execute_result"
    }
   ],
   "source": [
    "results"
   ]
  },
  {
   "cell_type": "markdown",
   "id": "56b71857",
   "metadata": {},
   "source": [
    "### Create Simpler models with less but more important features\n",
    "\n",
    "So Now with these 10 features we could Gain similar performance. So i will stick with these.\n",
    "\n",
    "ComplaintCount\n",
    "\n",
    "MultiDeviceUser\n",
    "\n",
    "NumDevicesUsed\n",
    "\n",
    "LoyaltyRisk\n",
    "\n",
    "ReferredFriendsCount\n",
    "\n",
    "ContentPreferenceScore\n",
    "\n",
    "PlatformType_Mobile\n",
    "\n",
    "CustomerSegment_Loyal\n",
    "\n",
    "BingeWatchRatio_log\n",
    "\n",
    "Gender"
   ]
  },
  {
   "cell_type": "code",
   "execution_count": 196,
   "id": "ac45c3df",
   "metadata": {},
   "outputs": [
    {
     "name": "stdout",
     "output_type": "stream",
     "text": [
      "0.8395\n",
      "0.8411214953271028\n",
      "0.22842639593908629\n",
      "0.3592814371257485\n"
     ]
    }
   ],
   "source": [
    "X_train_sel = X_train_final[['ComplaintCount', 'MultiDeviceUser', 'NumDevicesUsed', 'LoyaltyRisk', 'ReferredFriendsCount', 'ContentPreferenceScore', 'PlatformType_Mobile', 'CustomerSegment_Loyal', 'BingeWatchRatio_log', 'Gender_Female']]\n",
    "X_test_sel = X_test_final[['ComplaintCount', 'MultiDeviceUser', 'NumDevicesUsed', 'LoyaltyRisk', 'ReferredFriendsCount', 'ContentPreferenceScore', 'PlatformType_Mobile', 'CustomerSegment_Loyal', 'BingeWatchRatio_log', 'Gender_Female']]\n",
    "    \n",
    "final_model = GradientBoostingClassifier()\n",
    "final_model.fit(X_train_sel, y_train)\n",
    "y_pred = final_model.predict(X_test_sel)\n",
    "\n",
    "print(accuracy_score(y_test, y_pred))\n",
    "print(precision_score(y_test, y_pred))\n",
    "print(recall_score(y_test, y_pred))\n",
    "print(f1_score(y_test, y_pred))\n"
   ]
  },
  {
   "cell_type": "code",
   "execution_count": 198,
   "id": "58d172bd",
   "metadata": {},
   "outputs": [
    {
     "data": {
      "image/png": "[encoded data removed]",
      "text/plain": [
       "<Figure size 432x288 with 2 Axes>"
      ]
     },
     "metadata": {
      "needs_background": "light"
     },
     "output_type": "display_data"
    }
   ],
   "source": [
    "from sklearn.metrics import confusion_matrix, ConfusionMatrixDisplay\n",
    "# Confusion Matrix\n",
    "cm = confusion_matrix(y_test, y_pred, labels=final_model.classes_)\n",
    "disp = ConfusionMatrixDisplay(confusion_matrix=cm, display_labels=final_model.classes_)\n",
    "disp.plot()\n",
    "plt.title('Confusion Matrix of GradientBoostingClassifier')\n",
    "plt.show()"
   ]
  },
  {
   "cell_type": "markdown",
   "id": "5516804c",
   "metadata": {},
   "source": [
    "This looks good because the diagonal has high value of this matrix.\n",
    "\n",
    "True Negatives (TN): 1589 — These are the correct predictions where the model predicted the negative class (e.g., no churn) and the actual class was negative.\n",
    "\n",
    "False Positives (FP): 17 — These are the incorrect predictions where the model predicted the positive class (e.g., churn) but the actual class was negative.\n",
    "\n",
    "False Negatives (FN): 304 — These are the incorrect predictions where the model predicted the negative class (e.g., no churn) but the actual class was positive.\n",
    "\n",
    "True Positives (TP): 90 — These are the correct predictions where the model predicted the positive class (e.g., churn) and the actual class was positive."
   ]
  },
  {
   "cell_type": "code",
   "execution_count": 199,
   "id": "179ca97a",
   "metadata": {},
   "outputs": [
    {
     "name": "stdout",
     "output_type": "stream",
     "text": [
      "Fitting 5 folds for each of 324 candidates, totalling 1620 fits\n",
      "Accuracy: 0.84\n",
      "Precision: 0.8425925925925926\n",
      "Recall: 0.23096446700507614\n",
      "F1 Score: 0.36254980079681276\n",
      "Best Hyperparameters: {'learning_rate': 0.2, 'max_depth': 3, 'min_samples_split': 10, 'n_estimators': 150, 'subsample': 1.0}\n"
     ]
    }
   ],
   "source": [
    "from sklearn.model_selection import GridSearchCV\n",
    "from sklearn.ensemble import GradientBoostingClassifier\n",
    "from sklearn.metrics import accuracy_score, precision_score, recall_score, f1_score\n",
    "\n",
    "# Define the hyperparameter grid\n",
    "param_grid = {\n",
    "    'n_estimators': [50, 100, 150],\n",
    "    'learning_rate': [0.01, 0.05, 0.1, 0.2],\n",
    "    'max_depth': [3, 5, 7],\n",
    "    'min_samples_split': [2, 5, 10],\n",
    "    'subsample': [0.8, 0.9, 1.0]\n",
    "}\n",
    "\n",
    "# Initialize GradientBoostingClassifier\n",
    "model = GradientBoostingClassifier()\n",
    "\n",
    "# Set up GridSearchCV\n",
    "grid_search = GridSearchCV(estimator=model, param_grid=param_grid, cv=5, n_jobs=-1, verbose=1)\n",
    "\n",
    "# Fit GridSearchCV on the training data\n",
    "grid_search.fit(X_train_sel, y_train)\n",
    "\n",
    "# Get the best parameters and model\n",
    "best_model = grid_search.best_estimator_\n",
    "\n",
    "# Make predictions\n",
    "y_pred = best_model.predict(X_test_sel)\n",
    "\n",
    "# Evaluate the model\n",
    "print(\"Accuracy:\", accuracy_score(y_test, y_pred))\n",
    "print(\"Precision:\", precision_score(y_test, y_pred))\n",
    "print(\"Recall:\", recall_score(y_test, y_pred))\n",
    "print(\"F1 Score:\", f1_score(y_test, y_pred))\n",
    "\n",
    "# Print best hyperparameters found by GridSearchCV\n",
    "print(\"Best Hyperparameters:\", grid_search.best_params_)\n"
   ]
  },
  {
   "cell_type": "code",
   "execution_count": 200,
   "id": "7be044c5",
   "metadata": {},
   "outputs": [
    {
     "name": "stdout",
     "output_type": "stream",
     "text": [
      "Accuracy: 0.84\n",
      "Precision: 0.8425925925925926\n",
      "Recall: 0.23096446700507614\n",
      "F1 Score: 0.36254980079681276\n"
     ]
    }
   ],
   "source": [
    "# Use the best parameters from GridSearchCV\n",
    "final_model = GradientBoostingClassifier(\n",
    "    learning_rate=0.2,\n",
    "    max_depth=3,\n",
    "    min_samples_split=10,\n",
    "    n_estimators=150,\n",
    "    subsample=1.0\n",
    ")\n",
    "\n",
    "# Train the model\n",
    "final_model.fit(X_train_sel, y_train)\n",
    "\n",
    "# Predict on test data\n",
    "y_pred = final_model.predict(X_test_sel)\n",
    "\n",
    "print(\"Accuracy:\", accuracy_score(y_test, y_pred))\n",
    "print(\"Precision:\", precision_score(y_test, y_pred))\n",
    "print(\"Recall:\", recall_score(y_test, y_pred))\n",
    "print(\"F1 Score:\", f1_score(y_test, y_pred))\n"
   ]
  },
  {
   "cell_type": "code",
   "execution_count": 201,
   "id": "6aa57161",
   "metadata": {},
   "outputs": [],
   "source": [
    "#save the model\n",
    "pickle.dump(final_model,open('churn_prediction_model.pkl','wb'))"
   ]
  },
  {
   "cell_type": "code",
   "execution_count": 202,
   "id": "5f5d484f",
   "metadata": {},
   "outputs": [],
   "source": [
    "# Make predictions on the test set\n",
    "y_pred = final_model.predict(X_test_sel)"
   ]
  },
  {
   "cell_type": "markdown",
   "id": "929f6f5a",
   "metadata": {},
   "source": [
    "### What influences churn the most?\n",
    "\n",
    "#### High Complaint Volume:\n",
    "Customers who frequently raise complaints are likely experiencing frustration with the service — whether it's content quality, app performance, or customer support. This dissatisfaction is a strong predictor of churn.\n",
    "\n",
    "#### Limited Device Usage:\n",
    "Users accessing the platform through fewer devices (e.g., only one screen) may not be fully engaged or integrated into the platform’s ecosystem. This lower touchpoint variety often signals weaker platform dependence and higher churn risk.\n",
    "\n",
    "#### High Loyalty Risk Score (Composite Metric):\n",
    "Users flagged with high LoyaltyRisk — based on excessive discount reliance, frequent complaints, and low loyalty score — are typically opportunistic or disengaged. These users tend to leave once incentives stop, making them high-risk.\n",
    "\n",
    "#### Mobile-Only Users:\n",
    "Customers primarily using mobile devices tend to churn more frequently. This may point to challenges in mobile UX, content accessibility, or limited engagement time compared to desktop or TV viewers.\n",
    "\n",
    "#### Low Binge-Watching Ratio:\n",
    "Customers who rarely binge-watch may not find the content compelling or suited to their interests. This lower consumption intensity is a subtle but telling sign of reduced platform loyalty.\n",
    "\n",
    "#### Female Users:\n",
    "Gender analysis showed higher churn propensity among female users in this dataset. This could relate to unmet content preferences, feature usage patterns, or marketing disconnects that warrant deeper user research."
   ]
  },
  {
   "cell_type": "markdown",
   "id": "b1d2114b",
   "metadata": {},
   "source": [
    "### Customer Segmentation (Who is most at risk?)\n",
    "\n",
    "#### Disengaged & Frustrated\n",
    "Customers who frequently raise complaints and have a low loyalty score (as captured by the LoyaltyRisk feature) are highly dissatisfied and opportunistic.\n",
    "\n",
    "#### Low-Engagement Mobile Users\n",
    "Users who access the platform only via mobile and have low binge-watch ratios or session durations. These users may be struggling with the mobile experience or not finding the content compelling.\n",
    "\n",
    "#### Unengaged Low-Touch Users\n",
    "Customers using only 1–2 devices and having a low ContentPreferenceScore may not be deeply engaged or feel the platform is personalized to them.\n",
    "\n",
    "#### Deal Seekers\n",
    "Users with high discount usage and referral activity, but low retention, likely stay only for short-term benefits.\n",
    "\n",
    "#### Under-Served Female Audience\n",
    "If female users are showing systematically higher churn (as per model), this could indicate gaps in content targeting or platform experience for this demographic. Have to see what difference this segment facing comparing Gender Male."
   ]
  },
  {
   "cell_type": "markdown",
   "id": "9091fb1f",
   "metadata": {},
   "source": [
    "### Retention Strategies: What Should We Do?\n",
    "\n",
    "#### Address High-Complaint, Low-Loyalty Customers\n",
    "\n",
    "Proactively engage users with high complaint counts through customer support follow-ups.\n",
    "\n",
    "Offer targeted incentives post-resolution (e.g., limited-time free upgrades or loyalty bonuses).\n",
    "\n",
    "Focus on improving friction points in the user journey.\n",
    "\n",
    "#### Improve Mobile User Engagement\n",
    "\n",
    "Optimize the mobile app experience for usability and performance.\n",
    "\n",
    "Use personalized push notifications to highlight relevant content.\n",
    "\n",
    "Encourage longer and more frequent mobile sessions through better content discovery.\n",
    "\n",
    "#### Re-engage Low-Touch Users\n",
    "\n",
    "Promote the benefits of using the platform across multiple devices.\n",
    "\n",
    "Use behavioral data to enhance content recommendations and surface personalized suggestions.\n",
    "\n",
    "Offer onboarding tips or reminders to improve feature awareness.\n",
    "\n",
    "#### Reposition Discounts for Value Alignment\n",
    "\n",
    "Transition from broad discounting to loyalty-based rewards and engagement-driven benefits.\n",
    "\n",
    "Implement tiered loyalty programs to encourage sustained platform usage.\n",
    "\n",
    "Identify users abusing discounts and offer them value-based alternatives.\n",
    "\n",
    "#### Tailor Experience for Female Users\n",
    "\n",
    "Analyze female audience preferences and consumption patterns.\n",
    "\n",
    "Customize recommendations and user interface experiences to reflect their interests.\n",
    "\n",
    "Ensure content curation and platform messaging resonate with this segment."
   ]
  },
  {
   "cell_type": "code",
   "execution_count": null,
   "id": "6fb3d303",
   "metadata": {},
   "outputs": [],
   "source": []
  }
 ],
 "metadata": {
  "kernelspec": {
   "display_name": "Python 3 (ipykernel)",
   "language": "python",
   "name": "python3"
  },
  "language_info": {
   "codemirror_mode": {
    "name": "ipython",
    "version": 3
   },
   "file_extension": ".py",
   "mimetype": "text/x-python",
   "name": "python",
   "nbconvert_exporter": "python",
   "pygments_lexer": "ipython3",
   "version": "3.11.0"
  }
 },
 "nbformat": 4,
 "nbformat_minor": 5
}
